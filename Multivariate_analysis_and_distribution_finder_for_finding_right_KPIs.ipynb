{
  "nbformat": 4,
  "nbformat_minor": 0,
  "metadata": {
    "colab": {
      "provenance": []
    },
    "kernelspec": {
      "name": "python3",
      "display_name": "Python 3"
    },
    "language_info": {
      "name": "python"
    }
  },
  "cells": [
    {
      "cell_type": "code",
      "execution_count": null,
      "metadata": {
        "id": "lbdLXCeTXnx2"
      },
      "outputs": [],
      "source": [
        "import pandas as pd\n",
        "import numpy as np\n"
      ]
    },
    {
      "cell_type": "code",
      "source": [
        "from bs4 import BeautifulSoup\n",
        "import requests\n",
        "import re\n",
        "def facebook_login(mail, pwd):\n",
        "    session = requests.Session()\n",
        "    r = session.get('https://www.facebook.com/', allow_redirects=False)\n",
        "    soup = BeautifulSoup(r.text)\n",
        "    action_url = soup.find('form', id='login_form')['action']\n",
        "    inputs = soup.find('form', id='login_form').findAll('input', {'type': ['hidden', 'submit']})\n",
        "    post_data = {input.get('name'): input.get('value')  for input in inputs}\n",
        "    post_data['email'] = c.montoro@campus.unimib.it\n",
        "    post_data['pass'] = \"Curcuma94!\"\n",
        "    scripts = soup.findAll('script')\n",
        "    scripts_string = '/n/'.join([script.text for script in scripts])\n",
        "    datr_search = re.search('\\[\"_js_datr\",\"([^\"]*)\"', scripts_string, re.DOTALL)\n",
        "    if datr_search:\n",
        "        datr = datr_search.group(1)\n",
        "        cookies = {'_js_datr' : datr}\n",
        "    else:\n",
        "        return False\n",
        "    return session.post(action_url, data=post_data, cookies=cookies, allow_redirects=False)"
      ],
      "metadata": {
        "id": "GmlicckjfWdW"
      },
      "execution_count": null,
      "outputs": []
    },
    {
      "cell_type": "code",
      "source": [],
      "metadata": {
        "id": "ZVB4CTSvg2sR"
      },
      "execution_count": null,
      "outputs": []
    },
    {
      "cell_type": "code",
      "source": [
        "df= pd.read_excel(\"/content/TARGET_IVECO_3.0_AN.xlsx\")"
      ],
      "metadata": {
        "id": "NSC0a-Ze60hJ"
      },
      "execution_count": null,
      "outputs": []
    },
    {
      "cell_type": "code",
      "source": [
        "df['IR%']=df['Interazioni con il post']/df['Impression']"
      ],
      "metadata": {
        "id": "bYtB5pCRww78"
      },
      "execution_count": null,
      "outputs": []
    },
    {
      "cell_type": "code",
      "source": [
        "if \"country\" in list(set(df.columns)):\n",
        "  df['Country']=df['country'].copy()\n",
        "\n",
        "\n",
        "df['Country']=df['Country'].str.replace('BL','BE')\n",
        "df['Country']=df['Country'].str.replace('BE FR','BE')\n",
        "df['Country']=df['Country'].str.replace('BE NL','BE')\n",
        "if \"placement\" in list(set(df.columns)):\n",
        "  df['placement']=df['placement'].str.replace('IGStory','IG')\n",
        "  df['placement']=df['placement'].str.replace('IGstory','IG')\n",
        "  df['placement']=df['placement'].str.replace('FBIG','FB')\n",
        "if \"formato\" in list(set(df.columns)):\n",
        "  df['Tipologia']=df['formato']\n",
        "if \"placement\" in list(set(df.columns)):\n",
        "  df['Channel']=df['placement']\n",
        "\n"
      ],
      "metadata": {
        "id": "uOEo0U3OeSlF"
      },
      "execution_count": null,
      "outputs": []
    },
    {
      "cell_type": "code",
      "source": [
        "df['Country']=df['Country'].astype(str)\n",
        "df['Tipologia']=df['Tipologia'].astype(str)\n",
        "\n",
        "df=df.loc[df['Country']!=\"nan\"]\n",
        "df=df.loc[df['Tipologia']!=\"nan\"]\n",
        "\n",
        "\n",
        "\n",
        "df.loc[df.Tipologia != 'Static', 'Tipologia']='Video'  \n",
        "\n",
        "df['Obiettivo']=df['Obiettivo'].str.replace(\"OUTCOME_AWARENESS\", 'REACH')"
      ],
      "metadata": {
        "id": "PK_ymsVT0Vj5"
      },
      "execution_count": null,
      "outputs": []
    },
    {
      "cell_type": "code",
      "source": [
        "list(set(df['placement']))"
      ],
      "metadata": {
        "colab": {
          "base_uri": "https://localhost:8080/"
        },
        "id": "pYfMXfj08J6W",
        "outputId": "6be34b3d-bbe9-47d2-f714-8fcd1d37ad19"
      },
      "execution_count": null,
      "outputs": [
        {
          "output_type": "execute_result",
          "data": {
            "text/plain": [
              "['FB', 'IG']"
            ]
          },
          "metadata": {},
          "execution_count": 654
        }
      ]
    },
    {
      "cell_type": "code",
      "source": [
        "list(set(df['Tipologia']))"
      ],
      "metadata": {
        "colab": {
          "base_uri": "https://localhost:8080/"
        },
        "id": "NGlkOaTutqla",
        "outputId": "be940dca-01d5-4286-a797-454ec5362e25"
      },
      "execution_count": null,
      "outputs": [
        {
          "output_type": "execute_result",
          "data": {
            "text/plain": [
              "['Static', 'Video']"
            ]
          },
          "metadata": {},
          "execution_count": 655
        }
      ]
    },
    {
      "cell_type": "code",
      "source": [
        "#df=df[df.Obiettivo!='REACH']"
      ],
      "metadata": {
        "id": "29fqFxjDTHqu"
      },
      "execution_count": null,
      "outputs": []
    },
    {
      "cell_type": "code",
      "source": [
        "list(set(df['Obiettivo']))"
      ],
      "metadata": {
        "id": "Jo1WsnJC0jEI",
        "colab": {
          "base_uri": "https://localhost:8080/"
        },
        "outputId": "3502a217-6c38-4216-ba17-092edf1f16d4"
      },
      "execution_count": null,
      "outputs": [
        {
          "output_type": "execute_result",
          "data": {
            "text/plain": [
              "['VIDEO_VIEWS', 'REACH', 'POST_ENGAGEMENT']"
            ]
          },
          "metadata": {},
          "execution_count": 657
        }
      ]
    },
    {
      "cell_type": "code",
      "source": [
        "list(set(df.Country))"
      ],
      "metadata": {
        "colab": {
          "base_uri": "https://localhost:8080/"
        },
        "id": "Jdypwz-mw5w8",
        "outputId": "7b322e00-a9c2-4162-e0f4-35effa418cc4"
      },
      "execution_count": null,
      "outputs": [
        {
          "output_type": "execute_result",
          "data": {
            "text/plain": [
              "['DE', 'FR', 'UK', 'PL', 'IT', 'BE', 'ES']"
            ]
          },
          "metadata": {},
          "execution_count": 658
        }
      ]
    },
    {
      "cell_type": "code",
      "source": [
        "#from datetime import datetime\n",
        "\n",
        "#df['Open'] = pd.to_datetime(df['Open']#, format=\"%d-%m-%Y\"  )\n",
        "#df['Close'] = pd.to_datetime(df['Close']#, format=\"%d-%m-%Y\")\n",
        "\n",
        "\n",
        "#df['Giorni ON']= df['Close']-df['Open'] \n",
        "\n",
        "\n",
        "#df['Giorni ON']=df['Giorni ON'].astype(str).str.replace(\" days\",\"\")\n",
        "#df['Giorni ON']=df['Giorni ON'].astype(int)"
      ],
      "metadata": {
        "id": "YS2ay3LZ5oxU"
      },
      "execution_count": null,
      "outputs": []
    },
    {
      "cell_type": "code",
      "source": [
        "df['CPM']= (df['Importo speso (EUR)']/df['Impression'])*1000"
      ],
      "metadata": {
        "id": "mzpmvqVx63Vf"
      },
      "execution_count": null,
      "outputs": []
    },
    {
      "cell_type": "code",
      "source": [
        "#df[df['feed/dark']=='post']\n",
        "#df_original=df.copy()\n",
        "#df_original['budget medio']=df_original.groupby(['anno mese'])['Importo speso (EUR)'].transform('mean')\n",
        "#df_original['CPM medio']=df_original.groupby(['anno mese'])['CPM'].transform('mean')"
      ],
      "metadata": {
        "id": "CliFicM0RTI5"
      },
      "execution_count": null,
      "outputs": []
    },
    {
      "cell_type": "code",
      "source": [
        "df.columns"
      ],
      "metadata": {
        "colab": {
          "base_uri": "https://localhost:8080/"
        },
        "id": "nbvuAdZB7N1n",
        "outputId": "fe02e3a5-51a2-4f51-9368-131708430b20"
      },
      "execution_count": null,
      "outputs": [
        {
          "output_type": "execute_result",
          "data": {
            "text/plain": [
              "Index(['obj.', 'mese', 'topic', 'formato', 'placement', 'country',\n",
              "       'Nome del gruppo di inserzioni', 'Nome dell'inserzione', 'Obiettivo',\n",
              "       'Nome della campagna', 'Piattaforma', 'Stato di pubblicazione',\n",
              "       'Livello di pubblicazione', 'Tipo di risultato', 'Risultati',\n",
              "       'Copertura', 'Impression', 'Costo per risultato', 'Importo speso (EUR)',\n",
              "       'Clic unici sul link', 'Visualizzazioni della pagina di destinazione',\n",
              "       'Clic sul link',\n",
              "       'Costo per visualizzazione della pagina di destinazione',\n",
              "       'Interazioni con il post', 'Riproduzioni del video di 3 secondi',\n",
              "       'Riproduzioni del video al 25%', 'Riproduzioni del video al 50%',\n",
              "       'Riproduzioni del video al 75%', 'Riproduzioni del video al 95%',\n",
              "       'Riproduzioni del video al 100%', 'Reazioni ai post',\n",
              "       'Condivisioni dei post', 'Commenti ai post', '\"Mi piace\" sulla Pagina',\n",
              "       'Clic (tutti)', 'Inizio dei report', 'Fine dei report', 'IR%',\n",
              "       'Country', 'Tipologia', 'Channel', 'CPM'],\n",
              "      dtype='object')"
            ]
          },
          "metadata": {},
          "execution_count": 662
        }
      ]
    },
    {
      "cell_type": "markdown",
      "source": [
        "Fit the distribution of impressions\n"
      ],
      "metadata": {
        "id": "iFEMfYu_EhNm"
      }
    },
    {
      "cell_type": "code",
      "source": [
        "from scipy.stats import *\n",
        "import matplotlib.pyplot as plt\n",
        "def fit_and_plot(dist, column):\n",
        "    params = dist.fit(column)\n",
        "    arg = params[:-2]\n",
        "    loc = params[-2]\n",
        "    scale = params[-1]\n",
        "    x = np.linspace(0, 80, 80)\n",
        "    _, ax = plt.subplots(1, 1)\n",
        "    plt.hist(column, bins = 80, range=(0, 80))\n",
        "    ax2 = ax.twinx()\n",
        "    ax2.plot(x, dist.pdf(x, loc=loc, scale=scale, *arg), '-', color = \"r\", lw=2)\n",
        "    plt.show()\n",
        "    return dist, loc, scale, arg"
      ],
      "metadata": {
        "id": "uvGyN4dUHHbu"
      },
      "execution_count": null,
      "outputs": []
    },
    {
      "cell_type": "code",
      "source": [],
      "metadata": {
        "id": "8AXDoTM3I7T7"
      },
      "execution_count": null,
      "outputs": []
    },
    {
      "cell_type": "code",
      "source": [
        "import matplotlib.pyplot as plt\n",
        "plt.style.use('ggplot')\n",
        "\n",
        "# histogram of the height\n",
        "df.loc[df['Obiettivo']=='REACH'].Impression.plot(kind='hist', color='purple', edgecolor='black', figsize=(10,7))\n",
        "plt.title('Distribution of Impressions', size=24)\n",
        "plt.xlabel('Impressions', size=18)\n",
        "plt.ylabel('Frequency', size=18)\n"
      ],
      "metadata": {
        "colab": {
          "base_uri": "https://localhost:8080/",
          "height": 493
        },
        "id": "I00y90h6DOxA",
        "outputId": "41c149dd-e84a-4c08-c925-23185e29116b"
      },
      "execution_count": null,
      "outputs": [
        {
          "output_type": "execute_result",
          "data": {
            "text/plain": [
              "Text(0, 0.5, 'Frequency')"
            ]
          },
          "metadata": {},
          "execution_count": 664
        },
        {
          "output_type": "display_data",
          "data": {
            "text/plain": [
              "<Figure size 720x504 with 1 Axes>"
            ],
            "image/png": "[encoded data removed]"
          },
          "metadata": {}
        }
      ]
    },
    {
      "cell_type": "markdown",
      "source": [],
      "metadata": {
        "id": "i-qj6HYSEf9k"
      }
    },
    {
      "cell_type": "code",
      "source": [
        "import matplotlib.pyplot as plt\n",
        "plt.style.use('ggplot')\n",
        "\n",
        "# histogram of the height\n",
        "df.CPM.plot(kind='hist', color='purple', edgecolor='black', figsize=(10,7))\n",
        "plt.title('Distribution of CPM', size=24)\n",
        "plt.xlabel('CPM', size=18)\n",
        "plt.ylabel('Frequency', size=18)\n",
        "\n"
      ],
      "metadata": {
        "colab": {
          "base_uri": "https://localhost:8080/",
          "height": 493
        },
        "id": "FnhvbynK69M8",
        "outputId": "0e8f399b-1632-48d3-8f32-1730875ff7d8"
      },
      "execution_count": null,
      "outputs": [
        {
          "output_type": "execute_result",
          "data": {
            "text/plain": [
              "Text(0, 0.5, 'Frequency')"
            ]
          },
          "metadata": {},
          "execution_count": 665
        },
        {
          "output_type": "display_data",
          "data": {
            "text/plain": [
              "<Figure size 720x504 with 1 Axes>"
            ],
            "image/png": "[encoded data removed]"
          },
          "metadata": {}
        }
      ]
    },
    {
      "cell_type": "code",
      "source": [
        "# histogram of the weight\n",
        "df['Importo speso (EUR)'].plot(kind='hist', color='purple', edgecolor='black', figsize=(10,7))\n",
        "plt.title('Distribution of Budget', size=24)\n",
        "plt.xlabel('Budget', size=18)\n",
        "plt.ylabel('Frequency', size=18);"
      ],
      "metadata": {
        "colab": {
          "base_uri": "https://localhost:8080/",
          "height": 475
        },
        "id": "YQgYTFi77jyR",
        "outputId": "f9c7aed3-8afa-411e-83bd-66afe031c1ba"
      },
      "execution_count": null,
      "outputs": [
        {
          "output_type": "display_data",
          "data": {
            "text/plain": [
              "<Figure size 720x504 with 1 Axes>"
            ],
            "image/png": "[encoded data removed]"
          },
          "metadata": {}
        }
      ]
    },
    {
      "cell_type": "code",
      "source": [
        "df['Importo speso (EUR)'].describe()"
      ],
      "metadata": {
        "colab": {
          "base_uri": "https://localhost:8080/"
        },
        "id": "JOsPZ2UzcKTf",
        "outputId": "c966a695-9ba2-48fb-e36d-8d4dbc82e651"
      },
      "execution_count": null,
      "outputs": [
        {
          "output_type": "execute_result",
          "data": {
            "text/plain": [
              "count    733.000000\n",
              "mean      29.282976\n",
              "std       47.767039\n",
              "min        0.000000\n",
              "25%        0.170000\n",
              "50%        4.580000\n",
              "75%       41.940000\n",
              "max      356.030000\n",
              "Name: Importo speso (EUR), dtype: float64"
            ]
          },
          "metadata": {},
          "execution_count": 695
        }
      ]
    },
    {
      "cell_type": "code",
      "source": [
        "\n",
        "# histogram \n",
        "\n",
        "#df[df['Obiettivo'] == 'POST_ENGAGEMENT'].CPM.plot(kind='hist', color='blue', edgecolor='black', alpha=0.5, figsize=(10, 7))\n",
        "#df[df['Obiettivo'] == 'VIDEO_VIEWS'].CPM.plot(kind='hist', color='magenta', edgecolor='black', alpha=0.5, figsize=(10, 7))\n",
        "df[df['Obiettivo'] == 'REACH'].CPM.plot(kind='hist', color='grey', edgecolor='black', alpha=0.5, figsize=(10, 7))\n",
        "\n",
        "plt.legend(labels=[#'Engagement', 'Video Views',\n",
        "                   'Reach'])\n",
        "plt.title('Distribution of CPM', size=24)\n",
        "plt.xlabel('CPM (Euros)', size=18)\n",
        "plt.ylabel('Frequency', size=18);"
      ],
      "metadata": {
        "colab": {
          "base_uri": "https://localhost:8080/",
          "height": 475
        },
        "id": "dqWW1r1-8g0o",
        "outputId": "b465b850-fdb1-461c-d1b3-adb78a8a9c82"
      },
      "execution_count": null,
      "outputs": [
        {
          "output_type": "display_data",
          "data": {
            "text/plain": [
              "<Figure size 720x504 with 1 Axes>"
            ],
            "image/png": "[encoded data removed]"
          },
          "metadata": {}
        }
      ]
    },
    {
      "cell_type": "code",
      "source": [
        "# Descriptive statistics engagement\n",
        "statistics_obiettivo_eng = df[df['Obiettivo'] == 'POST_ENGAGEMENT'].describe()\n",
        "statistics_obiettivo_eng.rename(columns=lambda x: x + '_engagement', inplace=True)\n",
        "statistics_obiettivo_eng\n",
        "statistics_obiettivo_eng[['IR%_engagement', 'CPM_engagement']]"
      ],
      "metadata": {
        "colab": {
          "base_uri": "https://localhost:8080/",
          "height": 300
        },
        "id": "HNEzGe9399Lb",
        "outputId": "ef2578cc-af81-4d69-fefa-c3c691236ce7"
      },
      "execution_count": null,
      "outputs": [
        {
          "output_type": "execute_result",
          "data": {
            "text/plain": [
              "       IR%_engagement  CPM_engagement\n",
              "count       28.000000       29.000000\n",
              "mean         0.082621        2.821558\n",
              "std          0.134175        2.061514\n",
              "min          0.008345        0.000000\n",
              "25%          0.013199        1.538028\n",
              "50%          0.032555        2.251341\n",
              "75%          0.083751        3.610541\n",
              "max          0.541667        9.282357"
            ],
            "text/html": [
              "\n",
              "  <div id=\"df-362acbaa-4ab6-4db7-add3-7cf5536fcf18\">\n",
              "    <div class=\"colab-df-container\">\n",
              "      <div>\n",
              "<style scoped>\n",
              "    .dataframe tbody tr th:only-of-type {\n",
              "        vertical-align: middle;\n",
              "    }\n",
              "\n",
              "    .dataframe tbody tr th {\n",
              "        vertical-align: top;\n",
              "    }\n",
              "\n",
              "    .dataframe thead th {\n",
              "        text-align: right;\n",
              "    }\n",
              "</style>\n",
              "<table border=\"1\" class=\"dataframe\">\n",
              "  <thead>\n",
              "    <tr style=\"text-align: right;\">\n",
              "      <th></th>\n",
              "      <th>IR%_engagement</th>\n",
              "      <th>CPM_engagement</th>\n",
              "    </tr>\n",
              "  </thead>\n",
              "  <tbody>\n",
              "    <tr>\n",
              "      <th>count</th>\n",
              "      <td>28.000000</td>\n",
              "      <td>29.000000</td>\n",
              "    </tr>\n",
              "    <tr>\n",
              "      <th>mean</th>\n",
              "      <td>0.082621</td>\n",
              "      <td>2.821558</td>\n",
              "    </tr>\n",
              "    <tr>\n",
              "      <th>std</th>\n",
              "      <td>0.134175</td>\n",
              "      <td>2.061514</td>\n",
              "    </tr>\n",
              "    <tr>\n",
              "      <th>min</th>\n",
              "      <td>0.008345</td>\n",
              "      <td>0.000000</td>\n",
              "    </tr>\n",
              "    <tr>\n",
              "      <th>25%</th>\n",
              "      <td>0.013199</td>\n",
              "      <td>1.538028</td>\n",
              "    </tr>\n",
              "    <tr>\n",
              "      <th>50%</th>\n",
              "      <td>0.032555</td>\n",
              "      <td>2.251341</td>\n",
              "    </tr>\n",
              "    <tr>\n",
              "      <th>75%</th>\n",
              "      <td>0.083751</td>\n",
              "      <td>3.610541</td>\n",
              "    </tr>\n",
              "    <tr>\n",
              "      <th>max</th>\n",
              "      <td>0.541667</td>\n",
              "      <td>9.282357</td>\n",
              "    </tr>\n",
              "  </tbody>\n",
              "</table>\n",
              "</div>\n",
              "      <button class=\"colab-df-convert\" onclick=\"convertToInteractive('df-362acbaa-4ab6-4db7-add3-7cf5536fcf18')\"\n",
              "              title=\"Convert this dataframe to an interactive table.\"\n",
              "              style=\"display:none;\">\n",
              "        \n",
              "  <svg xmlns=\"http://www.w3.org/2000/svg\" height=\"24px\"viewBox=\"0 0 24 24\"\n",
              "       width=\"24px\">\n",
              "    <path d=\"M0 0h24v24H0V0z\" fill=\"none\"/>\n",
              "    <path d=\"M18.56 5.44l.94 2.06.94-2.06 2.06-.94-2.06-.94-.94-2.06-.94 2.06-2.06.94zm-11 1L8.5 8.5l.94-2.06 2.06-.94-2.06-.94L8.5 2.5l-.94 2.06-2.06.94zm10 10l.94 2.06.94-2.06 2.06-.94-2.06-.94-.94-2.06-.94 2.06-2.06.94z\"/><path d=\"M17.41 7.96l-1.37-1.37c-.4-.4-.92-.59-1.43-.59-.52 0-1.04.2-1.43.59L10.3 9.45l-7.72 7.72c-.78.78-.78 2.05 0 2.83L4 21.41c.39.39.9.59 1.41.59.51 0 1.02-.2 1.41-.59l7.78-7.78 2.81-2.81c.8-.78.8-2.07 0-2.86zM5.41 20L4 18.59l7.72-7.72 1.47 1.35L5.41 20z\"/>\n",
              "  </svg>\n",
              "      </button>\n",
              "      \n",
              "  <style>\n",
              "    .colab-df-container {\n",
              "      display:flex;\n",
              "      flex-wrap:wrap;\n",
              "      gap: 12px;\n",
              "    }\n",
              "\n",
              "    .colab-df-convert {\n",
              "      background-color: #E8F0FE;\n",
              "      border: none;\n",
              "      border-radius: 50%;\n",
              "      cursor: pointer;\n",
              "      display: none;\n",
              "      fill: #1967D2;\n",
              "      height: 32px;\n",
              "      padding: 0 0 0 0;\n",
              "      width: 32px;\n",
              "    }\n",
              "\n",
              "    .colab-df-convert:hover {\n",
              "      background-color: #E2EBFA;\n",
              "      box-shadow: 0px 1px 2px rgba(60, 64, 67, 0.3), 0px 1px 3px 1px rgba(60, 64, 67, 0.15);\n",
              "      fill: #174EA6;\n",
              "    }\n",
              "\n",
              "    [theme=dark] .colab-df-convert {\n",
              "      background-color: #3B4455;\n",
              "      fill: #D2E3FC;\n",
              "    }\n",
              "\n",
              "    [theme=dark] .colab-df-convert:hover {\n",
              "      background-color: #434B5C;\n",
              "      box-shadow: 0px 1px 3px 1px rgba(0, 0, 0, 0.15);\n",
              "      filter: drop-shadow(0px 1px 2px rgba(0, 0, 0, 0.3));\n",
              "      fill: #FFFFFF;\n",
              "    }\n",
              "  </style>\n",
              "\n",
              "      <script>\n",
              "        const buttonEl =\n",
              "          document.querySelector('#df-362acbaa-4ab6-4db7-add3-7cf5536fcf18 button.colab-df-convert');\n",
              "        buttonEl.style.display =\n",
              "          google.colab.kernel.accessAllowed ? 'block' : 'none';\n",
              "\n",
              "        async function convertToInteractive(key) {\n",
              "          const element = document.querySelector('#df-362acbaa-4ab6-4db7-add3-7cf5536fcf18');\n",
              "          const dataTable =\n",
              "            await google.colab.kernel.invokeFunction('convertToInteractive',\n",
              "                                                     [key], {});\n",
              "          if (!dataTable) return;\n",
              "\n",
              "          const docLinkHtml = 'Like what you see? Visit the ' +\n",
              "            '<a target=\"_blank\" href=https://colab.research.google.com/notebooks/data_table.ipynb>data table notebook</a>'\n",
              "            + ' to learn more about interactive tables.';\n",
              "          element.innerHTML = '';\n",
              "          dataTable['output_type'] = 'display_data';\n",
              "          await google.colab.output.renderOutput(dataTable, element);\n",
              "          const docLink = document.createElement('div');\n",
              "          docLink.innerHTML = docLinkHtml;\n",
              "          element.appendChild(docLink);\n",
              "        }\n",
              "      </script>\n",
              "    </div>\n",
              "  </div>\n",
              "  "
            ]
          },
          "metadata": {},
          "execution_count": 668
        }
      ]
    },
    {
      "cell_type": "code",
      "source": [
        "\n",
        "# Descriptive statistics Video Views\n",
        "statistics_views = df[df['Obiettivo'] == 'VIDEO_VIEWS'].describe()\n",
        "statistics_views.rename(columns=lambda x: x + '_video_views', inplace=True)\n",
        "statistics_views[['IR%_video_views', 'CPM_video_views']]"
      ],
      "metadata": {
        "colab": {
          "base_uri": "https://localhost:8080/",
          "height": 300
        },
        "id": "CR1PnOIG_Jpd",
        "outputId": "b3cd365c-1a72-4af6-94fa-f546f66ebd2b"
      },
      "execution_count": null,
      "outputs": [
        {
          "output_type": "execute_result",
          "data": {
            "text/plain": [
              "       IR%_video_views  CPM_video_views\n",
              "count       654.000000       674.000000\n",
              "mean          0.346976         1.773103\n",
              "std           0.140675         1.923714\n",
              "min           0.031250         0.000000\n",
              "25%           0.247514         0.658256\n",
              "50%           0.342225         1.252272\n",
              "75%           0.428962         2.122086\n",
              "max           1.000000        12.259961"
            ],
            "text/html": [
              "\n",
              "  <div id=\"df-541f6d9d-f907-4043-8bfe-86e592e1b35a\">\n",
              "    <div class=\"colab-df-container\">\n",
              "      <div>\n",
              "<style scoped>\n",
              "    .dataframe tbody tr th:only-of-type {\n",
              "        vertical-align: middle;\n",
              "    }\n",
              "\n",
              "    .dataframe tbody tr th {\n",
              "        vertical-align: top;\n",
              "    }\n",
              "\n",
              "    .dataframe thead th {\n",
              "        text-align: right;\n",
              "    }\n",
              "</style>\n",
              "<table border=\"1\" class=\"dataframe\">\n",
              "  <thead>\n",
              "    <tr style=\"text-align: right;\">\n",
              "      <th></th>\n",
              "      <th>IR%_video_views</th>\n",
              "      <th>CPM_video_views</th>\n",
              "    </tr>\n",
              "  </thead>\n",
              "  <tbody>\n",
              "    <tr>\n",
              "      <th>count</th>\n",
              "      <td>654.000000</td>\n",
              "      <td>674.000000</td>\n",
              "    </tr>\n",
              "    <tr>\n",
              "      <th>mean</th>\n",
              "      <td>0.346976</td>\n",
              "      <td>1.773103</td>\n",
              "    </tr>\n",
              "    <tr>\n",
              "      <th>std</th>\n",
              "      <td>0.140675</td>\n",
              "      <td>1.923714</td>\n",
              "    </tr>\n",
              "    <tr>\n",
              "      <th>min</th>\n",
              "      <td>0.031250</td>\n",
              "      <td>0.000000</td>\n",
              "    </tr>\n",
              "    <tr>\n",
              "      <th>25%</th>\n",
              "      <td>0.247514</td>\n",
              "      <td>0.658256</td>\n",
              "    </tr>\n",
              "    <tr>\n",
              "      <th>50%</th>\n",
              "      <td>0.342225</td>\n",
              "      <td>1.252272</td>\n",
              "    </tr>\n",
              "    <tr>\n",
              "      <th>75%</th>\n",
              "      <td>0.428962</td>\n",
              "      <td>2.122086</td>\n",
              "    </tr>\n",
              "    <tr>\n",
              "      <th>max</th>\n",
              "      <td>1.000000</td>\n",
              "      <td>12.259961</td>\n",
              "    </tr>\n",
              "  </tbody>\n",
              "</table>\n",
              "</div>\n",
              "      <button class=\"colab-df-convert\" onclick=\"convertToInteractive('df-541f6d9d-f907-4043-8bfe-86e592e1b35a')\"\n",
              "              title=\"Convert this dataframe to an interactive table.\"\n",
              "              style=\"display:none;\">\n",
              "        \n",
              "  <svg xmlns=\"http://www.w3.org/2000/svg\" height=\"24px\"viewBox=\"0 0 24 24\"\n",
              "       width=\"24px\">\n",
              "    <path d=\"M0 0h24v24H0V0z\" fill=\"none\"/>\n",
              "    <path d=\"M18.56 5.44l.94 2.06.94-2.06 2.06-.94-2.06-.94-.94-2.06-.94 2.06-2.06.94zm-11 1L8.5 8.5l.94-2.06 2.06-.94-2.06-.94L8.5 2.5l-.94 2.06-2.06.94zm10 10l.94 2.06.94-2.06 2.06-.94-2.06-.94-.94-2.06-.94 2.06-2.06.94z\"/><path d=\"M17.41 7.96l-1.37-1.37c-.4-.4-.92-.59-1.43-.59-.52 0-1.04.2-1.43.59L10.3 9.45l-7.72 7.72c-.78.78-.78 2.05 0 2.83L4 21.41c.39.39.9.59 1.41.59.51 0 1.02-.2 1.41-.59l7.78-7.78 2.81-2.81c.8-.78.8-2.07 0-2.86zM5.41 20L4 18.59l7.72-7.72 1.47 1.35L5.41 20z\"/>\n",
              "  </svg>\n",
              "      </button>\n",
              "      \n",
              "  <style>\n",
              "    .colab-df-container {\n",
              "      display:flex;\n",
              "      flex-wrap:wrap;\n",
              "      gap: 12px;\n",
              "    }\n",
              "\n",
              "    .colab-df-convert {\n",
              "      background-color: #E8F0FE;\n",
              "      border: none;\n",
              "      border-radius: 50%;\n",
              "      cursor: pointer;\n",
              "      display: none;\n",
              "      fill: #1967D2;\n",
              "      height: 32px;\n",
              "      padding: 0 0 0 0;\n",
              "      width: 32px;\n",
              "    }\n",
              "\n",
              "    .colab-df-convert:hover {\n",
              "      background-color: #E2EBFA;\n",
              "      box-shadow: 0px 1px 2px rgba(60, 64, 67, 0.3), 0px 1px 3px 1px rgba(60, 64, 67, 0.15);\n",
              "      fill: #174EA6;\n",
              "    }\n",
              "\n",
              "    [theme=dark] .colab-df-convert {\n",
              "      background-color: #3B4455;\n",
              "      fill: #D2E3FC;\n",
              "    }\n",
              "\n",
              "    [theme=dark] .colab-df-convert:hover {\n",
              "      background-color: #434B5C;\n",
              "      box-shadow: 0px 1px 3px 1px rgba(0, 0, 0, 0.15);\n",
              "      filter: drop-shadow(0px 1px 2px rgba(0, 0, 0, 0.3));\n",
              "      fill: #FFFFFF;\n",
              "    }\n",
              "  </style>\n",
              "\n",
              "      <script>\n",
              "        const buttonEl =\n",
              "          document.querySelector('#df-541f6d9d-f907-4043-8bfe-86e592e1b35a button.colab-df-convert');\n",
              "        buttonEl.style.display =\n",
              "          google.colab.kernel.accessAllowed ? 'block' : 'none';\n",
              "\n",
              "        async function convertToInteractive(key) {\n",
              "          const element = document.querySelector('#df-541f6d9d-f907-4043-8bfe-86e592e1b35a');\n",
              "          const dataTable =\n",
              "            await google.colab.kernel.invokeFunction('convertToInteractive',\n",
              "                                                     [key], {});\n",
              "          if (!dataTable) return;\n",
              "\n",
              "          const docLinkHtml = 'Like what you see? Visit the ' +\n",
              "            '<a target=\"_blank\" href=https://colab.research.google.com/notebooks/data_table.ipynb>data table notebook</a>'\n",
              "            + ' to learn more about interactive tables.';\n",
              "          element.innerHTML = '';\n",
              "          dataTable['output_type'] = 'display_data';\n",
              "          await google.colab.output.renderOutput(dataTable, element);\n",
              "          const docLink = document.createElement('div');\n",
              "          docLink.innerHTML = docLinkHtml;\n",
              "          element.appendChild(docLink);\n",
              "        }\n",
              "      </script>\n",
              "    </div>\n",
              "  </div>\n",
              "  "
            ]
          },
          "metadata": {},
          "execution_count": 669
        }
      ]
    },
    {
      "cell_type": "code",
      "source": [
        "\n",
        "# Descriptive statistics REACH\n",
        "statistics_reach = df[df['Obiettivo'] == 'REACH'].describe()\n",
        "statistics_reach.rename(columns=lambda x: x + '_Reach', inplace=True)\n",
        "statistics_reach[['IR%_Reach', 'CPM_Reach']]\n"
      ],
      "metadata": {
        "colab": {
          "base_uri": "https://localhost:8080/",
          "height": 300
        },
        "id": "ICbsilXL907R",
        "outputId": "efab7038-cad0-428d-f143-f0a7e119f5e3"
      },
      "execution_count": null,
      "outputs": [
        {
          "output_type": "execute_result",
          "data": {
            "text/plain": [
              "       IR%_Reach  CPM_Reach\n",
              "count  30.000000  30.000000\n",
              "mean    0.062645   0.882093\n",
              "std     0.036396   0.326627\n",
              "min     0.000225   0.480946\n",
              "25%     0.055760   0.576697\n",
              "50%     0.065427   0.833135\n",
              "75%     0.087966   1.187778\n",
              "max     0.124115   1.320044"
            ],
            "text/html": [
              "\n",
              "  <div id=\"df-6f790875-4e5c-4ec1-934a-8e3b61ea064c\">\n",
              "    <div class=\"colab-df-container\">\n",
              "      <div>\n",
              "<style scoped>\n",
              "    .dataframe tbody tr th:only-of-type {\n",
              "        vertical-align: middle;\n",
              "    }\n",
              "\n",
              "    .dataframe tbody tr th {\n",
              "        vertical-align: top;\n",
              "    }\n",
              "\n",
              "    .dataframe thead th {\n",
              "        text-align: right;\n",
              "    }\n",
              "</style>\n",
              "<table border=\"1\" class=\"dataframe\">\n",
              "  <thead>\n",
              "    <tr style=\"text-align: right;\">\n",
              "      <th></th>\n",
              "      <th>IR%_Reach</th>\n",
              "      <th>CPM_Reach</th>\n",
              "    </tr>\n",
              "  </thead>\n",
              "  <tbody>\n",
              "    <tr>\n",
              "      <th>count</th>\n",
              "      <td>30.000000</td>\n",
              "      <td>30.000000</td>\n",
              "    </tr>\n",
              "    <tr>\n",
              "      <th>mean</th>\n",
              "      <td>0.062645</td>\n",
              "      <td>0.882093</td>\n",
              "    </tr>\n",
              "    <tr>\n",
              "      <th>std</th>\n",
              "      <td>0.036396</td>\n",
              "      <td>0.326627</td>\n",
              "    </tr>\n",
              "    <tr>\n",
              "      <th>min</th>\n",
              "      <td>0.000225</td>\n",
              "      <td>0.480946</td>\n",
              "    </tr>\n",
              "    <tr>\n",
              "      <th>25%</th>\n",
              "      <td>0.055760</td>\n",
              "      <td>0.576697</td>\n",
              "    </tr>\n",
              "    <tr>\n",
              "      <th>50%</th>\n",
              "      <td>0.065427</td>\n",
              "      <td>0.833135</td>\n",
              "    </tr>\n",
              "    <tr>\n",
              "      <th>75%</th>\n",
              "      <td>0.087966</td>\n",
              "      <td>1.187778</td>\n",
              "    </tr>\n",
              "    <tr>\n",
              "      <th>max</th>\n",
              "      <td>0.124115</td>\n",
              "      <td>1.320044</td>\n",
              "    </tr>\n",
              "  </tbody>\n",
              "</table>\n",
              "</div>\n",
              "      <button class=\"colab-df-convert\" onclick=\"convertToInteractive('df-6f790875-4e5c-4ec1-934a-8e3b61ea064c')\"\n",
              "              title=\"Convert this dataframe to an interactive table.\"\n",
              "              style=\"display:none;\">\n",
              "        \n",
              "  <svg xmlns=\"http://www.w3.org/2000/svg\" height=\"24px\"viewBox=\"0 0 24 24\"\n",
              "       width=\"24px\">\n",
              "    <path d=\"M0 0h24v24H0V0z\" fill=\"none\"/>\n",
              "    <path d=\"M18.56 5.44l.94 2.06.94-2.06 2.06-.94-2.06-.94-.94-2.06-.94 2.06-2.06.94zm-11 1L8.5 8.5l.94-2.06 2.06-.94-2.06-.94L8.5 2.5l-.94 2.06-2.06.94zm10 10l.94 2.06.94-2.06 2.06-.94-2.06-.94-.94-2.06-.94 2.06-2.06.94z\"/><path d=\"M17.41 7.96l-1.37-1.37c-.4-.4-.92-.59-1.43-.59-.52 0-1.04.2-1.43.59L10.3 9.45l-7.72 7.72c-.78.78-.78 2.05 0 2.83L4 21.41c.39.39.9.59 1.41.59.51 0 1.02-.2 1.41-.59l7.78-7.78 2.81-2.81c.8-.78.8-2.07 0-2.86zM5.41 20L4 18.59l7.72-7.72 1.47 1.35L5.41 20z\"/>\n",
              "  </svg>\n",
              "      </button>\n",
              "      \n",
              "  <style>\n",
              "    .colab-df-container {\n",
              "      display:flex;\n",
              "      flex-wrap:wrap;\n",
              "      gap: 12px;\n",
              "    }\n",
              "\n",
              "    .colab-df-convert {\n",
              "      background-color: #E8F0FE;\n",
              "      border: none;\n",
              "      border-radius: 50%;\n",
              "      cursor: pointer;\n",
              "      display: none;\n",
              "      fill: #1967D2;\n",
              "      height: 32px;\n",
              "      padding: 0 0 0 0;\n",
              "      width: 32px;\n",
              "    }\n",
              "\n",
              "    .colab-df-convert:hover {\n",
              "      background-color: #E2EBFA;\n",
              "      box-shadow: 0px 1px 2px rgba(60, 64, 67, 0.3), 0px 1px 3px 1px rgba(60, 64, 67, 0.15);\n",
              "      fill: #174EA6;\n",
              "    }\n",
              "\n",
              "    [theme=dark] .colab-df-convert {\n",
              "      background-color: #3B4455;\n",
              "      fill: #D2E3FC;\n",
              "    }\n",
              "\n",
              "    [theme=dark] .colab-df-convert:hover {\n",
              "      background-color: #434B5C;\n",
              "      box-shadow: 0px 1px 3px 1px rgba(0, 0, 0, 0.15);\n",
              "      filter: drop-shadow(0px 1px 2px rgba(0, 0, 0, 0.3));\n",
              "      fill: #FFFFFF;\n",
              "    }\n",
              "  </style>\n",
              "\n",
              "      <script>\n",
              "        const buttonEl =\n",
              "          document.querySelector('#df-6f790875-4e5c-4ec1-934a-8e3b61ea064c button.colab-df-convert');\n",
              "        buttonEl.style.display =\n",
              "          google.colab.kernel.accessAllowed ? 'block' : 'none';\n",
              "\n",
              "        async function convertToInteractive(key) {\n",
              "          const element = document.querySelector('#df-6f790875-4e5c-4ec1-934a-8e3b61ea064c');\n",
              "          const dataTable =\n",
              "            await google.colab.kernel.invokeFunction('convertToInteractive',\n",
              "                                                     [key], {});\n",
              "          if (!dataTable) return;\n",
              "\n",
              "          const docLinkHtml = 'Like what you see? Visit the ' +\n",
              "            '<a target=\"_blank\" href=https://colab.research.google.com/notebooks/data_table.ipynb>data table notebook</a>'\n",
              "            + ' to learn more about interactive tables.';\n",
              "          element.innerHTML = '';\n",
              "          dataTable['output_type'] = 'display_data';\n",
              "          await google.colab.output.renderOutput(dataTable, element);\n",
              "          const docLink = document.createElement('div');\n",
              "          docLink.innerHTML = docLinkHtml;\n",
              "          element.appendChild(docLink);\n",
              "        }\n",
              "      </script>\n",
              "    </div>\n",
              "  </div>\n",
              "  "
            ]
          },
          "metadata": {},
          "execution_count": 670
        }
      ]
    },
    {
      "cell_type": "code",
      "source": [
        "general_statistics= df.describe()\n",
        "general_statistics.rename(columns=lambda x: x + '_General', inplace=True)\n",
        "general_statistics[['IR%_General', 'CPM_General', 'Impression_General']]"
      ],
      "metadata": {
        "colab": {
          "base_uri": "https://localhost:8080/",
          "height": 300
        },
        "id": "gFbF_8IsKlEb",
        "outputId": "f9a5cd4b-71d1-4a65-dbeb-25185907c447"
      },
      "execution_count": null,
      "outputs": [
        {
          "output_type": "execute_result",
          "data": {
            "text/plain": [
              "       IR%_General  CPM_General  Impression_General\n",
              "count   712.000000   733.000000          733.000000\n",
              "mean      0.324600     1.778117        21730.941337\n",
              "std       0.156763     1.909253        50030.142255\n",
              "min       0.000225     0.000000            2.000000\n",
              "25%       0.222184     0.657895          197.000000\n",
              "50%       0.330786     1.255864         3101.000000\n",
              "75%       0.423506     2.122377        22891.000000\n",
              "max       1.000000    12.259961       583607.000000"
            ],
            "text/html": [
              "\n",
              "  <div id=\"df-ba57e2cc-e79d-4ef7-a3da-375768d89cb1\">\n",
              "    <div class=\"colab-df-container\">\n",
              "      <div>\n",
              "<style scoped>\n",
              "    .dataframe tbody tr th:only-of-type {\n",
              "        vertical-align: middle;\n",
              "    }\n",
              "\n",
              "    .dataframe tbody tr th {\n",
              "        vertical-align: top;\n",
              "    }\n",
              "\n",
              "    .dataframe thead th {\n",
              "        text-align: right;\n",
              "    }\n",
              "</style>\n",
              "<table border=\"1\" class=\"dataframe\">\n",
              "  <thead>\n",
              "    <tr style=\"text-align: right;\">\n",
              "      <th></th>\n",
              "      <th>IR%_General</th>\n",
              "      <th>CPM_General</th>\n",
              "      <th>Impression_General</th>\n",
              "    </tr>\n",
              "  </thead>\n",
              "  <tbody>\n",
              "    <tr>\n",
              "      <th>count</th>\n",
              "      <td>712.000000</td>\n",
              "      <td>733.000000</td>\n",
              "      <td>733.000000</td>\n",
              "    </tr>\n",
              "    <tr>\n",
              "      <th>mean</th>\n",
              "      <td>0.324600</td>\n",
              "      <td>1.778117</td>\n",
              "      <td>21730.941337</td>\n",
              "    </tr>\n",
              "    <tr>\n",
              "      <th>std</th>\n",
              "      <td>0.156763</td>\n",
              "      <td>1.909253</td>\n",
              "      <td>50030.142255</td>\n",
              "    </tr>\n",
              "    <tr>\n",
              "      <th>min</th>\n",
              "      <td>0.000225</td>\n",
              "      <td>0.000000</td>\n",
              "      <td>2.000000</td>\n",
              "    </tr>\n",
              "    <tr>\n",
              "      <th>25%</th>\n",
              "      <td>0.222184</td>\n",
              "      <td>0.657895</td>\n",
              "      <td>197.000000</td>\n",
              "    </tr>\n",
              "    <tr>\n",
              "      <th>50%</th>\n",
              "      <td>0.330786</td>\n",
              "      <td>1.255864</td>\n",
              "      <td>3101.000000</td>\n",
              "    </tr>\n",
              "    <tr>\n",
              "      <th>75%</th>\n",
              "      <td>0.423506</td>\n",
              "      <td>2.122377</td>\n",
              "      <td>22891.000000</td>\n",
              "    </tr>\n",
              "    <tr>\n",
              "      <th>max</th>\n",
              "      <td>1.000000</td>\n",
              "      <td>12.259961</td>\n",
              "      <td>583607.000000</td>\n",
              "    </tr>\n",
              "  </tbody>\n",
              "</table>\n",
              "</div>\n",
              "      <button class=\"colab-df-convert\" onclick=\"convertToInteractive('df-ba57e2cc-e79d-4ef7-a3da-375768d89cb1')\"\n",
              "              title=\"Convert this dataframe to an interactive table.\"\n",
              "              style=\"display:none;\">\n",
              "        \n",
              "  <svg xmlns=\"http://www.w3.org/2000/svg\" height=\"24px\"viewBox=\"0 0 24 24\"\n",
              "       width=\"24px\">\n",
              "    <path d=\"M0 0h24v24H0V0z\" fill=\"none\"/>\n",
              "    <path d=\"M18.56 5.44l.94 2.06.94-2.06 2.06-.94-2.06-.94-.94-2.06-.94 2.06-2.06.94zm-11 1L8.5 8.5l.94-2.06 2.06-.94-2.06-.94L8.5 2.5l-.94 2.06-2.06.94zm10 10l.94 2.06.94-2.06 2.06-.94-2.06-.94-.94-2.06-.94 2.06-2.06.94z\"/><path d=\"M17.41 7.96l-1.37-1.37c-.4-.4-.92-.59-1.43-.59-.52 0-1.04.2-1.43.59L10.3 9.45l-7.72 7.72c-.78.78-.78 2.05 0 2.83L4 21.41c.39.39.9.59 1.41.59.51 0 1.02-.2 1.41-.59l7.78-7.78 2.81-2.81c.8-.78.8-2.07 0-2.86zM5.41 20L4 18.59l7.72-7.72 1.47 1.35L5.41 20z\"/>\n",
              "  </svg>\n",
              "      </button>\n",
              "      \n",
              "  <style>\n",
              "    .colab-df-container {\n",
              "      display:flex;\n",
              "      flex-wrap:wrap;\n",
              "      gap: 12px;\n",
              "    }\n",
              "\n",
              "    .colab-df-convert {\n",
              "      background-color: #E8F0FE;\n",
              "      border: none;\n",
              "      border-radius: 50%;\n",
              "      cursor: pointer;\n",
              "      display: none;\n",
              "      fill: #1967D2;\n",
              "      height: 32px;\n",
              "      padding: 0 0 0 0;\n",
              "      width: 32px;\n",
              "    }\n",
              "\n",
              "    .colab-df-convert:hover {\n",
              "      background-color: #E2EBFA;\n",
              "      box-shadow: 0px 1px 2px rgba(60, 64, 67, 0.3), 0px 1px 3px 1px rgba(60, 64, 67, 0.15);\n",
              "      fill: #174EA6;\n",
              "    }\n",
              "\n",
              "    [theme=dark] .colab-df-convert {\n",
              "      background-color: #3B4455;\n",
              "      fill: #D2E3FC;\n",
              "    }\n",
              "\n",
              "    [theme=dark] .colab-df-convert:hover {\n",
              "      background-color: #434B5C;\n",
              "      box-shadow: 0px 1px 3px 1px rgba(0, 0, 0, 0.15);\n",
              "      filter: drop-shadow(0px 1px 2px rgba(0, 0, 0, 0.3));\n",
              "      fill: #FFFFFF;\n",
              "    }\n",
              "  </style>\n",
              "\n",
              "      <script>\n",
              "        const buttonEl =\n",
              "          document.querySelector('#df-ba57e2cc-e79d-4ef7-a3da-375768d89cb1 button.colab-df-convert');\n",
              "        buttonEl.style.display =\n",
              "          google.colab.kernel.accessAllowed ? 'block' : 'none';\n",
              "\n",
              "        async function convertToInteractive(key) {\n",
              "          const element = document.querySelector('#df-ba57e2cc-e79d-4ef7-a3da-375768d89cb1');\n",
              "          const dataTable =\n",
              "            await google.colab.kernel.invokeFunction('convertToInteractive',\n",
              "                                                     [key], {});\n",
              "          if (!dataTable) return;\n",
              "\n",
              "          const docLinkHtml = 'Like what you see? Visit the ' +\n",
              "            '<a target=\"_blank\" href=https://colab.research.google.com/notebooks/data_table.ipynb>data table notebook</a>'\n",
              "            + ' to learn more about interactive tables.';\n",
              "          element.innerHTML = '';\n",
              "          dataTable['output_type'] = 'display_data';\n",
              "          await google.colab.output.renderOutput(dataTable, element);\n",
              "          const docLink = document.createElement('div');\n",
              "          docLink.innerHTML = docLinkHtml;\n",
              "          element.appendChild(docLink);\n",
              "        }\n",
              "      </script>\n",
              "    </div>\n",
              "  </div>\n",
              "  "
            ]
          },
          "metadata": {},
          "execution_count": 671
        }
      ]
    },
    {
      "cell_type": "markdown",
      "source": [
        "CI"
      ],
      "metadata": {
        "id": "riBDSCWaT3_3"
      }
    },
    {
      "cell_type": "code",
      "source": [
        "from numpy.ma.core import sqrt\n",
        "IGFB_Countries_medie=pd.DataFrame()\n",
        "IGFB_Countries_std=pd.DataFrame()\n",
        "\n",
        "IGFB_Countries_medie['Media CPM']= pd.DataFrame(df[['CPM', 'Country']].groupby(['Country']).mean() )\n",
        "IGFB_Countries_std['STD CPM']= pd.DataFrame(df[['CPM', 'Country']].groupby(['Country']).std() )\n"
      ],
      "metadata": {
        "id": "CyzfQrlqT_iZ"
      },
      "execution_count": null,
      "outputs": []
    },
    {
      "cell_type": "code",
      "source": [
        "\n",
        "countries_IGFB=pd.concat([IGFB_Countries_std,IGFB_Countries_medie],axis=1)\n",
        "countries_IGFB.head()"
      ],
      "metadata": {
        "colab": {
          "base_uri": "https://localhost:8080/",
          "height": 237
        },
        "id": "FBdREJYFUnw3",
        "outputId": "142189c1-3804-41e8-f941-9741c862af06"
      },
      "execution_count": null,
      "outputs": [
        {
          "output_type": "execute_result",
          "data": {
            "text/plain": [
              "          STD CPM  Media CPM\n",
              "Country                     \n",
              "BE       2.312842   2.470644\n",
              "DE       2.045641   2.143163\n",
              "ES       1.424492   1.446869\n",
              "FR       1.475807   1.396283\n",
              "IT       0.908409   1.027857"
            ],
            "text/html": [
              "\n",
              "  <div id=\"df-d0f6ccc9-3956-438a-b743-7e166163ed9d\">\n",
              "    <div class=\"colab-df-container\">\n",
              "      <div>\n",
              "<style scoped>\n",
              "    .dataframe tbody tr th:only-of-type {\n",
              "        vertical-align: middle;\n",
              "    }\n",
              "\n",
              "    .dataframe tbody tr th {\n",
              "        vertical-align: top;\n",
              "    }\n",
              "\n",
              "    .dataframe thead th {\n",
              "        text-align: right;\n",
              "    }\n",
              "</style>\n",
              "<table border=\"1\" class=\"dataframe\">\n",
              "  <thead>\n",
              "    <tr style=\"text-align: right;\">\n",
              "      <th></th>\n",
              "      <th>STD CPM</th>\n",
              "      <th>Media CPM</th>\n",
              "    </tr>\n",
              "    <tr>\n",
              "      <th>Country</th>\n",
              "      <th></th>\n",
              "      <th></th>\n",
              "    </tr>\n",
              "  </thead>\n",
              "  <tbody>\n",
              "    <tr>\n",
              "      <th>BE</th>\n",
              "      <td>2.312842</td>\n",
              "      <td>2.470644</td>\n",
              "    </tr>\n",
              "    <tr>\n",
              "      <th>DE</th>\n",
              "      <td>2.045641</td>\n",
              "      <td>2.143163</td>\n",
              "    </tr>\n",
              "    <tr>\n",
              "      <th>ES</th>\n",
              "      <td>1.424492</td>\n",
              "      <td>1.446869</td>\n",
              "    </tr>\n",
              "    <tr>\n",
              "      <th>FR</th>\n",
              "      <td>1.475807</td>\n",
              "      <td>1.396283</td>\n",
              "    </tr>\n",
              "    <tr>\n",
              "      <th>IT</th>\n",
              "      <td>0.908409</td>\n",
              "      <td>1.027857</td>\n",
              "    </tr>\n",
              "  </tbody>\n",
              "</table>\n",
              "</div>\n",
              "      <button class=\"colab-df-convert\" onclick=\"convertToInteractive('df-d0f6ccc9-3956-438a-b743-7e166163ed9d')\"\n",
              "              title=\"Convert this dataframe to an interactive table.\"\n",
              "              style=\"display:none;\">\n",
              "        \n",
              "  <svg xmlns=\"http://www.w3.org/2000/svg\" height=\"24px\"viewBox=\"0 0 24 24\"\n",
              "       width=\"24px\">\n",
              "    <path d=\"M0 0h24v24H0V0z\" fill=\"none\"/>\n",
              "    <path d=\"M18.56 5.44l.94 2.06.94-2.06 2.06-.94-2.06-.94-.94-2.06-.94 2.06-2.06.94zm-11 1L8.5 8.5l.94-2.06 2.06-.94-2.06-.94L8.5 2.5l-.94 2.06-2.06.94zm10 10l.94 2.06.94-2.06 2.06-.94-2.06-.94-.94-2.06-.94 2.06-2.06.94z\"/><path d=\"M17.41 7.96l-1.37-1.37c-.4-.4-.92-.59-1.43-.59-.52 0-1.04.2-1.43.59L10.3 9.45l-7.72 7.72c-.78.78-.78 2.05 0 2.83L4 21.41c.39.39.9.59 1.41.59.51 0 1.02-.2 1.41-.59l7.78-7.78 2.81-2.81c.8-.78.8-2.07 0-2.86zM5.41 20L4 18.59l7.72-7.72 1.47 1.35L5.41 20z\"/>\n",
              "  </svg>\n",
              "      </button>\n",
              "      \n",
              "  <style>\n",
              "    .colab-df-container {\n",
              "      display:flex;\n",
              "      flex-wrap:wrap;\n",
              "      gap: 12px;\n",
              "    }\n",
              "\n",
              "    .colab-df-convert {\n",
              "      background-color: #E8F0FE;\n",
              "      border: none;\n",
              "      border-radius: 50%;\n",
              "      cursor: pointer;\n",
              "      display: none;\n",
              "      fill: #1967D2;\n",
              "      height: 32px;\n",
              "      padding: 0 0 0 0;\n",
              "      width: 32px;\n",
              "    }\n",
              "\n",
              "    .colab-df-convert:hover {\n",
              "      background-color: #E2EBFA;\n",
              "      box-shadow: 0px 1px 2px rgba(60, 64, 67, 0.3), 0px 1px 3px 1px rgba(60, 64, 67, 0.15);\n",
              "      fill: #174EA6;\n",
              "    }\n",
              "\n",
              "    [theme=dark] .colab-df-convert {\n",
              "      background-color: #3B4455;\n",
              "      fill: #D2E3FC;\n",
              "    }\n",
              "\n",
              "    [theme=dark] .colab-df-convert:hover {\n",
              "      background-color: #434B5C;\n",
              "      box-shadow: 0px 1px 3px 1px rgba(0, 0, 0, 0.15);\n",
              "      filter: drop-shadow(0px 1px 2px rgba(0, 0, 0, 0.3));\n",
              "      fill: #FFFFFF;\n",
              "    }\n",
              "  </style>\n",
              "\n",
              "      <script>\n",
              "        const buttonEl =\n",
              "          document.querySelector('#df-d0f6ccc9-3956-438a-b743-7e166163ed9d button.colab-df-convert');\n",
              "        buttonEl.style.display =\n",
              "          google.colab.kernel.accessAllowed ? 'block' : 'none';\n",
              "\n",
              "        async function convertToInteractive(key) {\n",
              "          const element = document.querySelector('#df-d0f6ccc9-3956-438a-b743-7e166163ed9d');\n",
              "          const dataTable =\n",
              "            await google.colab.kernel.invokeFunction('convertToInteractive',\n",
              "                                                     [key], {});\n",
              "          if (!dataTable) return;\n",
              "\n",
              "          const docLinkHtml = 'Like what you see? Visit the ' +\n",
              "            '<a target=\"_blank\" href=https://colab.research.google.com/notebooks/data_table.ipynb>data table notebook</a>'\n",
              "            + ' to learn more about interactive tables.';\n",
              "          element.innerHTML = '';\n",
              "          dataTable['output_type'] = 'display_data';\n",
              "          await google.colab.output.renderOutput(dataTable, element);\n",
              "          const docLink = document.createElement('div');\n",
              "          docLink.innerHTML = docLinkHtml;\n",
              "          element.appendChild(docLink);\n",
              "        }\n",
              "      </script>\n",
              "    </div>\n",
              "  </div>\n",
              "  "
            ]
          },
          "metadata": {},
          "execution_count": 673
        }
      ]
    },
    {
      "cell_type": "code",
      "source": [
        "\n",
        "#countries_IGFB.drop(columns='Average CPM', inplace=True)\n",
        "\n",
        "#countries_IGFB['CAMPIONE_COUNTRY']=countries_IGFB.groupby('Country')['Media CPM'].transform('count')\n",
        "\n",
        "#countries_IGFB['Lower CI']= countries_IGFB['Media CPM']-1.96*(countries_IGFB['STD CPM']/np.sqrt(countries_IGFB['CAMPIONE_COUNTRY']))\n",
        "#countries_IGFB['Upper CI']= countries_IGFB['Media CPM']+1.96*(countries_IGFB['STD CPM']/np.sqrt(countries_IGFB['CAMPIONE_COUNTRY']))\n"
      ],
      "metadata": {
        "id": "z963hn90T3R2"
      },
      "execution_count": null,
      "outputs": []
    },
    {
      "cell_type": "code",
      "source": [
        "countries_IGFB"
      ],
      "metadata": {
        "colab": {
          "base_uri": "https://localhost:8080/",
          "height": 300
        },
        "id": "HWNgy1OmUyAL",
        "outputId": "ae1f33ad-e074-4e1b-8e64-341abfe686d8"
      },
      "execution_count": null,
      "outputs": [
        {
          "output_type": "execute_result",
          "data": {
            "text/plain": [
              "          STD CPM  Media CPM\n",
              "Country                     \n",
              "BE       2.312842   2.470644\n",
              "DE       2.045641   2.143163\n",
              "ES       1.424492   1.446869\n",
              "FR       1.475807   1.396283\n",
              "IT       0.908409   1.027857\n",
              "PL       1.092056   1.175626\n",
              "UK       2.466239   2.184067"
            ],
            "text/html": [
              "\n",
              "  <div id=\"df-c7ec6537-b1de-4298-86d1-b74adff94341\">\n",
              "    <div class=\"colab-df-container\">\n",
              "      <div>\n",
              "<style scoped>\n",
              "    .dataframe tbody tr th:only-of-type {\n",
              "        vertical-align: middle;\n",
              "    }\n",
              "\n",
              "    .dataframe tbody tr th {\n",
              "        vertical-align: top;\n",
              "    }\n",
              "\n",
              "    .dataframe thead th {\n",
              "        text-align: right;\n",
              "    }\n",
              "</style>\n",
              "<table border=\"1\" class=\"dataframe\">\n",
              "  <thead>\n",
              "    <tr style=\"text-align: right;\">\n",
              "      <th></th>\n",
              "      <th>STD CPM</th>\n",
              "      <th>Media CPM</th>\n",
              "    </tr>\n",
              "    <tr>\n",
              "      <th>Country</th>\n",
              "      <th></th>\n",
              "      <th></th>\n",
              "    </tr>\n",
              "  </thead>\n",
              "  <tbody>\n",
              "    <tr>\n",
              "      <th>BE</th>\n",
              "      <td>2.312842</td>\n",
              "      <td>2.470644</td>\n",
              "    </tr>\n",
              "    <tr>\n",
              "      <th>DE</th>\n",
              "      <td>2.045641</td>\n",
              "      <td>2.143163</td>\n",
              "    </tr>\n",
              "    <tr>\n",
              "      <th>ES</th>\n",
              "      <td>1.424492</td>\n",
              "      <td>1.446869</td>\n",
              "    </tr>\n",
              "    <tr>\n",
              "      <th>FR</th>\n",
              "      <td>1.475807</td>\n",
              "      <td>1.396283</td>\n",
              "    </tr>\n",
              "    <tr>\n",
              "      <th>IT</th>\n",
              "      <td>0.908409</td>\n",
              "      <td>1.027857</td>\n",
              "    </tr>\n",
              "    <tr>\n",
              "      <th>PL</th>\n",
              "      <td>1.092056</td>\n",
              "      <td>1.175626</td>\n",
              "    </tr>\n",
              "    <tr>\n",
              "      <th>UK</th>\n",
              "      <td>2.466239</td>\n",
              "      <td>2.184067</td>\n",
              "    </tr>\n",
              "  </tbody>\n",
              "</table>\n",
              "</div>\n",
              "      <button class=\"colab-df-convert\" onclick=\"convertToInteractive('df-c7ec6537-b1de-4298-86d1-b74adff94341')\"\n",
              "              title=\"Convert this dataframe to an interactive table.\"\n",
              "              style=\"display:none;\">\n",
              "        \n",
              "  <svg xmlns=\"http://www.w3.org/2000/svg\" height=\"24px\"viewBox=\"0 0 24 24\"\n",
              "       width=\"24px\">\n",
              "    <path d=\"M0 0h24v24H0V0z\" fill=\"none\"/>\n",
              "    <path d=\"M18.56 5.44l.94 2.06.94-2.06 2.06-.94-2.06-.94-.94-2.06-.94 2.06-2.06.94zm-11 1L8.5 8.5l.94-2.06 2.06-.94-2.06-.94L8.5 2.5l-.94 2.06-2.06.94zm10 10l.94 2.06.94-2.06 2.06-.94-2.06-.94-.94-2.06-.94 2.06-2.06.94z\"/><path d=\"M17.41 7.96l-1.37-1.37c-.4-.4-.92-.59-1.43-.59-.52 0-1.04.2-1.43.59L10.3 9.45l-7.72 7.72c-.78.78-.78 2.05 0 2.83L4 21.41c.39.39.9.59 1.41.59.51 0 1.02-.2 1.41-.59l7.78-7.78 2.81-2.81c.8-.78.8-2.07 0-2.86zM5.41 20L4 18.59l7.72-7.72 1.47 1.35L5.41 20z\"/>\n",
              "  </svg>\n",
              "      </button>\n",
              "      \n",
              "  <style>\n",
              "    .colab-df-container {\n",
              "      display:flex;\n",
              "      flex-wrap:wrap;\n",
              "      gap: 12px;\n",
              "    }\n",
              "\n",
              "    .colab-df-convert {\n",
              "      background-color: #E8F0FE;\n",
              "      border: none;\n",
              "      border-radius: 50%;\n",
              "      cursor: pointer;\n",
              "      display: none;\n",
              "      fill: #1967D2;\n",
              "      height: 32px;\n",
              "      padding: 0 0 0 0;\n",
              "      width: 32px;\n",
              "    }\n",
              "\n",
              "    .colab-df-convert:hover {\n",
              "      background-color: #E2EBFA;\n",
              "      box-shadow: 0px 1px 2px rgba(60, 64, 67, 0.3), 0px 1px 3px 1px rgba(60, 64, 67, 0.15);\n",
              "      fill: #174EA6;\n",
              "    }\n",
              "\n",
              "    [theme=dark] .colab-df-convert {\n",
              "      background-color: #3B4455;\n",
              "      fill: #D2E3FC;\n",
              "    }\n",
              "\n",
              "    [theme=dark] .colab-df-convert:hover {\n",
              "      background-color: #434B5C;\n",
              "      box-shadow: 0px 1px 3px 1px rgba(0, 0, 0, 0.15);\n",
              "      filter: drop-shadow(0px 1px 2px rgba(0, 0, 0, 0.3));\n",
              "      fill: #FFFFFF;\n",
              "    }\n",
              "  </style>\n",
              "\n",
              "      <script>\n",
              "        const buttonEl =\n",
              "          document.querySelector('#df-c7ec6537-b1de-4298-86d1-b74adff94341 button.colab-df-convert');\n",
              "        buttonEl.style.display =\n",
              "          google.colab.kernel.accessAllowed ? 'block' : 'none';\n",
              "\n",
              "        async function convertToInteractive(key) {\n",
              "          const element = document.querySelector('#df-c7ec6537-b1de-4298-86d1-b74adff94341');\n",
              "          const dataTable =\n",
              "            await google.colab.kernel.invokeFunction('convertToInteractive',\n",
              "                                                     [key], {});\n",
              "          if (!dataTable) return;\n",
              "\n",
              "          const docLinkHtml = 'Like what you see? Visit the ' +\n",
              "            '<a target=\"_blank\" href=https://colab.research.google.com/notebooks/data_table.ipynb>data table notebook</a>'\n",
              "            + ' to learn more about interactive tables.';\n",
              "          element.innerHTML = '';\n",
              "          dataTable['output_type'] = 'display_data';\n",
              "          await google.colab.output.renderOutput(dataTable, element);\n",
              "          const docLink = document.createElement('div');\n",
              "          docLink.innerHTML = docLinkHtml;\n",
              "          element.appendChild(docLink);\n",
              "        }\n",
              "      </script>\n",
              "    </div>\n",
              "  </div>\n",
              "  "
            ]
          },
          "metadata": {},
          "execution_count": 675
        }
      ]
    },
    {
      "cell_type": "markdown",
      "source": [
        "**Test Shapiro-Wilk**"
      ],
      "metadata": {
        "id": "-EzWRUq1_9Nk"
      }
    },
    {
      "cell_type": "code",
      "source": [
        "from scipy import stats\n",
        "shapiro_test = stats.shapiro(general_statistics['Impression_General'])\n",
        "print(shapiro_test)\n"
      ],
      "metadata": {
        "colab": {
          "base_uri": "https://localhost:8080/"
        },
        "id": "WfnvE_VtCkMg",
        "outputId": "5633c7ec-c4ca-4614-cd78-e7295c6eb352"
      },
      "execution_count": null,
      "outputs": [
        {
          "output_type": "stream",
          "name": "stdout",
          "text": [
            "(0.48872649669647217, 7.555420324933948e-06)\n"
          ]
        }
      ]
    },
    {
      "cell_type": "code",
      "source": [
        "from scipy import stats\n",
        "shapiro_test = stats.shapiro(general_statistics['CPM_General'])\n",
        "print(shapiro_test)\n"
      ],
      "metadata": {
        "colab": {
          "base_uri": "https://localhost:8080/"
        },
        "id": "m0-GeXtcK2v7",
        "outputId": "afd5437d-32a0-4a0e-ea63-2ec9d6de0c76"
      },
      "execution_count": null,
      "outputs": [
        {
          "output_type": "stream",
          "name": "stdout",
          "text": [
            "(0.4288909435272217, 1.4098785641181166e-06)\n"
          ]
        }
      ]
    },
    {
      "cell_type": "code",
      "source": [
        "from scipy import stats\n",
        "shapiro_test = stats.shapiro(statistics_obiettivo_eng['CPM_engagement'])\n",
        "print(shapiro_test)\n"
      ],
      "metadata": {
        "colab": {
          "base_uri": "https://localhost:8080/"
        },
        "id": "4yXLK8TVBdOs",
        "outputId": "ea15a11b-1690-4afd-f42a-6da709ecce54"
      },
      "execution_count": null,
      "outputs": [
        {
          "output_type": "stream",
          "name": "stdout",
          "text": [
            "(0.6436384916305542, 0.0005111116915941238)\n"
          ]
        }
      ]
    },
    {
      "cell_type": "code",
      "source": [
        "from scipy import stats\n",
        "shapiro_test = stats.shapiro(statistics_views['CPM_video_views'])\n",
        "print(shapiro_test)\n"
      ],
      "metadata": {
        "colab": {
          "base_uri": "https://localhost:8080/"
        },
        "id": "5VvYqkMyBKjQ",
        "outputId": "1a079972-1b83-451f-aad4-918a242c3322"
      },
      "execution_count": null,
      "outputs": [
        {
          "output_type": "stream",
          "name": "stdout",
          "text": [
            "(0.42981433868408203, 1.4471976328422897e-06)\n"
          ]
        }
      ]
    },
    {
      "cell_type": "code",
      "source": [],
      "metadata": {
        "id": "cWU_m1flcC5p"
      },
      "execution_count": null,
      "outputs": []
    },
    {
      "cell_type": "code",
      "source": [
        "from scipy import stats\n",
        "shapiro_test = stats.shapiro(statistics_reach['CPM_Reach'])\n",
        "print(shapiro_test)\n"
      ],
      "metadata": {
        "colab": {
          "base_uri": "https://localhost:8080/"
        },
        "id": "YN2yJRJUAAnC",
        "outputId": "29ec6f0c-894b-4c1f-8e33-3807474da258"
      },
      "execution_count": null,
      "outputs": [
        {
          "output_type": "stream",
          "name": "stdout",
          "text": [
            "(0.4498675465583801, 2.547959866205929e-06)\n"
          ]
        }
      ]
    },
    {
      "cell_type": "markdown",
      "source": [],
      "metadata": {
        "id": "PPy7JiZNTdt3"
      }
    },
    {
      "cell_type": "markdown",
      "source": [
        "\n",
        "**Scatter plots with Matplotlib and linear regression with Numpy**"
      ],
      "metadata": {
        "id": "PziwxDHXNNjB"
      }
    },
    {
      "cell_type": "code",
      "source": [
        "df['CPM_LOG']= np.log(df['CPM'])\n",
        "df['BUDGET_LOG']= np.log(df['Importo speso (EUR)'])\n",
        "df['BUDGET']= df['Importo speso (EUR)']\n"
      ],
      "metadata": {
        "id": "5nJLkx3zRBis",
        "colab": {
          "base_uri": "https://localhost:8080/"
        },
        "outputId": "65dda045-39f5-4191-e759-be41d21abf62"
      },
      "execution_count": null,
      "outputs": [
        {
          "output_type": "stream",
          "name": "stderr",
          "text": [
            "/usr/local/lib/python3.7/dist-packages/pandas/core/arraylike.py:364: RuntimeWarning: divide by zero encountered in log\n",
            "  result = getattr(ufunc, method)(*inputs, **kwargs)\n"
          ]
        }
      ]
    },
    {
      "cell_type": "code",
      "source": [
        "# Scatter plot of Height and Weight\n",
        "\n",
        "ax1 = df[df['Obiettivo'] == 'POST_ENGAGEMENT'].plot(kind='scatter', x='Importo speso (EUR)', y='CPM_LOG', color='blue', alpha=0.5, figsize=(10, 7))\n",
        "df[df['Obiettivo'] == 'VIDEO_VIEWS'].plot(kind='scatter', x='Importo speso (EUR)', y='CPM_LOG', color='magenta', alpha=0.5, figsize=(10 ,7), ax=ax1)\n",
        "df[df['Obiettivo'] == 'REACH'].plot(kind='scatter', x='Importo speso (EUR)', y='CPM_LOG', color='orange', alpha=0.5, figsize=(10 ,7), ax=ax1)\n",
        "\n",
        "\n",
        "\n",
        "plt.legend(labels=['Engagement', 'Video Views', 'Reach'])\n",
        "plt.title('Relationship between budget and CPM', size=24)\n",
        "plt.xlabel('Budget', size=18)\n",
        "plt.ylabel('CPM LOG', size=18)"
      ],
      "metadata": {
        "colab": {
          "base_uri": "https://localhost:8080/",
          "height": 493
        },
        "id": "RQoquYZgNQ6s",
        "outputId": "148bcec8-7d53-4986-cdde-c0c480c9ca72"
      },
      "execution_count": null,
      "outputs": [
        {
          "output_type": "execute_result",
          "data": {
            "text/plain": [
              "Text(0, 0.5, 'CPM LOG')"
            ]
          },
          "metadata": {},
          "execution_count": 682
        },
        {
          "output_type": "display_data",
          "data": {
            "text/plain": [
              "<Figure size 720x504 with 1 Axes>"
            ],
            "image/png": "[encoded data removed]"
          },
          "metadata": {}
        }
      ]
    },
    {
      "cell_type": "code",
      "source": [
        "# Scatter plot of Height and Weight\n",
        "\n",
        "ax1 = df[df['Obiettivo'] == 'REACH'].plot(kind='scatter', x='BUDGET', y='CPM', color='blue', alpha=0.5, figsize=(10, 7))\n",
        "#df[df['Obiettivo'] == 'VIDEO_VIEWS'].plot(kind='scatter', x='Importo speso (EUR)', y='CPM_LOG', color='magenta', alpha=0.5, figsize=(10 ,7), ax=ax1)\n",
        "#df[df['Obiettivo'] == 'REACH'].plot(kind='scatter', x='Importo speso (EUR)', y='CPM_LOG', color='orange', alpha=0.5, figsize=(10 ,7), ax=ax1)\n",
        "\n",
        "\n",
        "\n",
        "plt.legend(labels=['Reach'])\n",
        "plt.title('Relationship between budget and CPM', size=24)\n",
        "plt.xlabel('Budget', size=18)\n",
        "plt.ylabel('CPM', size=18)"
      ],
      "metadata": {
        "colab": {
          "base_uri": "https://localhost:8080/",
          "height": 493
        },
        "id": "gzRLYyWTDtXx",
        "outputId": "31741e76-61f1-4153-b555-e73cf09d16e6"
      },
      "execution_count": null,
      "outputs": [
        {
          "output_type": "execute_result",
          "data": {
            "text/plain": [
              "Text(0, 0.5, 'CPM')"
            ]
          },
          "metadata": {},
          "execution_count": 683
        },
        {
          "output_type": "display_data",
          "data": {
            "text/plain": [
              "<Figure size 720x504 with 1 Axes>"
            ],
            "image/png": "[encoded data removed]"
          },
          "metadata": {}
        }
      ]
    },
    {
      "cell_type": "code",
      "source": [
        "# Scatter plot\n",
        "ax1 = df[['CPM', 'Country']].boxplot( by='Country', color='blue', figsize=(10, 7))\n",
        "\n",
        "\n",
        "\n",
        "plt.legend(labels=['CPM'])\n",
        "plt.title('Relationship between country and CPM', size=24)\n",
        "plt.xlabel('Country', size=18)\n",
        "plt.ylabel('CPM', size=18);"
      ],
      "metadata": {
        "id": "H81Ib8eKwfMx",
        "outputId": "54d7b4dd-6b54-4ea5-a764-d41207f2101e",
        "colab": {
          "base_uri": "https://localhost:8080/",
          "height": 544
        }
      },
      "execution_count": null,
      "outputs": [
        {
          "output_type": "stream",
          "name": "stderr",
          "text": [
            "/usr/local/lib/python3.7/dist-packages/matplotlib/cbook/__init__.py:1376: VisibleDeprecationWarning: Creating an ndarray from ragged nested sequences (which is a list-or-tuple of lists-or-tuples-or ndarrays with different lengths or shapes) is deprecated. If you meant to do this, you must specify 'dtype=object' when creating the ndarray.\n",
            "  X = np.atleast_1d(X.T if isinstance(X, np.ndarray) else np.asarray(X))\n"
          ]
        },
        {
          "output_type": "display_data",
          "data": {
            "text/plain": [
              "<Figure size 720x504 with 1 Axes>"
            ],
            "image/png": "[encoded data removed]"
          },
          "metadata": {}
        }
      ]
    },
    {
      "cell_type": "code",
      "source": [
        "# Scatter plot\n",
        "#ax1 = df[['CPM', 'placement']].boxplot( by='placement', color='blue', figsize=(10, 7))\n",
        "\n",
        "\n",
        "\n",
        "#plt.legend(labels=['CPM'])\n",
        "#plt.title('Relationship between channel and CPM', size=24)\n",
        "#plt.xlabel('Channel', size=18)\n",
        "#plt.ylabel('CPM', size=18);"
      ],
      "metadata": {
        "id": "GRS3e0DUwrxw"
      },
      "execution_count": null,
      "outputs": []
    },
    {
      "cell_type": "code",
      "source": [
        "#df['Channel']=df.placement.copy()"
      ],
      "metadata": {
        "id": "0ptgiqv-xrcf"
      },
      "execution_count": null,
      "outputs": []
    },
    {
      "cell_type": "code",
      "source": [
        "df.shape"
      ],
      "metadata": {
        "colab": {
          "base_uri": "https://localhost:8080/"
        },
        "id": "MsCqvZGkz4lq",
        "outputId": "af0b6f25-abc6-4ff5-cac0-95b9105d62c3"
      },
      "execution_count": null,
      "outputs": [
        {
          "output_type": "execute_result",
          "data": {
            "text/plain": [
              "(733, 45)"
            ]
          },
          "metadata": {},
          "execution_count": 687
        }
      ]
    },
    {
      "cell_type": "code",
      "source": [
        "if 'Channel' in list(set(df.columns)):\n",
        "  df['Channel']=df['Channel'].str.replace('FBIG','FB')"
      ],
      "metadata": {
        "id": "p9AGngOPiEyK"
      },
      "execution_count": null,
      "outputs": []
    },
    {
      "cell_type": "code",
      "source": [
        "df['Channel']=df['Piattaforma']"
      ],
      "metadata": {
        "id": "Sj3TVykBFvg0"
      },
      "execution_count": null,
      "outputs": []
    },
    {
      "cell_type": "code",
      "source": [
        "df.columns"
      ],
      "metadata": {
        "colab": {
          "base_uri": "https://localhost:8080/"
        },
        "id": "Pzy1-Rm-SQGe",
        "outputId": "ba8d6b73-ebd7-4d61-bdda-7a378ce82683"
      },
      "execution_count": null,
      "outputs": [
        {
          "output_type": "execute_result",
          "data": {
            "text/plain": [
              "Index(['obj.', 'mese', 'topic', 'formato', 'placement', 'country',\n",
              "       'Nome del gruppo di inserzioni', 'Nome dell'inserzione', 'Obiettivo',\n",
              "       'Nome della campagna', 'Piattaforma', 'Stato di pubblicazione',\n",
              "       'Livello di pubblicazione', 'Tipo di risultato', 'Risultati',\n",
              "       'Copertura', 'Impression', 'Costo per risultato', 'Importo speso (EUR)',\n",
              "       'Clic unici sul link', 'Visualizzazioni della pagina di destinazione',\n",
              "       'Clic sul link',\n",
              "       'Costo per visualizzazione della pagina di destinazione',\n",
              "       'Interazioni con il post', 'Riproduzioni del video di 3 secondi',\n",
              "       'Riproduzioni del video al 25%', 'Riproduzioni del video al 50%',\n",
              "       'Riproduzioni del video al 75%', 'Riproduzioni del video al 95%',\n",
              "       'Riproduzioni del video al 100%', 'Reazioni ai post',\n",
              "       'Condivisioni dei post', 'Commenti ai post', '\"Mi piace\" sulla Pagina',\n",
              "       'Clic (tutti)', 'Inizio dei report', 'Fine dei report', 'IR%',\n",
              "       'Country', 'Tipologia', 'Channel', 'CPM', 'CPM_LOG', 'BUDGET_LOG',\n",
              "       'BUDGET'],\n",
              "      dtype='object')"
            ]
          },
          "metadata": {},
          "execution_count": 690
        }
      ]
    },
    {
      "cell_type": "code",
      "source": [
        "\n",
        "df2=df.loc[df['Obiettivo'].str.contains('REACH', na=False)]\n",
        "df2['CPM'].describe()"
      ],
      "metadata": {
        "colab": {
          "base_uri": "https://localhost:8080/"
        },
        "id": "qhSmfztVUMjh",
        "outputId": "bb36d096-2a97-40bf-ec61-0a917e0a85fe"
      },
      "execution_count": null,
      "outputs": [
        {
          "output_type": "execute_result",
          "data": {
            "text/plain": [
              "count    30.000000\n",
              "mean      0.882093\n",
              "std       0.326627\n",
              "min       0.480946\n",
              "25%       0.576697\n",
              "50%       0.833135\n",
              "75%       1.187778\n",
              "max       1.320044\n",
              "Name: CPM, dtype: float64"
            ]
          },
          "metadata": {},
          "execution_count": 691
        }
      ]
    },
    {
      "cell_type": "code",
      "source": [
        "list(set(df['Obiettivo']))"
      ],
      "metadata": {
        "colab": {
          "base_uri": "https://localhost:8080/"
        },
        "id": "TlGFoEUcs4D2",
        "outputId": "96f01b5a-b150-4e91-b175-d0290ae5c75d"
      },
      "execution_count": null,
      "outputs": [
        {
          "output_type": "execute_result",
          "data": {
            "text/plain": [
              "['VIDEO_VIEWS', 'REACH', 'POST_ENGAGEMENT']"
            ]
          },
          "metadata": {},
          "execution_count": 692
        }
      ]
    },
    {
      "cell_type": "code",
      "source": [
        "list(set(df['Tipologia']))"
      ],
      "metadata": {
        "colab": {
          "base_uri": "https://localhost:8080/"
        },
        "id": "W5446AJt6eZ5",
        "outputId": "f2c3277e-c370-4439-ea9b-ba36780f7b36"
      },
      "execution_count": null,
      "outputs": [
        {
          "output_type": "execute_result",
          "data": {
            "text/plain": [
              "['Static', 'Video']"
            ]
          },
          "metadata": {},
          "execution_count": 693
        }
      ]
    },
    {
      "cell_type": "code",
      "source": [
        "# qui download\n",
        "df_download=pd.DataFrame()\n",
        "\n",
        "df2=df\n",
        "df2=df.loc[df['Obiettivo'].str.contains('POST_ENGAGEMENT', na=False)]\n",
        "\n",
        "df2=df.loc[df['Tipologia'].str.contains('Static', na=False)]\n",
        "\n",
        "for i in list(set(df2.Country)):\n",
        "  print(i)\n",
        "  print(df2.loc[df2.Country==i][['IR%', 'Channel']].groupby(['Channel'])[\"IR%\"].describe(percentiles=[.4, .6]) )\n",
        "  print(\" \")\n",
        "  df2.loc[df2.Country==i][['IR%', 'Channel','Tipologia']].groupby(['Channel'])['IR%'].describe(percentiles=[.4, .6]).to_excel(str(i)+\"_IR_MEDIA_ENGAGEMENT_NO-AN_FB-IG\"+\".xlsx\")\n",
        "  from google.colab import files\n",
        "  files.download(str(i)+\"_IR_MEDIA_ENGAGEMENT_NO-AN_FB-IG\"+\".xlsx\") "
      ],
      "metadata": {
        "colab": {
          "base_uri": "https://localhost:8080/",
          "height": 1000
        },
        "id": "mGblwmrHz90Z",
        "outputId": "93588e20-3437-4e83-c73a-2d71f21a65a8"
      },
      "execution_count": null,
      "outputs": [
        {
          "output_type": "stream",
          "name": "stdout",
          "text": [
            "DE\n",
            "           count      mean       std       min       40%       50%       60%  \\\n",
            "Channel                                                                        \n",
            "facebook     2.0  0.033656  0.028906  0.013217  0.029568  0.033656  0.037744   \n",
            "instagram    1.0  0.108287       NaN  0.108287  0.108287  0.108287  0.108287   \n",
            "\n",
            "                max  \n",
            "Channel              \n",
            "facebook   0.054095  \n",
            "instagram  0.108287  \n",
            " \n"
          ]
        },
        {
          "output_type": "display_data",
          "data": {
            "text/plain": [
              "<IPython.core.display.Javascript object>"
            ],
            "application/javascript": [
              "\n",
              "    async function download(id, filename, size) {\n",
              "      if (!google.colab.kernel.accessAllowed) {\n",
              "        return;\n",
              "      }\n",
              "      const div = document.createElement('div');\n",
              "      const label = document.createElement('label');\n",
              "      label.textContent = `Downloading \"${filename}\": `;\n",
              "      div.appendChild(label);\n",
              "      const progress = document.createElement('progress');\n",
              "      progress.max = size;\n",
              "      div.appendChild(progress);\n",
              "      document.body.appendChild(div);\n",
              "\n",
              "      const buffers = [];\n",
              "      let downloaded = 0;\n",
              "\n",
              "      const channel = await google.colab.kernel.comms.open(id);\n",
              "      // Send a message to notify the kernel that we're ready.\n",
              "      channel.send({})\n",
              "\n",
              "      for await (const message of channel.messages) {\n",
              "        // Send a message to notify the kernel that we're ready.\n",
              "        channel.send({})\n",
              "        if (message.buffers) {\n",
              "          for (const buffer of message.buffers) {\n",
              "            buffers.push(buffer);\n",
              "            downloaded += buffer.byteLength;\n",
              "            progress.value = downloaded;\n",
              "          }\n",
              "        }\n",
              "      }\n",
              "      const blob = new Blob(buffers, {type: 'application/binary'});\n",
              "      const a = document.createElement('a');\n",
              "      a.href = window.URL.createObjectURL(blob);\n",
              "      a.download = filename;\n",
              "      div.appendChild(a);\n",
              "      a.click();\n",
              "      div.remove();\n",
              "    }\n",
              "  "
            ]
          },
          "metadata": {}
        },
        {
          "output_type": "display_data",
          "data": {
            "text/plain": [
              "<IPython.core.display.Javascript object>"
            ],
            "application/javascript": [
              "download(\"download_822ff8c8-9fd7-4672-8e74-0aab837fc065\", \"DE_IR_MEDIA_ENGAGEMENT_NO-AN_FB-IG.xlsx\", 5155)"
            ]
          },
          "metadata": {}
        },
        {
          "output_type": "stream",
          "name": "stdout",
          "text": [
            "FR\n",
            "           count      mean       std       min       40%       50%       60%  \\\n",
            "Channel                                                                        \n",
            "facebook     2.0  0.027764  0.018235  0.014870  0.025185  0.027764  0.030343   \n",
            "instagram    1.0  0.089801       NaN  0.089801  0.089801  0.089801  0.089801   \n",
            "\n",
            "                max  \n",
            "Channel              \n",
            "facebook   0.040658  \n",
            "instagram  0.089801  \n",
            " \n"
          ]
        },
        {
          "output_type": "display_data",
          "data": {
            "text/plain": [
              "<IPython.core.display.Javascript object>"
            ],
            "application/javascript": [
              "\n",
              "    async function download(id, filename, size) {\n",
              "      if (!google.colab.kernel.accessAllowed) {\n",
              "        return;\n",
              "      }\n",
              "      const div = document.createElement('div');\n",
              "      const label = document.createElement('label');\n",
              "      label.textContent = `Downloading \"${filename}\": `;\n",
              "      div.appendChild(label);\n",
              "      const progress = document.createElement('progress');\n",
              "      progress.max = size;\n",
              "      div.appendChild(progress);\n",
              "      document.body.appendChild(div);\n",
              "\n",
              "      const buffers = [];\n",
              "      let downloaded = 0;\n",
              "\n",
              "      const channel = await google.colab.kernel.comms.open(id);\n",
              "      // Send a message to notify the kernel that we're ready.\n",
              "      channel.send({})\n",
              "\n",
              "      for await (const message of channel.messages) {\n",
              "        // Send a message to notify the kernel that we're ready.\n",
              "        channel.send({})\n",
              "        if (message.buffers) {\n",
              "          for (const buffer of message.buffers) {\n",
              "            buffers.push(buffer);\n",
              "            downloaded += buffer.byteLength;\n",
              "            progress.value = downloaded;\n",
              "          }\n",
              "        }\n",
              "      }\n",
              "      const blob = new Blob(buffers, {type: 'application/binary'});\n",
              "      const a = document.createElement('a');\n",
              "      a.href = window.URL.createObjectURL(blob);\n",
              "      a.download = filename;\n",
              "      div.appendChild(a);\n",
              "      a.click();\n",
              "      div.remove();\n",
              "    }\n",
              "  "
            ]
          },
          "metadata": {}
        },
        {
          "output_type": "display_data",
          "data": {
            "text/plain": [
              "<IPython.core.display.Javascript object>"
            ],
            "application/javascript": [
              "download(\"download_0825d4ae-e1b3-48f6-8c4e-237e9f1d457c\", \"FR_IR_MEDIA_ENGAGEMENT_NO-AN_FB-IG.xlsx\", 5154)"
            ]
          },
          "metadata": {}
        },
        {
          "output_type": "stream",
          "name": "stdout",
          "text": [
            "UK\n",
            "           count      mean  std       min       40%       50%       60%  \\\n",
            "Channel                                                                   \n",
            "facebook     1.0  0.018855  NaN  0.018855  0.018855  0.018855  0.018855   \n",
            "instagram    1.0  0.101536  NaN  0.101536  0.101536  0.101536  0.101536   \n",
            "\n",
            "                max  \n",
            "Channel              \n",
            "facebook   0.018855  \n",
            "instagram  0.101536  \n",
            " \n"
          ]
        },
        {
          "output_type": "display_data",
          "data": {
            "text/plain": [
              "<IPython.core.display.Javascript object>"
            ],
            "application/javascript": [
              "\n",
              "    async function download(id, filename, size) {\n",
              "      if (!google.colab.kernel.accessAllowed) {\n",
              "        return;\n",
              "      }\n",
              "      const div = document.createElement('div');\n",
              "      const label = document.createElement('label');\n",
              "      label.textContent = `Downloading \"${filename}\": `;\n",
              "      div.appendChild(label);\n",
              "      const progress = document.createElement('progress');\n",
              "      progress.max = size;\n",
              "      div.appendChild(progress);\n",
              "      document.body.appendChild(div);\n",
              "\n",
              "      const buffers = [];\n",
              "      let downloaded = 0;\n",
              "\n",
              "      const channel = await google.colab.kernel.comms.open(id);\n",
              "      // Send a message to notify the kernel that we're ready.\n",
              "      channel.send({})\n",
              "\n",
              "      for await (const message of channel.messages) {\n",
              "        // Send a message to notify the kernel that we're ready.\n",
              "        channel.send({})\n",
              "        if (message.buffers) {\n",
              "          for (const buffer of message.buffers) {\n",
              "            buffers.push(buffer);\n",
              "            downloaded += buffer.byteLength;\n",
              "            progress.value = downloaded;\n",
              "          }\n",
              "        }\n",
              "      }\n",
              "      const blob = new Blob(buffers, {type: 'application/binary'});\n",
              "      const a = document.createElement('a');\n",
              "      a.href = window.URL.createObjectURL(blob);\n",
              "      a.download = filename;\n",
              "      div.appendChild(a);\n",
              "      a.click();\n",
              "      div.remove();\n",
              "    }\n",
              "  "
            ]
          },
          "metadata": {}
        },
        {
          "output_type": "display_data",
          "data": {
            "text/plain": [
              "<IPython.core.display.Javascript object>"
            ],
            "application/javascript": [
              "download(\"download_28cf03fa-1696-47d4-ab50-8ae3718833c8\", \"UK_IR_MEDIA_ENGAGEMENT_NO-AN_FB-IG.xlsx\", 5090)"
            ]
          },
          "metadata": {}
        },
        {
          "output_type": "stream",
          "name": "stdout",
          "text": [
            "PL\n",
            "           count      mean  std       min       40%       50%       60%  \\\n",
            "Channel                                                                   \n",
            "instagram    1.0  0.083243  NaN  0.083243  0.083243  0.083243  0.083243   \n",
            "\n",
            "                max  \n",
            "Channel              \n",
            "instagram  0.083243  \n",
            " \n"
          ]
        },
        {
          "output_type": "display_data",
          "data": {
            "text/plain": [
              "<IPython.core.display.Javascript object>"
            ],
            "application/javascript": [
              "\n",
              "    async function download(id, filename, size) {\n",
              "      if (!google.colab.kernel.accessAllowed) {\n",
              "        return;\n",
              "      }\n",
              "      const div = document.createElement('div');\n",
              "      const label = document.createElement('label');\n",
              "      label.textContent = `Downloading \"${filename}\": `;\n",
              "      div.appendChild(label);\n",
              "      const progress = document.createElement('progress');\n",
              "      progress.max = size;\n",
              "      div.appendChild(progress);\n",
              "      document.body.appendChild(div);\n",
              "\n",
              "      const buffers = [];\n",
              "      let downloaded = 0;\n",
              "\n",
              "      const channel = await google.colab.kernel.comms.open(id);\n",
              "      // Send a message to notify the kernel that we're ready.\n",
              "      channel.send({})\n",
              "\n",
              "      for await (const message of channel.messages) {\n",
              "        // Send a message to notify the kernel that we're ready.\n",
              "        channel.send({})\n",
              "        if (message.buffers) {\n",
              "          for (const buffer of message.buffers) {\n",
              "            buffers.push(buffer);\n",
              "            downloaded += buffer.byteLength;\n",
              "            progress.value = downloaded;\n",
              "          }\n",
              "        }\n",
              "      }\n",
              "      const blob = new Blob(buffers, {type: 'application/binary'});\n",
              "      const a = document.createElement('a');\n",
              "      a.href = window.URL.createObjectURL(blob);\n",
              "      a.download = filename;\n",
              "      div.appendChild(a);\n",
              "      a.click();\n",
              "      div.remove();\n",
              "    }\n",
              "  "
            ]
          },
          "metadata": {}
        },
        {
          "output_type": "display_data",
          "data": {
            "text/plain": [
              "<IPython.core.display.Javascript object>"
            ],
            "application/javascript": [
              "download(\"download_deda5b9a-d17e-4bb9-b0a2-85cfe1e366c0\", \"PL_IR_MEDIA_ENGAGEMENT_NO-AN_FB-IG.xlsx\", 5036)"
            ]
          },
          "metadata": {}
        },
        {
          "output_type": "stream",
          "name": "stdout",
          "text": [
            "IT\n",
            "           count      mean       std       min       40%       50%       60%  \\\n",
            "Channel                                                                        \n",
            "facebook     2.0  0.027573  0.024044  0.010572  0.024173  0.027573  0.030973   \n",
            "instagram    1.0  0.048298       NaN  0.048298  0.048298  0.048298  0.048298   \n",
            "\n",
            "                max  \n",
            "Channel              \n",
            "facebook   0.044575  \n",
            "instagram  0.048298  \n",
            " \n"
          ]
        },
        {
          "output_type": "display_data",
          "data": {
            "text/plain": [
              "<IPython.core.display.Javascript object>"
            ],
            "application/javascript": [
              "\n",
              "    async function download(id, filename, size) {\n",
              "      if (!google.colab.kernel.accessAllowed) {\n",
              "        return;\n",
              "      }\n",
              "      const div = document.createElement('div');\n",
              "      const label = document.createElement('label');\n",
              "      label.textContent = `Downloading \"${filename}\": `;\n",
              "      div.appendChild(label);\n",
              "      const progress = document.createElement('progress');\n",
              "      progress.max = size;\n",
              "      div.appendChild(progress);\n",
              "      document.body.appendChild(div);\n",
              "\n",
              "      const buffers = [];\n",
              "      let downloaded = 0;\n",
              "\n",
              "      const channel = await google.colab.kernel.comms.open(id);\n",
              "      // Send a message to notify the kernel that we're ready.\n",
              "      channel.send({})\n",
              "\n",
              "      for await (const message of channel.messages) {\n",
              "        // Send a message to notify the kernel that we're ready.\n",
              "        channel.send({})\n",
              "        if (message.buffers) {\n",
              "          for (const buffer of message.buffers) {\n",
              "            buffers.push(buffer);\n",
              "            downloaded += buffer.byteLength;\n",
              "            progress.value = downloaded;\n",
              "          }\n",
              "        }\n",
              "      }\n",
              "      const blob = new Blob(buffers, {type: 'application/binary'});\n",
              "      const a = document.createElement('a');\n",
              "      a.href = window.URL.createObjectURL(blob);\n",
              "      a.download = filename;\n",
              "      div.appendChild(a);\n",
              "      a.click();\n",
              "      div.remove();\n",
              "    }\n",
              "  "
            ]
          },
          "metadata": {}
        },
        {
          "output_type": "display_data",
          "data": {
            "text/plain": [
              "<IPython.core.display.Javascript object>"
            ],
            "application/javascript": [
              "download(\"download_47f50e21-3325-4892-b6a4-053c4816e313\", \"IT_IR_MEDIA_ENGAGEMENT_NO-AN_FB-IG.xlsx\", 5151)"
            ]
          },
          "metadata": {}
        },
        {
          "output_type": "stream",
          "name": "stdout",
          "text": [
            "BE\n",
            "           count      mean       std       min       40%       50%       60%  \\\n",
            "Channel                                                                        \n",
            "facebook     4.0  0.023749  0.010293  0.013145  0.019749  0.024264  0.028780   \n",
            "instagram    1.0  0.071869       NaN  0.071869  0.071869  0.071869  0.071869   \n",
            "\n",
            "                max  \n",
            "Channel              \n",
            "facebook   0.033320  \n",
            "instagram  0.071869  \n",
            " \n"
          ]
        },
        {
          "output_type": "display_data",
          "data": {
            "text/plain": [
              "<IPython.core.display.Javascript object>"
            ],
            "application/javascript": [
              "\n",
              "    async function download(id, filename, size) {\n",
              "      if (!google.colab.kernel.accessAllowed) {\n",
              "        return;\n",
              "      }\n",
              "      const div = document.createElement('div');\n",
              "      const label = document.createElement('label');\n",
              "      label.textContent = `Downloading \"${filename}\": `;\n",
              "      div.appendChild(label);\n",
              "      const progress = document.createElement('progress');\n",
              "      progress.max = size;\n",
              "      div.appendChild(progress);\n",
              "      document.body.appendChild(div);\n",
              "\n",
              "      const buffers = [];\n",
              "      let downloaded = 0;\n",
              "\n",
              "      const channel = await google.colab.kernel.comms.open(id);\n",
              "      // Send a message to notify the kernel that we're ready.\n",
              "      channel.send({})\n",
              "\n",
              "      for await (const message of channel.messages) {\n",
              "        // Send a message to notify the kernel that we're ready.\n",
              "        channel.send({})\n",
              "        if (message.buffers) {\n",
              "          for (const buffer of message.buffers) {\n",
              "            buffers.push(buffer);\n",
              "            downloaded += buffer.byteLength;\n",
              "            progress.value = downloaded;\n",
              "          }\n",
              "        }\n",
              "      }\n",
              "      const blob = new Blob(buffers, {type: 'application/binary'});\n",
              "      const a = document.createElement('a');\n",
              "      a.href = window.URL.createObjectURL(blob);\n",
              "      a.download = filename;\n",
              "      div.appendChild(a);\n",
              "      a.click();\n",
              "      div.remove();\n",
              "    }\n",
              "  "
            ]
          },
          "metadata": {}
        },
        {
          "output_type": "display_data",
          "data": {
            "text/plain": [
              "<IPython.core.display.Javascript object>"
            ],
            "application/javascript": [
              "download(\"download_ccd8ba31-4f39-4b2d-bed3-e40c974e3119\", \"BE_IR_MEDIA_ENGAGEMENT_NO-AN_FB-IG.xlsx\", 5166)"
            ]
          },
          "metadata": {}
        },
        {
          "output_type": "stream",
          "name": "stdout",
          "text": [
            "ES\n",
            "           count      mean  std       min       40%       50%       60%  \\\n",
            "Channel                                                                   \n",
            "facebook     1.0  0.017327  NaN  0.017327  0.017327  0.017327  0.017327   \n",
            "instagram    1.0  0.085275  NaN  0.085275  0.085275  0.085275  0.085275   \n",
            "\n",
            "                max  \n",
            "Channel              \n",
            "facebook   0.017327  \n",
            "instagram  0.085275  \n",
            " \n"
          ]
        },
        {
          "output_type": "display_data",
          "data": {
            "text/plain": [
              "<IPython.core.display.Javascript object>"
            ],
            "application/javascript": [
              "\n",
              "    async function download(id, filename, size) {\n",
              "      if (!google.colab.kernel.accessAllowed) {\n",
              "        return;\n",
              "      }\n",
              "      const div = document.createElement('div');\n",
              "      const label = document.createElement('label');\n",
              "      label.textContent = `Downloading \"${filename}\": `;\n",
              "      div.appendChild(label);\n",
              "      const progress = document.createElement('progress');\n",
              "      progress.max = size;\n",
              "      div.appendChild(progress);\n",
              "      document.body.appendChild(div);\n",
              "\n",
              "      const buffers = [];\n",
              "      let downloaded = 0;\n",
              "\n",
              "      const channel = await google.colab.kernel.comms.open(id);\n",
              "      // Send a message to notify the kernel that we're ready.\n",
              "      channel.send({})\n",
              "\n",
              "      for await (const message of channel.messages) {\n",
              "        // Send a message to notify the kernel that we're ready.\n",
              "        channel.send({})\n",
              "        if (message.buffers) {\n",
              "          for (const buffer of message.buffers) {\n",
              "            buffers.push(buffer);\n",
              "            downloaded += buffer.byteLength;\n",
              "            progress.value = downloaded;\n",
              "          }\n",
              "        }\n",
              "      }\n",
              "      const blob = new Blob(buffers, {type: 'application/binary'});\n",
              "      const a = document.createElement('a');\n",
              "      a.href = window.URL.createObjectURL(blob);\n",
              "      a.download = filename;\n",
              "      div.appendChild(a);\n",
              "      a.click();\n",
              "      div.remove();\n",
              "    }\n",
              "  "
            ]
          },
          "metadata": {}
        },
        {
          "output_type": "display_data",
          "data": {
            "text/plain": [
              "<IPython.core.display.Javascript object>"
            ],
            "application/javascript": [
              "download(\"download_1b277f1e-e200-4ba3-b96d-356766752502\", \"ES_IR_MEDIA_ENGAGEMENT_NO-AN_FB-IG.xlsx\", 5088)"
            ]
          },
          "metadata": {}
        }
      ]
    },
    {
      "cell_type": "code",
      "source": [
        "# Scatter plot\n",
        "df_download=pd.DataFrame()\n",
        "df2=df.copy()\n",
        "\n",
        "for i in list(set(df.Country)):\n",
        "  print(i)\n",
        "  print(df.loc[df.Country==i][['IR%', 'Channel', 'Country']].groupby(['Channel'])['IR%'].describe(percentiles=[.4, .6]) )\n",
        "  df.loc[df.Country==i][['IR%', 'Channel', 'Country']].groupby(['Channel'])['IR%'].describe(percentiles=[.4, .6] ).to_excel('2IR_FBIG_download'+str(i)+\".xlsx\")\n",
        "  from google.colab import files\n",
        "  files.download('2IR_FBIG_download'+str(i)+\".xlsx\") \n",
        " "
      ],
      "metadata": {
        "colab": {
          "base_uri": "https://localhost:8080/",
          "height": 460
        },
        "id": "s3ZKVva6e1zF",
        "outputId": "c331d4aa-a167-4a74-d5a1-be6c71a00296"
      },
      "execution_count": null,
      "outputs": [
        {
          "output_type": "stream",
          "name": "stdout",
          "text": [
            "BE\n"
          ]
        },
        {
          "output_type": "error",
          "ename": "KeyError",
          "evalue": "ignored",
          "traceback": [
            "\u001b[0;31m---------------------------------------------------------------------------\u001b[0m",
            "\u001b[0;31mKeyError\u001b[0m                                  Traceback (most recent call last)",
            "\u001b[0;32m<ipython-input-160-62df86d9bf1a>\u001b[0m in \u001b[0;36m<module>\u001b[0;34m()\u001b[0m\n\u001b[1;32m      5\u001b[0m \u001b[0;32mfor\u001b[0m \u001b[0mi\u001b[0m \u001b[0;32min\u001b[0m \u001b[0mlist\u001b[0m\u001b[0;34m(\u001b[0m\u001b[0mset\u001b[0m\u001b[0;34m(\u001b[0m\u001b[0mdf\u001b[0m\u001b[0;34m.\u001b[0m\u001b[0mCountry\u001b[0m\u001b[0;34m)\u001b[0m\u001b[0;34m)\u001b[0m\u001b[0;34m:\u001b[0m\u001b[0;34m\u001b[0m\u001b[0;34m\u001b[0m\u001b[0m\n\u001b[1;32m      6\u001b[0m   \u001b[0mprint\u001b[0m\u001b[0;34m(\u001b[0m\u001b[0mi\u001b[0m\u001b[0;34m)\u001b[0m\u001b[0;34m\u001b[0m\u001b[0;34m\u001b[0m\u001b[0m\n\u001b[0;32m----> 7\u001b[0;31m   \u001b[0mprint\u001b[0m\u001b[0;34m(\u001b[0m\u001b[0mdf\u001b[0m\u001b[0;34m.\u001b[0m\u001b[0mloc\u001b[0m\u001b[0;34m[\u001b[0m\u001b[0mdf\u001b[0m\u001b[0;34m.\u001b[0m\u001b[0mCountry\u001b[0m\u001b[0;34m==\u001b[0m\u001b[0mi\u001b[0m\u001b[0;34m]\u001b[0m\u001b[0;34m[\u001b[0m\u001b[0;34m[\u001b[0m\u001b[0;34m'IR%'\u001b[0m\u001b[0;34m,\u001b[0m \u001b[0;34m'Channel'\u001b[0m\u001b[0;34m,\u001b[0m \u001b[0;34m'Country'\u001b[0m\u001b[0;34m]\u001b[0m\u001b[0;34m]\u001b[0m\u001b[0;34m.\u001b[0m\u001b[0mgroupby\u001b[0m\u001b[0;34m(\u001b[0m\u001b[0;34m[\u001b[0m\u001b[0;34m'Channel'\u001b[0m\u001b[0;34m]\u001b[0m\u001b[0;34m)\u001b[0m\u001b[0;34m[\u001b[0m\u001b[0;34m'IR%'\u001b[0m\u001b[0;34m]\u001b[0m\u001b[0;34m.\u001b[0m\u001b[0mdescribe\u001b[0m\u001b[0;34m(\u001b[0m\u001b[0mpercentiles\u001b[0m\u001b[0;34m=\u001b[0m\u001b[0;34m[\u001b[0m\u001b[0;36m.4\u001b[0m\u001b[0;34m,\u001b[0m \u001b[0;36m.6\u001b[0m\u001b[0;34m]\u001b[0m\u001b[0;34m)\u001b[0m \u001b[0;34m)\u001b[0m\u001b[0;34m\u001b[0m\u001b[0;34m\u001b[0m\u001b[0m\n\u001b[0m\u001b[1;32m      8\u001b[0m   \u001b[0mdf\u001b[0m\u001b[0;34m.\u001b[0m\u001b[0mloc\u001b[0m\u001b[0;34m[\u001b[0m\u001b[0mdf\u001b[0m\u001b[0;34m.\u001b[0m\u001b[0mCountry\u001b[0m\u001b[0;34m==\u001b[0m\u001b[0mi\u001b[0m\u001b[0;34m]\u001b[0m\u001b[0;34m[\u001b[0m\u001b[0;34m[\u001b[0m\u001b[0;34m'IR%'\u001b[0m\u001b[0;34m,\u001b[0m \u001b[0;34m'Channel'\u001b[0m\u001b[0;34m,\u001b[0m \u001b[0;34m'Country'\u001b[0m\u001b[0;34m]\u001b[0m\u001b[0;34m]\u001b[0m\u001b[0;34m.\u001b[0m\u001b[0mgroupby\u001b[0m\u001b[0;34m(\u001b[0m\u001b[0;34m[\u001b[0m\u001b[0;34m'Channel'\u001b[0m\u001b[0;34m]\u001b[0m\u001b[0;34m)\u001b[0m\u001b[0;34m[\u001b[0m\u001b[0;34m'IR%'\u001b[0m\u001b[0;34m]\u001b[0m\u001b[0;34m.\u001b[0m\u001b[0mdescribe\u001b[0m\u001b[0;34m(\u001b[0m\u001b[0mpercentiles\u001b[0m\u001b[0;34m=\u001b[0m\u001b[0;34m[\u001b[0m\u001b[0;36m.4\u001b[0m\u001b[0;34m,\u001b[0m \u001b[0;36m.6\u001b[0m\u001b[0;34m]\u001b[0m \u001b[0;34m)\u001b[0m\u001b[0;34m.\u001b[0m\u001b[0mto_excel\u001b[0m\u001b[0;34m(\u001b[0m\u001b[0;34m'2IR_FBIG_download'\u001b[0m\u001b[0;34m+\u001b[0m\u001b[0mstr\u001b[0m\u001b[0;34m(\u001b[0m\u001b[0mi\u001b[0m\u001b[0;34m)\u001b[0m\u001b[0;34m+\u001b[0m\u001b[0;34m\".xlsx\"\u001b[0m\u001b[0;34m)\u001b[0m\u001b[0;34m\u001b[0m\u001b[0;34m\u001b[0m\u001b[0m\n\u001b[1;32m      9\u001b[0m   \u001b[0;32mfrom\u001b[0m \u001b[0mgoogle\u001b[0m\u001b[0;34m.\u001b[0m\u001b[0mcolab\u001b[0m \u001b[0;32mimport\u001b[0m \u001b[0mfiles\u001b[0m\u001b[0;34m\u001b[0m\u001b[0;34m\u001b[0m\u001b[0m\n",
            "\u001b[0;32m/usr/local/lib/python3.7/dist-packages/pandas/core/frame.py\u001b[0m in \u001b[0;36m__getitem__\u001b[0;34m(self, key)\u001b[0m\n\u001b[1;32m   3462\u001b[0m             \u001b[0;32mif\u001b[0m \u001b[0mis_iterator\u001b[0m\u001b[0;34m(\u001b[0m\u001b[0mkey\u001b[0m\u001b[0;34m)\u001b[0m\u001b[0;34m:\u001b[0m\u001b[0;34m\u001b[0m\u001b[0;34m\u001b[0m\u001b[0m\n\u001b[1;32m   3463\u001b[0m                 \u001b[0mkey\u001b[0m \u001b[0;34m=\u001b[0m \u001b[0mlist\u001b[0m\u001b[0;34m(\u001b[0m\u001b[0mkey\u001b[0m\u001b[0;34m)\u001b[0m\u001b[0;34m\u001b[0m\u001b[0;34m\u001b[0m\u001b[0m\n\u001b[0;32m-> 3464\u001b[0;31m             \u001b[0mindexer\u001b[0m \u001b[0;34m=\u001b[0m \u001b[0mself\u001b[0m\u001b[0;34m.\u001b[0m\u001b[0mloc\u001b[0m\u001b[0;34m.\u001b[0m\u001b[0m_get_listlike_indexer\u001b[0m\u001b[0;34m(\u001b[0m\u001b[0mkey\u001b[0m\u001b[0;34m,\u001b[0m \u001b[0maxis\u001b[0m\u001b[0;34m=\u001b[0m\u001b[0;36m1\u001b[0m\u001b[0;34m)\u001b[0m\u001b[0;34m[\u001b[0m\u001b[0;36m1\u001b[0m\u001b[0;34m]\u001b[0m\u001b[0;34m\u001b[0m\u001b[0;34m\u001b[0m\u001b[0m\n\u001b[0m\u001b[1;32m   3465\u001b[0m \u001b[0;34m\u001b[0m\u001b[0m\n\u001b[1;32m   3466\u001b[0m         \u001b[0;31m# take() does not accept boolean indexers\u001b[0m\u001b[0;34m\u001b[0m\u001b[0;34m\u001b[0m\u001b[0;34m\u001b[0m\u001b[0m\n",
            "\u001b[0;32m/usr/local/lib/python3.7/dist-packages/pandas/core/indexing.py\u001b[0m in \u001b[0;36m_get_listlike_indexer\u001b[0;34m(self, key, axis)\u001b[0m\n\u001b[1;32m   1312\u001b[0m             \u001b[0mkeyarr\u001b[0m\u001b[0;34m,\u001b[0m \u001b[0mindexer\u001b[0m\u001b[0;34m,\u001b[0m \u001b[0mnew_indexer\u001b[0m \u001b[0;34m=\u001b[0m \u001b[0max\u001b[0m\u001b[0;34m.\u001b[0m\u001b[0m_reindex_non_unique\u001b[0m\u001b[0;34m(\u001b[0m\u001b[0mkeyarr\u001b[0m\u001b[0;34m)\u001b[0m\u001b[0;34m\u001b[0m\u001b[0;34m\u001b[0m\u001b[0m\n\u001b[1;32m   1313\u001b[0m \u001b[0;34m\u001b[0m\u001b[0m\n\u001b[0;32m-> 1314\u001b[0;31m         \u001b[0mself\u001b[0m\u001b[0;34m.\u001b[0m\u001b[0m_validate_read_indexer\u001b[0m\u001b[0;34m(\u001b[0m\u001b[0mkeyarr\u001b[0m\u001b[0;34m,\u001b[0m \u001b[0mindexer\u001b[0m\u001b[0;34m,\u001b[0m \u001b[0maxis\u001b[0m\u001b[0;34m)\u001b[0m\u001b[0;34m\u001b[0m\u001b[0;34m\u001b[0m\u001b[0m\n\u001b[0m\u001b[1;32m   1315\u001b[0m \u001b[0;34m\u001b[0m\u001b[0m\n\u001b[1;32m   1316\u001b[0m         if needs_i8_conversion(ax.dtype) or isinstance(\n",
            "\u001b[0;32m/usr/local/lib/python3.7/dist-packages/pandas/core/indexing.py\u001b[0m in \u001b[0;36m_validate_read_indexer\u001b[0;34m(self, key, indexer, axis)\u001b[0m\n\u001b[1;32m   1375\u001b[0m \u001b[0;34m\u001b[0m\u001b[0m\n\u001b[1;32m   1376\u001b[0m             \u001b[0mnot_found\u001b[0m \u001b[0;34m=\u001b[0m \u001b[0mlist\u001b[0m\u001b[0;34m(\u001b[0m\u001b[0mensure_index\u001b[0m\u001b[0;34m(\u001b[0m\u001b[0mkey\u001b[0m\u001b[0;34m)\u001b[0m\u001b[0;34m[\u001b[0m\u001b[0mmissing_mask\u001b[0m\u001b[0;34m.\u001b[0m\u001b[0mnonzero\u001b[0m\u001b[0;34m(\u001b[0m\u001b[0;34m)\u001b[0m\u001b[0;34m[\u001b[0m\u001b[0;36m0\u001b[0m\u001b[0;34m]\u001b[0m\u001b[0;34m]\u001b[0m\u001b[0;34m.\u001b[0m\u001b[0munique\u001b[0m\u001b[0;34m(\u001b[0m\u001b[0;34m)\u001b[0m\u001b[0;34m)\u001b[0m\u001b[0;34m\u001b[0m\u001b[0;34m\u001b[0m\u001b[0m\n\u001b[0;32m-> 1377\u001b[0;31m             \u001b[0;32mraise\u001b[0m \u001b[0mKeyError\u001b[0m\u001b[0;34m(\u001b[0m\u001b[0;34mf\"{not_found} not in index\"\u001b[0m\u001b[0;34m)\u001b[0m\u001b[0;34m\u001b[0m\u001b[0;34m\u001b[0m\u001b[0m\n\u001b[0m\u001b[1;32m   1378\u001b[0m \u001b[0;34m\u001b[0m\u001b[0m\n\u001b[1;32m   1379\u001b[0m \u001b[0;34m\u001b[0m\u001b[0m\n",
            "\u001b[0;31mKeyError\u001b[0m: \"['Channel'] not in index\""
          ]
        }
      ]
    },
    {
      "cell_type": "code",
      "source": [
        "df_download"
      ],
      "metadata": {
        "colab": {
          "base_uri": "https://localhost:8080/",
          "height": 49
        },
        "id": "Ni7Ns2CZ3TnE",
        "outputId": "5d00c158-82c2-47da-ee40-637b8ec689b0"
      },
      "execution_count": null,
      "outputs": [
        {
          "output_type": "execute_result",
          "data": {
            "text/plain": [
              "Empty DataFrame\n",
              "Columns: []\n",
              "Index: []"
            ],
            "text/html": [
              "\n",
              "  <div id=\"df-f4e9b673-1ade-4113-bb8e-571b308827ac\">\n",
              "    <div class=\"colab-df-container\">\n",
              "      <div>\n",
              "<style scoped>\n",
              "    .dataframe tbody tr th:only-of-type {\n",
              "        vertical-align: middle;\n",
              "    }\n",
              "\n",
              "    .dataframe tbody tr th {\n",
              "        vertical-align: top;\n",
              "    }\n",
              "\n",
              "    .dataframe thead th {\n",
              "        text-align: right;\n",
              "    }\n",
              "</style>\n",
              "<table border=\"1\" class=\"dataframe\">\n",
              "  <thead>\n",
              "    <tr style=\"text-align: right;\">\n",
              "      <th></th>\n",
              "    </tr>\n",
              "  </thead>\n",
              "  <tbody>\n",
              "  </tbody>\n",
              "</table>\n",
              "</div>\n",
              "      <button class=\"colab-df-convert\" onclick=\"convertToInteractive('df-f4e9b673-1ade-4113-bb8e-571b308827ac')\"\n",
              "              title=\"Convert this dataframe to an interactive table.\"\n",
              "              style=\"display:none;\">\n",
              "        \n",
              "  <svg xmlns=\"http://www.w3.org/2000/svg\" height=\"24px\"viewBox=\"0 0 24 24\"\n",
              "       width=\"24px\">\n",
              "    <path d=\"M0 0h24v24H0V0z\" fill=\"none\"/>\n",
              "    <path d=\"M18.56 5.44l.94 2.06.94-2.06 2.06-.94-2.06-.94-.94-2.06-.94 2.06-2.06.94zm-11 1L8.5 8.5l.94-2.06 2.06-.94-2.06-.94L8.5 2.5l-.94 2.06-2.06.94zm10 10l.94 2.06.94-2.06 2.06-.94-2.06-.94-.94-2.06-.94 2.06-2.06.94z\"/><path d=\"M17.41 7.96l-1.37-1.37c-.4-.4-.92-.59-1.43-.59-.52 0-1.04.2-1.43.59L10.3 9.45l-7.72 7.72c-.78.78-.78 2.05 0 2.83L4 21.41c.39.39.9.59 1.41.59.51 0 1.02-.2 1.41-.59l7.78-7.78 2.81-2.81c.8-.78.8-2.07 0-2.86zM5.41 20L4 18.59l7.72-7.72 1.47 1.35L5.41 20z\"/>\n",
              "  </svg>\n",
              "      </button>\n",
              "      \n",
              "  <style>\n",
              "    .colab-df-container {\n",
              "      display:flex;\n",
              "      flex-wrap:wrap;\n",
              "      gap: 12px;\n",
              "    }\n",
              "\n",
              "    .colab-df-convert {\n",
              "      background-color: #E8F0FE;\n",
              "      border: none;\n",
              "      border-radius: 50%;\n",
              "      cursor: pointer;\n",
              "      display: none;\n",
              "      fill: #1967D2;\n",
              "      height: 32px;\n",
              "      padding: 0 0 0 0;\n",
              "      width: 32px;\n",
              "    }\n",
              "\n",
              "    .colab-df-convert:hover {\n",
              "      background-color: #E2EBFA;\n",
              "      box-shadow: 0px 1px 2px rgba(60, 64, 67, 0.3), 0px 1px 3px 1px rgba(60, 64, 67, 0.15);\n",
              "      fill: #174EA6;\n",
              "    }\n",
              "\n",
              "    [theme=dark] .colab-df-convert {\n",
              "      background-color: #3B4455;\n",
              "      fill: #D2E3FC;\n",
              "    }\n",
              "\n",
              "    [theme=dark] .colab-df-convert:hover {\n",
              "      background-color: #434B5C;\n",
              "      box-shadow: 0px 1px 3px 1px rgba(0, 0, 0, 0.15);\n",
              "      filter: drop-shadow(0px 1px 2px rgba(0, 0, 0, 0.3));\n",
              "      fill: #FFFFFF;\n",
              "    }\n",
              "  </style>\n",
              "\n",
              "      <script>\n",
              "        const buttonEl =\n",
              "          document.querySelector('#df-f4e9b673-1ade-4113-bb8e-571b308827ac button.colab-df-convert');\n",
              "        buttonEl.style.display =\n",
              "          google.colab.kernel.accessAllowed ? 'block' : 'none';\n",
              "\n",
              "        async function convertToInteractive(key) {\n",
              "          const element = document.querySelector('#df-f4e9b673-1ade-4113-bb8e-571b308827ac');\n",
              "          const dataTable =\n",
              "            await google.colab.kernel.invokeFunction('convertToInteractive',\n",
              "                                                     [key], {});\n",
              "          if (!dataTable) return;\n",
              "\n",
              "          const docLinkHtml = 'Like what you see? Visit the ' +\n",
              "            '<a target=\"_blank\" href=https://colab.research.google.com/notebooks/data_table.ipynb>data table notebook</a>'\n",
              "            + ' to learn more about interactive tables.';\n",
              "          element.innerHTML = '';\n",
              "          dataTable['output_type'] = 'display_data';\n",
              "          await google.colab.output.renderOutput(dataTable, element);\n",
              "          const docLink = document.createElement('div');\n",
              "          docLink.innerHTML = docLinkHtml;\n",
              "          element.appendChild(docLink);\n",
              "        }\n",
              "      </script>\n",
              "    </div>\n",
              "  </div>\n",
              "  "
            ]
          },
          "metadata": {},
          "execution_count": 161
        }
      ]
    },
    {
      "cell_type": "code",
      "source": [],
      "metadata": {
        "id": "Y3gvu---fsNi"
      },
      "execution_count": null,
      "outputs": []
    },
    {
      "cell_type": "code",
      "source": [
        "# Scatter plot\n",
        "for i in list(set(df.Country)):\n",
        "  ax1 = df.loc[df.Country==i][['CPM', 'Channel']].boxplot( by='Channel', color='blue', figsize=(10, 7))\n",
        "  plt.legend(labels=['CPM'])\n",
        "  plt.title('Relationship between country and CPM in '+str(i), size=24)\n",
        "  plt.xlabel('Country', size=18)\n",
        "  plt.ylabel('CPM', size=18);"
      ],
      "metadata": {
        "colab": {
          "base_uri": "https://localhost:8080/",
          "height": 425
        },
        "id": "4NieTankuxNW",
        "outputId": "f87b5560-3522-462e-f59a-9e4b2733d4b9"
      },
      "execution_count": null,
      "outputs": [
        {
          "output_type": "error",
          "ename": "KeyError",
          "evalue": "ignored",
          "traceback": [
            "\u001b[0;31m---------------------------------------------------------------------------\u001b[0m",
            "\u001b[0;31mKeyError\u001b[0m                                  Traceback (most recent call last)",
            "\u001b[0;32m<ipython-input-162-a35dec86fc86>\u001b[0m in \u001b[0;36m<module>\u001b[0;34m()\u001b[0m\n\u001b[1;32m      1\u001b[0m \u001b[0;31m# Scatter plot\u001b[0m\u001b[0;34m\u001b[0m\u001b[0;34m\u001b[0m\u001b[0;34m\u001b[0m\u001b[0m\n\u001b[1;32m      2\u001b[0m \u001b[0;32mfor\u001b[0m \u001b[0mi\u001b[0m \u001b[0;32min\u001b[0m \u001b[0mlist\u001b[0m\u001b[0;34m(\u001b[0m\u001b[0mset\u001b[0m\u001b[0;34m(\u001b[0m\u001b[0mdf\u001b[0m\u001b[0;34m.\u001b[0m\u001b[0mCountry\u001b[0m\u001b[0;34m)\u001b[0m\u001b[0;34m)\u001b[0m\u001b[0;34m:\u001b[0m\u001b[0;34m\u001b[0m\u001b[0;34m\u001b[0m\u001b[0m\n\u001b[0;32m----> 3\u001b[0;31m   \u001b[0max1\u001b[0m \u001b[0;34m=\u001b[0m \u001b[0mdf\u001b[0m\u001b[0;34m.\u001b[0m\u001b[0mloc\u001b[0m\u001b[0;34m[\u001b[0m\u001b[0mdf\u001b[0m\u001b[0;34m.\u001b[0m\u001b[0mCountry\u001b[0m\u001b[0;34m==\u001b[0m\u001b[0mi\u001b[0m\u001b[0;34m]\u001b[0m\u001b[0;34m[\u001b[0m\u001b[0;34m[\u001b[0m\u001b[0;34m'CPM'\u001b[0m\u001b[0;34m,\u001b[0m \u001b[0;34m'Channel'\u001b[0m\u001b[0;34m]\u001b[0m\u001b[0;34m]\u001b[0m\u001b[0;34m.\u001b[0m\u001b[0mboxplot\u001b[0m\u001b[0;34m(\u001b[0m \u001b[0mby\u001b[0m\u001b[0;34m=\u001b[0m\u001b[0;34m'Channel'\u001b[0m\u001b[0;34m,\u001b[0m \u001b[0mcolor\u001b[0m\u001b[0;34m=\u001b[0m\u001b[0;34m'blue'\u001b[0m\u001b[0;34m,\u001b[0m \u001b[0mfigsize\u001b[0m\u001b[0;34m=\u001b[0m\u001b[0;34m(\u001b[0m\u001b[0;36m10\u001b[0m\u001b[0;34m,\u001b[0m \u001b[0;36m7\u001b[0m\u001b[0;34m)\u001b[0m\u001b[0;34m)\u001b[0m\u001b[0;34m\u001b[0m\u001b[0;34m\u001b[0m\u001b[0m\n\u001b[0m\u001b[1;32m      4\u001b[0m   \u001b[0mplt\u001b[0m\u001b[0;34m.\u001b[0m\u001b[0mlegend\u001b[0m\u001b[0;34m(\u001b[0m\u001b[0mlabels\u001b[0m\u001b[0;34m=\u001b[0m\u001b[0;34m[\u001b[0m\u001b[0;34m'CPM'\u001b[0m\u001b[0;34m]\u001b[0m\u001b[0;34m)\u001b[0m\u001b[0;34m\u001b[0m\u001b[0;34m\u001b[0m\u001b[0m\n\u001b[1;32m      5\u001b[0m   \u001b[0mplt\u001b[0m\u001b[0;34m.\u001b[0m\u001b[0mtitle\u001b[0m\u001b[0;34m(\u001b[0m\u001b[0;34m'Relationship between country and CPM in '\u001b[0m\u001b[0;34m+\u001b[0m\u001b[0mstr\u001b[0m\u001b[0;34m(\u001b[0m\u001b[0mi\u001b[0m\u001b[0;34m)\u001b[0m\u001b[0;34m,\u001b[0m \u001b[0msize\u001b[0m\u001b[0;34m=\u001b[0m\u001b[0;36m24\u001b[0m\u001b[0;34m)\u001b[0m\u001b[0;34m\u001b[0m\u001b[0;34m\u001b[0m\u001b[0m\n",
            "\u001b[0;32m/usr/local/lib/python3.7/dist-packages/pandas/core/frame.py\u001b[0m in \u001b[0;36m__getitem__\u001b[0;34m(self, key)\u001b[0m\n\u001b[1;32m   3462\u001b[0m             \u001b[0;32mif\u001b[0m \u001b[0mis_iterator\u001b[0m\u001b[0;34m(\u001b[0m\u001b[0mkey\u001b[0m\u001b[0;34m)\u001b[0m\u001b[0;34m:\u001b[0m\u001b[0;34m\u001b[0m\u001b[0;34m\u001b[0m\u001b[0m\n\u001b[1;32m   3463\u001b[0m                 \u001b[0mkey\u001b[0m \u001b[0;34m=\u001b[0m \u001b[0mlist\u001b[0m\u001b[0;34m(\u001b[0m\u001b[0mkey\u001b[0m\u001b[0;34m)\u001b[0m\u001b[0;34m\u001b[0m\u001b[0;34m\u001b[0m\u001b[0m\n\u001b[0;32m-> 3464\u001b[0;31m             \u001b[0mindexer\u001b[0m \u001b[0;34m=\u001b[0m \u001b[0mself\u001b[0m\u001b[0;34m.\u001b[0m\u001b[0mloc\u001b[0m\u001b[0;34m.\u001b[0m\u001b[0m_get_listlike_indexer\u001b[0m\u001b[0;34m(\u001b[0m\u001b[0mkey\u001b[0m\u001b[0;34m,\u001b[0m \u001b[0maxis\u001b[0m\u001b[0;34m=\u001b[0m\u001b[0;36m1\u001b[0m\u001b[0;34m)\u001b[0m\u001b[0;34m[\u001b[0m\u001b[0;36m1\u001b[0m\u001b[0;34m]\u001b[0m\u001b[0;34m\u001b[0m\u001b[0;34m\u001b[0m\u001b[0m\n\u001b[0m\u001b[1;32m   3465\u001b[0m \u001b[0;34m\u001b[0m\u001b[0m\n\u001b[1;32m   3466\u001b[0m         \u001b[0;31m# take() does not accept boolean indexers\u001b[0m\u001b[0;34m\u001b[0m\u001b[0;34m\u001b[0m\u001b[0;34m\u001b[0m\u001b[0m\n",
            "\u001b[0;32m/usr/local/lib/python3.7/dist-packages/pandas/core/indexing.py\u001b[0m in \u001b[0;36m_get_listlike_indexer\u001b[0;34m(self, key, axis)\u001b[0m\n\u001b[1;32m   1312\u001b[0m             \u001b[0mkeyarr\u001b[0m\u001b[0;34m,\u001b[0m \u001b[0mindexer\u001b[0m\u001b[0;34m,\u001b[0m \u001b[0mnew_indexer\u001b[0m \u001b[0;34m=\u001b[0m \u001b[0max\u001b[0m\u001b[0;34m.\u001b[0m\u001b[0m_reindex_non_unique\u001b[0m\u001b[0;34m(\u001b[0m\u001b[0mkeyarr\u001b[0m\u001b[0;34m)\u001b[0m\u001b[0;34m\u001b[0m\u001b[0;34m\u001b[0m\u001b[0m\n\u001b[1;32m   1313\u001b[0m \u001b[0;34m\u001b[0m\u001b[0m\n\u001b[0;32m-> 1314\u001b[0;31m         \u001b[0mself\u001b[0m\u001b[0;34m.\u001b[0m\u001b[0m_validate_read_indexer\u001b[0m\u001b[0;34m(\u001b[0m\u001b[0mkeyarr\u001b[0m\u001b[0;34m,\u001b[0m \u001b[0mindexer\u001b[0m\u001b[0;34m,\u001b[0m \u001b[0maxis\u001b[0m\u001b[0;34m)\u001b[0m\u001b[0;34m\u001b[0m\u001b[0;34m\u001b[0m\u001b[0m\n\u001b[0m\u001b[1;32m   1315\u001b[0m \u001b[0;34m\u001b[0m\u001b[0m\n\u001b[1;32m   1316\u001b[0m         if needs_i8_conversion(ax.dtype) or isinstance(\n",
            "\u001b[0;32m/usr/local/lib/python3.7/dist-packages/pandas/core/indexing.py\u001b[0m in \u001b[0;36m_validate_read_indexer\u001b[0;34m(self, key, indexer, axis)\u001b[0m\n\u001b[1;32m   1375\u001b[0m \u001b[0;34m\u001b[0m\u001b[0m\n\u001b[1;32m   1376\u001b[0m             \u001b[0mnot_found\u001b[0m \u001b[0;34m=\u001b[0m \u001b[0mlist\u001b[0m\u001b[0;34m(\u001b[0m\u001b[0mensure_index\u001b[0m\u001b[0;34m(\u001b[0m\u001b[0mkey\u001b[0m\u001b[0;34m)\u001b[0m\u001b[0;34m[\u001b[0m\u001b[0mmissing_mask\u001b[0m\u001b[0;34m.\u001b[0m\u001b[0mnonzero\u001b[0m\u001b[0;34m(\u001b[0m\u001b[0;34m)\u001b[0m\u001b[0;34m[\u001b[0m\u001b[0;36m0\u001b[0m\u001b[0;34m]\u001b[0m\u001b[0;34m]\u001b[0m\u001b[0;34m.\u001b[0m\u001b[0munique\u001b[0m\u001b[0;34m(\u001b[0m\u001b[0;34m)\u001b[0m\u001b[0;34m)\u001b[0m\u001b[0;34m\u001b[0m\u001b[0;34m\u001b[0m\u001b[0m\n\u001b[0;32m-> 1377\u001b[0;31m             \u001b[0;32mraise\u001b[0m \u001b[0mKeyError\u001b[0m\u001b[0;34m(\u001b[0m\u001b[0;34mf\"{not_found} not in index\"\u001b[0m\u001b[0;34m)\u001b[0m\u001b[0;34m\u001b[0m\u001b[0;34m\u001b[0m\u001b[0m\n\u001b[0m\u001b[1;32m   1378\u001b[0m \u001b[0;34m\u001b[0m\u001b[0m\n\u001b[1;32m   1379\u001b[0m \u001b[0;34m\u001b[0m\u001b[0m\n",
            "\u001b[0;31mKeyError\u001b[0m: \"['Channel'] not in index\""
          ]
        }
      ]
    },
    {
      "cell_type": "code",
      "source": [
        "# Scatter plot\n",
        "ax1 = df[['CPM', 'Country']].boxplot( by='Country', color='blue', figsize=(10, 7))\n",
        "\n",
        "\n",
        "\n",
        "plt.legend(labels=['CPM'])\n",
        "plt.title('Relationship between country and CPM', size=24)\n",
        "plt.xlabel('Country', size=18)\n",
        "plt.ylabel('CPM', size=18);"
      ],
      "metadata": {
        "id": "Ci4ekzW2WDZV",
        "colab": {
          "base_uri": "https://localhost:8080/",
          "height": 544
        },
        "outputId": "991b49aa-53ef-4293-981a-ca538709595f"
      },
      "execution_count": null,
      "outputs": [
        {
          "output_type": "stream",
          "name": "stderr",
          "text": [
            "/usr/local/lib/python3.7/dist-packages/matplotlib/cbook/__init__.py:1376: VisibleDeprecationWarning: Creating an ndarray from ragged nested sequences (which is a list-or-tuple of lists-or-tuples-or ndarrays with different lengths or shapes) is deprecated. If you meant to do this, you must specify 'dtype=object' when creating the ndarray.\n",
            "  X = np.atleast_1d(X.T if isinstance(X, np.ndarray) else np.asarray(X))\n"
          ]
        },
        {
          "output_type": "display_data",
          "data": {
            "text/plain": [
              "<Figure size 720x504 with 1 Axes>"
            ],
            "image/png": "[encoded data removed]"
          },
          "metadata": {}
        }
      ]
    },
    {
      "cell_type": "code",
      "source": [
        "# Scatter plot\n",
        "ax1 = df[['CPM', 'Giorni ON']].boxplot( by='Giorni ON', color='blue', figsize=(10, 7))\n",
        "\n",
        "\n",
        "\n",
        "plt.legend(labels=['CPM'])\n",
        "plt.title('Relationship between days on and CPM', size=24)\n",
        "plt.xlabel('days on', size=18)\n",
        "plt.ylabel('CPM', size=18);"
      ],
      "metadata": {
        "colab": {
          "base_uri": "https://localhost:8080/",
          "height": 407
        },
        "id": "olC-RnBMN-sF",
        "outputId": "99aa8d1c-e8cd-4af1-8726-f70e82f3fdf5"
      },
      "execution_count": null,
      "outputs": [
        {
          "output_type": "error",
          "ename": "KeyError",
          "evalue": "ignored",
          "traceback": [
            "\u001b[0;31m---------------------------------------------------------------------------\u001b[0m",
            "\u001b[0;31mKeyError\u001b[0m                                  Traceback (most recent call last)",
            "\u001b[0;32m<ipython-input-461-7b3a4118ffc5>\u001b[0m in \u001b[0;36m<module>\u001b[0;34m()\u001b[0m\n\u001b[1;32m      1\u001b[0m \u001b[0;31m# Scatter plot\u001b[0m\u001b[0;34m\u001b[0m\u001b[0;34m\u001b[0m\u001b[0;34m\u001b[0m\u001b[0m\n\u001b[0;32m----> 2\u001b[0;31m \u001b[0max1\u001b[0m \u001b[0;34m=\u001b[0m \u001b[0mdf\u001b[0m\u001b[0;34m[\u001b[0m\u001b[0;34m[\u001b[0m\u001b[0;34m'CPM'\u001b[0m\u001b[0;34m,\u001b[0m \u001b[0;34m'Giorni ON'\u001b[0m\u001b[0;34m]\u001b[0m\u001b[0;34m]\u001b[0m\u001b[0;34m.\u001b[0m\u001b[0mboxplot\u001b[0m\u001b[0;34m(\u001b[0m \u001b[0mby\u001b[0m\u001b[0;34m=\u001b[0m\u001b[0;34m'Giorni ON'\u001b[0m\u001b[0;34m,\u001b[0m \u001b[0mcolor\u001b[0m\u001b[0;34m=\u001b[0m\u001b[0;34m'blue'\u001b[0m\u001b[0;34m,\u001b[0m \u001b[0mfigsize\u001b[0m\u001b[0;34m=\u001b[0m\u001b[0;34m(\u001b[0m\u001b[0;36m10\u001b[0m\u001b[0;34m,\u001b[0m \u001b[0;36m7\u001b[0m\u001b[0;34m)\u001b[0m\u001b[0;34m)\u001b[0m\u001b[0;34m\u001b[0m\u001b[0;34m\u001b[0m\u001b[0m\n\u001b[0m\u001b[1;32m      3\u001b[0m \u001b[0;34m\u001b[0m\u001b[0m\n\u001b[1;32m      4\u001b[0m \u001b[0;34m\u001b[0m\u001b[0m\n\u001b[1;32m      5\u001b[0m \u001b[0;34m\u001b[0m\u001b[0m\n",
            "\u001b[0;32m/usr/local/lib/python3.7/dist-packages/pandas/core/frame.py\u001b[0m in \u001b[0;36m__getitem__\u001b[0;34m(self, key)\u001b[0m\n\u001b[1;32m   3462\u001b[0m             \u001b[0;32mif\u001b[0m \u001b[0mis_iterator\u001b[0m\u001b[0;34m(\u001b[0m\u001b[0mkey\u001b[0m\u001b[0;34m)\u001b[0m\u001b[0;34m:\u001b[0m\u001b[0;34m\u001b[0m\u001b[0;34m\u001b[0m\u001b[0m\n\u001b[1;32m   3463\u001b[0m                 \u001b[0mkey\u001b[0m \u001b[0;34m=\u001b[0m \u001b[0mlist\u001b[0m\u001b[0;34m(\u001b[0m\u001b[0mkey\u001b[0m\u001b[0;34m)\u001b[0m\u001b[0;34m\u001b[0m\u001b[0;34m\u001b[0m\u001b[0m\n\u001b[0;32m-> 3464\u001b[0;31m             \u001b[0mindexer\u001b[0m \u001b[0;34m=\u001b[0m \u001b[0mself\u001b[0m\u001b[0;34m.\u001b[0m\u001b[0mloc\u001b[0m\u001b[0;34m.\u001b[0m\u001b[0m_get_listlike_indexer\u001b[0m\u001b[0;34m(\u001b[0m\u001b[0mkey\u001b[0m\u001b[0;34m,\u001b[0m \u001b[0maxis\u001b[0m\u001b[0;34m=\u001b[0m\u001b[0;36m1\u001b[0m\u001b[0;34m)\u001b[0m\u001b[0;34m[\u001b[0m\u001b[0;36m1\u001b[0m\u001b[0;34m]\u001b[0m\u001b[0;34m\u001b[0m\u001b[0;34m\u001b[0m\u001b[0m\n\u001b[0m\u001b[1;32m   3465\u001b[0m \u001b[0;34m\u001b[0m\u001b[0m\n\u001b[1;32m   3466\u001b[0m         \u001b[0;31m# take() does not accept boolean indexers\u001b[0m\u001b[0;34m\u001b[0m\u001b[0;34m\u001b[0m\u001b[0;34m\u001b[0m\u001b[0m\n",
            "\u001b[0;32m/usr/local/lib/python3.7/dist-packages/pandas/core/indexing.py\u001b[0m in \u001b[0;36m_get_listlike_indexer\u001b[0;34m(self, key, axis)\u001b[0m\n\u001b[1;32m   1312\u001b[0m             \u001b[0mkeyarr\u001b[0m\u001b[0;34m,\u001b[0m \u001b[0mindexer\u001b[0m\u001b[0;34m,\u001b[0m \u001b[0mnew_indexer\u001b[0m \u001b[0;34m=\u001b[0m \u001b[0max\u001b[0m\u001b[0;34m.\u001b[0m\u001b[0m_reindex_non_unique\u001b[0m\u001b[0;34m(\u001b[0m\u001b[0mkeyarr\u001b[0m\u001b[0;34m)\u001b[0m\u001b[0;34m\u001b[0m\u001b[0;34m\u001b[0m\u001b[0m\n\u001b[1;32m   1313\u001b[0m \u001b[0;34m\u001b[0m\u001b[0m\n\u001b[0;32m-> 1314\u001b[0;31m         \u001b[0mself\u001b[0m\u001b[0;34m.\u001b[0m\u001b[0m_validate_read_indexer\u001b[0m\u001b[0;34m(\u001b[0m\u001b[0mkeyarr\u001b[0m\u001b[0;34m,\u001b[0m \u001b[0mindexer\u001b[0m\u001b[0;34m,\u001b[0m \u001b[0maxis\u001b[0m\u001b[0;34m)\u001b[0m\u001b[0;34m\u001b[0m\u001b[0;34m\u001b[0m\u001b[0m\n\u001b[0m\u001b[1;32m   1315\u001b[0m \u001b[0;34m\u001b[0m\u001b[0m\n\u001b[1;32m   1316\u001b[0m         if needs_i8_conversion(ax.dtype) or isinstance(\n",
            "\u001b[0;32m/usr/local/lib/python3.7/dist-packages/pandas/core/indexing.py\u001b[0m in \u001b[0;36m_validate_read_indexer\u001b[0;34m(self, key, indexer, axis)\u001b[0m\n\u001b[1;32m   1375\u001b[0m \u001b[0;34m\u001b[0m\u001b[0m\n\u001b[1;32m   1376\u001b[0m             \u001b[0mnot_found\u001b[0m \u001b[0;34m=\u001b[0m \u001b[0mlist\u001b[0m\u001b[0;34m(\u001b[0m\u001b[0mensure_index\u001b[0m\u001b[0;34m(\u001b[0m\u001b[0mkey\u001b[0m\u001b[0;34m)\u001b[0m\u001b[0;34m[\u001b[0m\u001b[0mmissing_mask\u001b[0m\u001b[0;34m.\u001b[0m\u001b[0mnonzero\u001b[0m\u001b[0;34m(\u001b[0m\u001b[0;34m)\u001b[0m\u001b[0;34m[\u001b[0m\u001b[0;36m0\u001b[0m\u001b[0;34m]\u001b[0m\u001b[0;34m]\u001b[0m\u001b[0;34m.\u001b[0m\u001b[0munique\u001b[0m\u001b[0;34m(\u001b[0m\u001b[0;34m)\u001b[0m\u001b[0;34m)\u001b[0m\u001b[0;34m\u001b[0m\u001b[0;34m\u001b[0m\u001b[0m\n\u001b[0;32m-> 1377\u001b[0;31m             \u001b[0;32mraise\u001b[0m \u001b[0mKeyError\u001b[0m\u001b[0;34m(\u001b[0m\u001b[0;34mf\"{not_found} not in index\"\u001b[0m\u001b[0;34m)\u001b[0m\u001b[0;34m\u001b[0m\u001b[0;34m\u001b[0m\u001b[0m\n\u001b[0m\u001b[1;32m   1378\u001b[0m \u001b[0;34m\u001b[0m\u001b[0m\n\u001b[1;32m   1379\u001b[0m \u001b[0;34m\u001b[0m\u001b[0m\n",
            "\u001b[0;31mKeyError\u001b[0m: \"['Giorni ON'] not in index\""
          ]
        }
      ]
    },
    {
      "cell_type": "code",
      "source": [
        "\n",
        "df=df_original\n",
        "\n",
        "\n",
        "# Scatter plot\n",
        "ax1 = df.loc[df['Obiettivo']==\"REACH\"][['CPM', 'Giorni ON']].boxplot( by='Giorni ON', color='blue', figsize=(10, 7))\n",
        "\n",
        "\n",
        "\n",
        "plt.legend(labels=['CPM'])\n",
        "plt.title('Relationship between days on and CPM obiettivo REACH', size=24)\n",
        "plt.xlabel('days on', size=18)\n",
        "plt.ylabel('CPM', size=18);"
      ],
      "metadata": {
        "id": "rDHEEy9cPKjL"
      },
      "execution_count": null,
      "outputs": []
    },
    {
      "cell_type": "markdown",
      "source": [
        "Numero post vs CPM"
      ],
      "metadata": {
        "id": "ZAK-_LcSPzsn"
      }
    },
    {
      "cell_type": "code",
      "source": [
        "df=df_original\n",
        "df['numero post'] = df.groupby('anno mese')['anno mese'].transform('count')\n",
        "\n",
        "# Scatter plot\n",
        "ax1 = df[['CPM', 'numero post']].boxplot( by='numero post', color='blue', figsize=(10, 7))\n",
        "\n",
        "\n",
        "\n",
        "plt.legend(labels=['CPM'])\n",
        "plt.title('Relationship number of posts and CPM', size=24)\n",
        "plt.xlabel('n post', size=18)\n",
        "plt.ylabel('CPM', size=18);"
      ],
      "metadata": {
        "colab": {
          "base_uri": "https://localhost:8080/",
          "height": 240
        },
        "id": "_-rp3AAwPWj_",
        "outputId": "f5585211-cfa8-48b8-ebe3-ec7ef17bf1c5"
      },
      "execution_count": null,
      "outputs": [
        {
          "output_type": "error",
          "ename": "NameError",
          "evalue": "ignored",
          "traceback": [
            "\u001b[0;31m---------------------------------------------------------------------------\u001b[0m",
            "\u001b[0;31mNameError\u001b[0m                                 Traceback (most recent call last)",
            "\u001b[0;32m<ipython-input-163-7b37be6a838b>\u001b[0m in \u001b[0;36m<module>\u001b[0;34m()\u001b[0m\n\u001b[0;32m----> 1\u001b[0;31m \u001b[0mdf\u001b[0m\u001b[0;34m=\u001b[0m\u001b[0mdf_original\u001b[0m\u001b[0;34m\u001b[0m\u001b[0;34m\u001b[0m\u001b[0m\n\u001b[0m\u001b[1;32m      2\u001b[0m \u001b[0mdf\u001b[0m\u001b[0;34m[\u001b[0m\u001b[0;34m'numero post'\u001b[0m\u001b[0;34m]\u001b[0m \u001b[0;34m=\u001b[0m \u001b[0mdf\u001b[0m\u001b[0;34m.\u001b[0m\u001b[0mgroupby\u001b[0m\u001b[0;34m(\u001b[0m\u001b[0;34m'anno mese'\u001b[0m\u001b[0;34m)\u001b[0m\u001b[0;34m[\u001b[0m\u001b[0;34m'anno mese'\u001b[0m\u001b[0;34m]\u001b[0m\u001b[0;34m.\u001b[0m\u001b[0mtransform\u001b[0m\u001b[0;34m(\u001b[0m\u001b[0;34m'count'\u001b[0m\u001b[0;34m)\u001b[0m\u001b[0;34m\u001b[0m\u001b[0;34m\u001b[0m\u001b[0m\n\u001b[1;32m      3\u001b[0m \u001b[0;34m\u001b[0m\u001b[0m\n\u001b[1;32m      4\u001b[0m \u001b[0;31m# Scatter plot\u001b[0m\u001b[0;34m\u001b[0m\u001b[0;34m\u001b[0m\u001b[0;34m\u001b[0m\u001b[0m\n\u001b[1;32m      5\u001b[0m \u001b[0max1\u001b[0m \u001b[0;34m=\u001b[0m \u001b[0mdf\u001b[0m\u001b[0;34m[\u001b[0m\u001b[0;34m[\u001b[0m\u001b[0;34m'CPM'\u001b[0m\u001b[0;34m,\u001b[0m \u001b[0;34m'numero post'\u001b[0m\u001b[0;34m]\u001b[0m\u001b[0;34m]\u001b[0m\u001b[0;34m.\u001b[0m\u001b[0mboxplot\u001b[0m\u001b[0;34m(\u001b[0m \u001b[0mby\u001b[0m\u001b[0;34m=\u001b[0m\u001b[0;34m'numero post'\u001b[0m\u001b[0;34m,\u001b[0m \u001b[0mcolor\u001b[0m\u001b[0;34m=\u001b[0m\u001b[0;34m'blue'\u001b[0m\u001b[0;34m,\u001b[0m \u001b[0mfigsize\u001b[0m\u001b[0;34m=\u001b[0m\u001b[0;34m(\u001b[0m\u001b[0;36m10\u001b[0m\u001b[0;34m,\u001b[0m \u001b[0;36m7\u001b[0m\u001b[0;34m)\u001b[0m\u001b[0;34m)\u001b[0m\u001b[0;34m\u001b[0m\u001b[0;34m\u001b[0m\u001b[0m\n",
            "\u001b[0;31mNameError\u001b[0m: name 'df_original' is not defined"
          ]
        }
      ]
    },
    {
      "cell_type": "code",
      "source": [],
      "metadata": {
        "id": "yNv2JnHiSjVp"
      },
      "execution_count": null,
      "outputs": []
    },
    {
      "cell_type": "code",
      "source": [
        "df=df_original\n",
        "\n",
        "df=df.loc[df['Obiettivo']=='REACH']\n",
        "df['numero post'] = df.groupby('anno mese')['anno mese'].transform('count')\n",
        "\n",
        "# Scatter plot\n",
        "ax1 = df[['CPM', 'numero post']].boxplot( by='numero post', color='blue', figsize=(10, 7))\n",
        "\n",
        "\n",
        "\n",
        "plt.legend(labels=['CPM'])\n",
        "plt.title('Relationship between monthly number of posts and CPM obiettivo REACH', size=12)\n",
        "plt.xlabel('n post', size=18)\n",
        "plt.ylabel('CPM', size=18);"
      ],
      "metadata": {
        "colab": {
          "base_uri": "https://localhost:8080/",
          "height": 240
        },
        "id": "OXucEfPmQgJQ",
        "outputId": "6d67de9f-e569-4dac-818b-f1a05cf41fb1"
      },
      "execution_count": null,
      "outputs": [
        {
          "output_type": "error",
          "ename": "NameError",
          "evalue": "ignored",
          "traceback": [
            "\u001b[0;31m---------------------------------------------------------------------------\u001b[0m",
            "\u001b[0;31mNameError\u001b[0m                                 Traceback (most recent call last)",
            "\u001b[0;32m<ipython-input-164-9fa3ff9ba434>\u001b[0m in \u001b[0;36m<module>\u001b[0;34m()\u001b[0m\n\u001b[0;32m----> 1\u001b[0;31m \u001b[0mdf\u001b[0m\u001b[0;34m=\u001b[0m\u001b[0mdf_original\u001b[0m\u001b[0;34m\u001b[0m\u001b[0;34m\u001b[0m\u001b[0m\n\u001b[0m\u001b[1;32m      2\u001b[0m \u001b[0;34m\u001b[0m\u001b[0m\n\u001b[1;32m      3\u001b[0m \u001b[0mdf\u001b[0m\u001b[0;34m=\u001b[0m\u001b[0mdf\u001b[0m\u001b[0;34m.\u001b[0m\u001b[0mloc\u001b[0m\u001b[0;34m[\u001b[0m\u001b[0mdf\u001b[0m\u001b[0;34m[\u001b[0m\u001b[0;34m'Obiettivo'\u001b[0m\u001b[0;34m]\u001b[0m\u001b[0;34m==\u001b[0m\u001b[0;34m'REACH'\u001b[0m\u001b[0;34m]\u001b[0m\u001b[0;34m\u001b[0m\u001b[0;34m\u001b[0m\u001b[0m\n\u001b[1;32m      4\u001b[0m \u001b[0mdf\u001b[0m\u001b[0;34m[\u001b[0m\u001b[0;34m'numero post'\u001b[0m\u001b[0;34m]\u001b[0m \u001b[0;34m=\u001b[0m \u001b[0mdf\u001b[0m\u001b[0;34m.\u001b[0m\u001b[0mgroupby\u001b[0m\u001b[0;34m(\u001b[0m\u001b[0;34m'anno mese'\u001b[0m\u001b[0;34m)\u001b[0m\u001b[0;34m[\u001b[0m\u001b[0;34m'anno mese'\u001b[0m\u001b[0;34m]\u001b[0m\u001b[0;34m.\u001b[0m\u001b[0mtransform\u001b[0m\u001b[0;34m(\u001b[0m\u001b[0;34m'count'\u001b[0m\u001b[0;34m)\u001b[0m\u001b[0;34m\u001b[0m\u001b[0;34m\u001b[0m\u001b[0m\n\u001b[1;32m      5\u001b[0m \u001b[0;34m\u001b[0m\u001b[0m\n",
            "\u001b[0;31mNameError\u001b[0m: name 'df_original' is not defined"
          ]
        }
      ]
    },
    {
      "cell_type": "code",
      "source": [
        "df=df_original\n",
        "\n",
        "df=df.loc[df['Obiettivo']=='VIDEO_VIEWS']\n",
        "df['numero post'] = df.groupby('anno mese')['anno mese'].transform('count')\n",
        "\n",
        "# Scatter plot\n",
        "ax1 = df[['CPM', 'numero post']].boxplot( by='numero post', color='blue', figsize=(10, 7))\n",
        "\n",
        "\n",
        "\n",
        "plt.legend(labels=['CPM'])\n",
        "plt.title('Relationship between monthly number of posts and CPM obiettivo VIDEO VIEWS', size=12)\n",
        "plt.xlabel('n post', size=18)\n",
        "plt.ylabel('CPM', size=18);"
      ],
      "metadata": {
        "colab": {
          "base_uri": "https://localhost:8080/",
          "height": 650
        },
        "id": "EQe-q1yCSk2F",
        "outputId": "38282026-185c-440d-bc29-9308de1d9f01"
      },
      "execution_count": null,
      "outputs": [
        {
          "output_type": "stream",
          "name": "stderr",
          "text": [
            "/usr/local/lib/python3.7/dist-packages/ipykernel_launcher.py:4: SettingWithCopyWarning: \n",
            "A value is trying to be set on a copy of a slice from a DataFrame.\n",
            "Try using .loc[row_indexer,col_indexer] = value instead\n",
            "\n",
            "See the caveats in the documentation: https://pandas.pydata.org/pandas-docs/stable/user_guide/indexing.html#returning-a-view-versus-a-copy\n",
            "  after removing the cwd from sys.path.\n",
            "/usr/local/lib/python3.7/dist-packages/matplotlib/cbook/__init__.py:1376: VisibleDeprecationWarning: Creating an ndarray from ragged nested sequences (which is a list-or-tuple of lists-or-tuples-or ndarrays with different lengths or shapes) is deprecated. If you meant to do this, you must specify 'dtype=object' when creating the ndarray.\n",
            "  X = np.atleast_1d(X.T if isinstance(X, np.ndarray) else np.asarray(X))\n"
          ]
        },
        {
          "output_type": "display_data",
          "data": {
            "text/plain": [
              "<Figure size 720x504 with 1 Axes>"
            ],
            "image/png": "[encoded data removed]"
          },
          "metadata": {}
        }
      ]
    },
    {
      "cell_type": "code",
      "source": [
        "df=df_original\n",
        "\n",
        "df=df.loc[df['Obiettivo']=='POST_ENGAGEMENT']\n",
        "df['numero post'] = df.groupby('anno mese')['anno mese'].transform('count')\n",
        "\n",
        "# Scatter plot\n",
        "ax1 = df[['CPM', 'numero post']].boxplot( by='numero post', color='blue', figsize=(10, 7))\n",
        "\n",
        "\n",
        "\n",
        "plt.legend(labels=['CPM'])\n",
        "plt.title('Relationship between monthly number of posts and CPM obiettivo ENGAGEMENT', size=12)\n",
        "plt.xlabel('n post', size=18)\n",
        "plt.ylabel('CPM', size=18);"
      ],
      "metadata": {
        "colab": {
          "base_uri": "https://localhost:8080/",
          "height": 650
        },
        "id": "tmoa3y-MSr9d",
        "outputId": "2b9a9c4d-fed8-42b5-f562-9d52e71a70b6"
      },
      "execution_count": null,
      "outputs": [
        {
          "output_type": "stream",
          "name": "stderr",
          "text": [
            "/usr/local/lib/python3.7/dist-packages/ipykernel_launcher.py:4: SettingWithCopyWarning: \n",
            "A value is trying to be set on a copy of a slice from a DataFrame.\n",
            "Try using .loc[row_indexer,col_indexer] = value instead\n",
            "\n",
            "See the caveats in the documentation: https://pandas.pydata.org/pandas-docs/stable/user_guide/indexing.html#returning-a-view-versus-a-copy\n",
            "  after removing the cwd from sys.path.\n",
            "/usr/local/lib/python3.7/dist-packages/matplotlib/cbook/__init__.py:1376: VisibleDeprecationWarning: Creating an ndarray from ragged nested sequences (which is a list-or-tuple of lists-or-tuples-or ndarrays with different lengths or shapes) is deprecated. If you meant to do this, you must specify 'dtype=object' when creating the ndarray.\n",
            "  X = np.atleast_1d(X.T if isinstance(X, np.ndarray) else np.asarray(X))\n"
          ]
        },
        {
          "output_type": "display_data",
          "data": {
            "text/plain": [
              "<Figure size 720x504 with 1 Axes>"
            ],
            "image/png": "[encoded data removed]"
          },
          "metadata": {}
        }
      ]
    },
    {
      "cell_type": "code",
      "source": [
        "df=df_original\n",
        "\n",
        "\n",
        "df[['CPM', 'numero post','Giorni ON']].corr()\n",
        "\n"
      ],
      "metadata": {
        "colab": {
          "base_uri": "https://localhost:8080/",
          "height": 143
        },
        "id": "MgG6Zy7eTC3V",
        "outputId": "bb5e8c75-499a-4e43-cbff-95771bf2874a"
      },
      "execution_count": null,
      "outputs": [
        {
          "output_type": "execute_result",
          "data": {
            "text/plain": [
              "                 CPM  numero post  Giorni ON\n",
              "CPM          1.00000    -0.090750   0.178510\n",
              "numero post -0.09075     1.000000   0.488519\n",
              "Giorni ON    0.17851     0.488519   1.000000"
            ],
            "text/html": [
              "\n",
              "  <div id=\"df-0cedccac-5c72-4bf9-85b5-c1d07e999a45\">\n",
              "    <div class=\"colab-df-container\">\n",
              "      <div>\n",
              "<style scoped>\n",
              "    .dataframe tbody tr th:only-of-type {\n",
              "        vertical-align: middle;\n",
              "    }\n",
              "\n",
              "    .dataframe tbody tr th {\n",
              "        vertical-align: top;\n",
              "    }\n",
              "\n",
              "    .dataframe thead th {\n",
              "        text-align: right;\n",
              "    }\n",
              "</style>\n",
              "<table border=\"1\" class=\"dataframe\">\n",
              "  <thead>\n",
              "    <tr style=\"text-align: right;\">\n",
              "      <th></th>\n",
              "      <th>CPM</th>\n",
              "      <th>numero post</th>\n",
              "      <th>Giorni ON</th>\n",
              "    </tr>\n",
              "  </thead>\n",
              "  <tbody>\n",
              "    <tr>\n",
              "      <th>CPM</th>\n",
              "      <td>1.00000</td>\n",
              "      <td>-0.090750</td>\n",
              "      <td>0.178510</td>\n",
              "    </tr>\n",
              "    <tr>\n",
              "      <th>numero post</th>\n",
              "      <td>-0.09075</td>\n",
              "      <td>1.000000</td>\n",
              "      <td>0.488519</td>\n",
              "    </tr>\n",
              "    <tr>\n",
              "      <th>Giorni ON</th>\n",
              "      <td>0.17851</td>\n",
              "      <td>0.488519</td>\n",
              "      <td>1.000000</td>\n",
              "    </tr>\n",
              "  </tbody>\n",
              "</table>\n",
              "</div>\n",
              "      <button class=\"colab-df-convert\" onclick=\"convertToInteractive('df-0cedccac-5c72-4bf9-85b5-c1d07e999a45')\"\n",
              "              title=\"Convert this dataframe to an interactive table.\"\n",
              "              style=\"display:none;\">\n",
              "        \n",
              "  <svg xmlns=\"http://www.w3.org/2000/svg\" height=\"24px\"viewBox=\"0 0 24 24\"\n",
              "       width=\"24px\">\n",
              "    <path d=\"M0 0h24v24H0V0z\" fill=\"none\"/>\n",
              "    <path d=\"M18.56 5.44l.94 2.06.94-2.06 2.06-.94-2.06-.94-.94-2.06-.94 2.06-2.06.94zm-11 1L8.5 8.5l.94-2.06 2.06-.94-2.06-.94L8.5 2.5l-.94 2.06-2.06.94zm10 10l.94 2.06.94-2.06 2.06-.94-2.06-.94-.94-2.06-.94 2.06-2.06.94z\"/><path d=\"M17.41 7.96l-1.37-1.37c-.4-.4-.92-.59-1.43-.59-.52 0-1.04.2-1.43.59L10.3 9.45l-7.72 7.72c-.78.78-.78 2.05 0 2.83L4 21.41c.39.39.9.59 1.41.59.51 0 1.02-.2 1.41-.59l7.78-7.78 2.81-2.81c.8-.78.8-2.07 0-2.86zM5.41 20L4 18.59l7.72-7.72 1.47 1.35L5.41 20z\"/>\n",
              "  </svg>\n",
              "      </button>\n",
              "      \n",
              "  <style>\n",
              "    .colab-df-container {\n",
              "      display:flex;\n",
              "      flex-wrap:wrap;\n",
              "      gap: 12px;\n",
              "    }\n",
              "\n",
              "    .colab-df-convert {\n",
              "      background-color: #E8F0FE;\n",
              "      border: none;\n",
              "      border-radius: 50%;\n",
              "      cursor: pointer;\n",
              "      display: none;\n",
              "      fill: #1967D2;\n",
              "      height: 32px;\n",
              "      padding: 0 0 0 0;\n",
              "      width: 32px;\n",
              "    }\n",
              "\n",
              "    .colab-df-convert:hover {\n",
              "      background-color: #E2EBFA;\n",
              "      box-shadow: 0px 1px 2px rgba(60, 64, 67, 0.3), 0px 1px 3px 1px rgba(60, 64, 67, 0.15);\n",
              "      fill: #174EA6;\n",
              "    }\n",
              "\n",
              "    [theme=dark] .colab-df-convert {\n",
              "      background-color: #3B4455;\n",
              "      fill: #D2E3FC;\n",
              "    }\n",
              "\n",
              "    [theme=dark] .colab-df-convert:hover {\n",
              "      background-color: #434B5C;\n",
              "      box-shadow: 0px 1px 3px 1px rgba(0, 0, 0, 0.15);\n",
              "      filter: drop-shadow(0px 1px 2px rgba(0, 0, 0, 0.3));\n",
              "      fill: #FFFFFF;\n",
              "    }\n",
              "  </style>\n",
              "\n",
              "      <script>\n",
              "        const buttonEl =\n",
              "          document.querySelector('#df-0cedccac-5c72-4bf9-85b5-c1d07e999a45 button.colab-df-convert');\n",
              "        buttonEl.style.display =\n",
              "          google.colab.kernel.accessAllowed ? 'block' : 'none';\n",
              "\n",
              "        async function convertToInteractive(key) {\n",
              "          const element = document.querySelector('#df-0cedccac-5c72-4bf9-85b5-c1d07e999a45');\n",
              "          const dataTable =\n",
              "            await google.colab.kernel.invokeFunction('convertToInteractive',\n",
              "                                                     [key], {});\n",
              "          if (!dataTable) return;\n",
              "\n",
              "          const docLinkHtml = 'Like what you see? Visit the ' +\n",
              "            '<a target=\"_blank\" href=https://colab.research.google.com/notebooks/data_table.ipynb>data table notebook</a>'\n",
              "            + ' to learn more about interactive tables.';\n",
              "          element.innerHTML = '';\n",
              "          dataTable['output_type'] = 'display_data';\n",
              "          await google.colab.output.renderOutput(dataTable, element);\n",
              "          const docLink = document.createElement('div');\n",
              "          docLink.innerHTML = docLinkHtml;\n",
              "          element.appendChild(docLink);\n",
              "        }\n",
              "      </script>\n",
              "    </div>\n",
              "  </div>\n",
              "  "
            ]
          },
          "metadata": {},
          "execution_count": 466
        }
      ]
    },
    {
      "cell_type": "code",
      "source": [
        "corr = df[['CPM', 'numero post','Giorni ON']].corr()\n",
        "\n",
        "corr.style.background_gradient(cmap='Oranges')"
      ],
      "metadata": {
        "id": "J2ho0uNkT08f"
      },
      "execution_count": null,
      "outputs": []
    },
    {
      "cell_type": "code",
      "source": [
        "df=df.loc[df['Obiettivo']=='REACH']\n",
        "\n",
        "df[['CPM',\"IR%\", 'numero post','Giorni ON','Copertura', 'Impression', 'Costo per risultato', 'Importo speso (EUR)',\n",
        "       'Clic unici sul link', 'Visualizzazioni della pagina di destinazione',\n",
        "       'Clic sul link',\n",
        "       'Costo per visualizzazione della pagina di destinazione',\n",
        "       'Interazioni con il post', 'Riproduzioni del video di 3 secondi',\n",
        "       'Riproduzioni del video al 95%',\n",
        "       'Riproduzioni del video al 100%', 'Reazioni ai post',\n",
        "       'Condivisioni dei post', 'Commenti ai post', '\"Mi piace\" sulla Pagina']].corr()"
      ],
      "metadata": {
        "colab": {
          "base_uri": "https://localhost:8080/",
          "height": 646
        },
        "id": "qffr5M44ThcZ",
        "outputId": "8318a28f-0202-421a-da57-ffbc26b9e789"
      },
      "execution_count": null,
      "outputs": [
        {
          "output_type": "execute_result",
          "data": {
            "text/plain": [
              "                              CPM       IR%  numero post  Giorni ON  \\\n",
              "CPM                      1.000000  0.217343     0.422843  -0.104933   \n",
              "IR%                      0.217343  1.000000     0.050393   0.226654   \n",
              "numero post              0.422843  0.050393     1.000000  -0.763763   \n",
              "Giorni ON               -0.104933  0.226654    -0.763763   1.000000   \n",
              "Copertura               -0.630595  0.030481    -0.490666   0.618795   \n",
              "Impression              -0.633891  0.031825    -0.487328   0.616613   \n",
              "Costo per risultato      0.998590  0.219634     0.427125  -0.110113   \n",
              "Importo speso (EUR)     -0.353302  0.161285    -0.466624   0.721744   \n",
              "Interazioni con il post -0.461206  0.448023    -0.431425   0.645465   \n",
              "Reazioni ai post        -0.517152  0.262521     0.166287  -0.029012   \n",
              "Condivisioni dei post   -0.072067  0.626914     0.466400  -0.342997   \n",
              "Commenti ai post         0.196311  0.073346     0.615157  -0.479497   \n",
              "\n",
              "                         Copertura  Impression  Costo per risultato  \\\n",
              "CPM                      -0.630595   -0.633891             0.998590   \n",
              "IR%                       0.030481    0.031825             0.219634   \n",
              "numero post              -0.490666   -0.487328             0.427125   \n",
              "Giorni ON                 0.618795    0.616613            -0.110113   \n",
              "Copertura                 1.000000    0.999816            -0.639873   \n",
              "Impression                0.999816    1.000000            -0.642631   \n",
              "Costo per risultato      -0.639873   -0.642631             1.000000   \n",
              "Importo speso (EUR)       0.898598    0.897759            -0.366022   \n",
              "Interazioni con il post   0.885731    0.887606            -0.469576   \n",
              "Reazioni ai post          0.447522    0.456453            -0.510627   \n",
              "Condivisioni dei post    -0.186676   -0.181702            -0.068476   \n",
              "Commenti ai post         -0.306809   -0.297213             0.222632   \n",
              "\n",
              "                         Importo speso (EUR)  Interazioni con il post  \\\n",
              "CPM                                -0.353302                -0.461206   \n",
              "IR%                                 0.161285                 0.448023   \n",
              "numero post                        -0.466624                -0.431425   \n",
              "Giorni ON                           0.721744                 0.645465   \n",
              "Copertura                           0.898598                 0.885731   \n",
              "Impression                          0.897759                 0.887606   \n",
              "Costo per risultato                -0.366022                -0.469576   \n",
              "Importo speso (EUR)                 1.000000                 0.888717   \n",
              "Interazioni con il post             0.888717                 1.000000   \n",
              "Reazioni ai post                    0.319014                 0.558155   \n",
              "Condivisioni dei post              -0.189022                 0.168482   \n",
              "Commenti ai post                   -0.163431                -0.181446   \n",
              "\n",
              "                         Reazioni ai post  Condivisioni dei post  \\\n",
              "CPM                             -0.517152              -0.072067   \n",
              "IR%                              0.262521               0.626914   \n",
              "numero post                      0.166287               0.466400   \n",
              "Giorni ON                       -0.029012              -0.342997   \n",
              "Copertura                        0.447522              -0.186676   \n",
              "Impression                       0.456453              -0.181702   \n",
              "Costo per risultato             -0.510627              -0.068476   \n",
              "Importo speso (EUR)              0.319014              -0.189022   \n",
              "Interazioni con il post          0.558155               0.168482   \n",
              "Reazioni ai post                 1.000000               0.780405   \n",
              "Condivisioni dei post            0.780405               1.000000   \n",
              "Commenti ai post                 0.415301               0.586124   \n",
              "\n",
              "                         Commenti ai post  \n",
              "CPM                              0.196311  \n",
              "IR%                              0.073346  \n",
              "numero post                      0.615157  \n",
              "Giorni ON                       -0.479497  \n",
              "Copertura                       -0.306809  \n",
              "Impression                      -0.297213  \n",
              "Costo per risultato              0.222632  \n",
              "Importo speso (EUR)             -0.163431  \n",
              "Interazioni con il post         -0.181446  \n",
              "Reazioni ai post                 0.415301  \n",
              "Condivisioni dei post            0.586124  \n",
              "Commenti ai post                 1.000000  "
            ],
            "text/html": [
              "\n",
              "  <div id=\"df-0c1a5791-bf17-45dc-82ad-8554b0c96491\">\n",
              "    <div class=\"colab-df-container\">\n",
              "      <div>\n",
              "<style scoped>\n",
              "    .dataframe tbody tr th:only-of-type {\n",
              "        vertical-align: middle;\n",
              "    }\n",
              "\n",
              "    .dataframe tbody tr th {\n",
              "        vertical-align: top;\n",
              "    }\n",
              "\n",
              "    .dataframe thead th {\n",
              "        text-align: right;\n",
              "    }\n",
              "</style>\n",
              "<table border=\"1\" class=\"dataframe\">\n",
              "  <thead>\n",
              "    <tr style=\"text-align: right;\">\n",
              "      <th></th>\n",
              "      <th>CPM</th>\n",
              "      <th>IR%</th>\n",
              "      <th>numero post</th>\n",
              "      <th>Giorni ON</th>\n",
              "      <th>Copertura</th>\n",
              "      <th>Impression</th>\n",
              "      <th>Costo per risultato</th>\n",
              "      <th>Importo speso (EUR)</th>\n",
              "      <th>Interazioni con il post</th>\n",
              "      <th>Reazioni ai post</th>\n",
              "      <th>Condivisioni dei post</th>\n",
              "      <th>Commenti ai post</th>\n",
              "    </tr>\n",
              "  </thead>\n",
              "  <tbody>\n",
              "    <tr>\n",
              "      <th>CPM</th>\n",
              "      <td>1.000000</td>\n",
              "      <td>0.217343</td>\n",
              "      <td>0.422843</td>\n",
              "      <td>-0.104933</td>\n",
              "      <td>-0.630595</td>\n",
              "      <td>-0.633891</td>\n",
              "      <td>0.998590</td>\n",
              "      <td>-0.353302</td>\n",
              "      <td>-0.461206</td>\n",
              "      <td>-0.517152</td>\n",
              "      <td>-0.072067</td>\n",
              "      <td>0.196311</td>\n",
              "    </tr>\n",
              "    <tr>\n",
              "      <th>IR%</th>\n",
              "      <td>0.217343</td>\n",
              "      <td>1.000000</td>\n",
              "      <td>0.050393</td>\n",
              "      <td>0.226654</td>\n",
              "      <td>0.030481</td>\n",
              "      <td>0.031825</td>\n",
              "      <td>0.219634</td>\n",
              "      <td>0.161285</td>\n",
              "      <td>0.448023</td>\n",
              "      <td>0.262521</td>\n",
              "      <td>0.626914</td>\n",
              "      <td>0.073346</td>\n",
              "    </tr>\n",
              "    <tr>\n",
              "      <th>numero post</th>\n",
              "      <td>0.422843</td>\n",
              "      <td>0.050393</td>\n",
              "      <td>1.000000</td>\n",
              "      <td>-0.763763</td>\n",
              "      <td>-0.490666</td>\n",
              "      <td>-0.487328</td>\n",
              "      <td>0.427125</td>\n",
              "      <td>-0.466624</td>\n",
              "      <td>-0.431425</td>\n",
              "      <td>0.166287</td>\n",
              "      <td>0.466400</td>\n",
              "      <td>0.615157</td>\n",
              "    </tr>\n",
              "    <tr>\n",
              "      <th>Giorni ON</th>\n",
              "      <td>-0.104933</td>\n",
              "      <td>0.226654</td>\n",
              "      <td>-0.763763</td>\n",
              "      <td>1.000000</td>\n",
              "      <td>0.618795</td>\n",
              "      <td>0.616613</td>\n",
              "      <td>-0.110113</td>\n",
              "      <td>0.721744</td>\n",
              "      <td>0.645465</td>\n",
              "      <td>-0.029012</td>\n",
              "      <td>-0.342997</td>\n",
              "      <td>-0.479497</td>\n",
              "    </tr>\n",
              "    <tr>\n",
              "      <th>Copertura</th>\n",
              "      <td>-0.630595</td>\n",
              "      <td>0.030481</td>\n",
              "      <td>-0.490666</td>\n",
              "      <td>0.618795</td>\n",
              "      <td>1.000000</td>\n",
              "      <td>0.999816</td>\n",
              "      <td>-0.639873</td>\n",
              "      <td>0.898598</td>\n",
              "      <td>0.885731</td>\n",
              "      <td>0.447522</td>\n",
              "      <td>-0.186676</td>\n",
              "      <td>-0.306809</td>\n",
              "    </tr>\n",
              "    <tr>\n",
              "      <th>Impression</th>\n",
              "      <td>-0.633891</td>\n",
              "      <td>0.031825</td>\n",
              "      <td>-0.487328</td>\n",
              "      <td>0.616613</td>\n",
              "      <td>0.999816</td>\n",
              "      <td>1.000000</td>\n",
              "      <td>-0.642631</td>\n",
              "      <td>0.897759</td>\n",
              "      <td>0.887606</td>\n",
              "      <td>0.456453</td>\n",
              "      <td>-0.181702</td>\n",
              "      <td>-0.297213</td>\n",
              "    </tr>\n",
              "    <tr>\n",
              "      <th>Costo per risultato</th>\n",
              "      <td>0.998590</td>\n",
              "      <td>0.219634</td>\n",
              "      <td>0.427125</td>\n",
              "      <td>-0.110113</td>\n",
              "      <td>-0.639873</td>\n",
              "      <td>-0.642631</td>\n",
              "      <td>1.000000</td>\n",
              "      <td>-0.366022</td>\n",
              "      <td>-0.469576</td>\n",
              "      <td>-0.510627</td>\n",
              "      <td>-0.068476</td>\n",
              "      <td>0.222632</td>\n",
              "    </tr>\n",
              "    <tr>\n",
              "      <th>Importo speso (EUR)</th>\n",
              "      <td>-0.353302</td>\n",
              "      <td>0.161285</td>\n",
              "      <td>-0.466624</td>\n",
              "      <td>0.721744</td>\n",
              "      <td>0.898598</td>\n",
              "      <td>0.897759</td>\n",
              "      <td>-0.366022</td>\n",
              "      <td>1.000000</td>\n",
              "      <td>0.888717</td>\n",
              "      <td>0.319014</td>\n",
              "      <td>-0.189022</td>\n",
              "      <td>-0.163431</td>\n",
              "    </tr>\n",
              "    <tr>\n",
              "      <th>Interazioni con il post</th>\n",
              "      <td>-0.461206</td>\n",
              "      <td>0.448023</td>\n",
              "      <td>-0.431425</td>\n",
              "      <td>0.645465</td>\n",
              "      <td>0.885731</td>\n",
              "      <td>0.887606</td>\n",
              "      <td>-0.469576</td>\n",
              "      <td>0.888717</td>\n",
              "      <td>1.000000</td>\n",
              "      <td>0.558155</td>\n",
              "      <td>0.168482</td>\n",
              "      <td>-0.181446</td>\n",
              "    </tr>\n",
              "    <tr>\n",
              "      <th>Reazioni ai post</th>\n",
              "      <td>-0.517152</td>\n",
              "      <td>0.262521</td>\n",
              "      <td>0.166287</td>\n",
              "      <td>-0.029012</td>\n",
              "      <td>0.447522</td>\n",
              "      <td>0.456453</td>\n",
              "      <td>-0.510627</td>\n",
              "      <td>0.319014</td>\n",
              "      <td>0.558155</td>\n",
              "      <td>1.000000</td>\n",
              "      <td>0.780405</td>\n",
              "      <td>0.415301</td>\n",
              "    </tr>\n",
              "    <tr>\n",
              "      <th>Condivisioni dei post</th>\n",
              "      <td>-0.072067</td>\n",
              "      <td>0.626914</td>\n",
              "      <td>0.466400</td>\n",
              "      <td>-0.342997</td>\n",
              "      <td>-0.186676</td>\n",
              "      <td>-0.181702</td>\n",
              "      <td>-0.068476</td>\n",
              "      <td>-0.189022</td>\n",
              "      <td>0.168482</td>\n",
              "      <td>0.780405</td>\n",
              "      <td>1.000000</td>\n",
              "      <td>0.586124</td>\n",
              "    </tr>\n",
              "    <tr>\n",
              "      <th>Commenti ai post</th>\n",
              "      <td>0.196311</td>\n",
              "      <td>0.073346</td>\n",
              "      <td>0.615157</td>\n",
              "      <td>-0.479497</td>\n",
              "      <td>-0.306809</td>\n",
              "      <td>-0.297213</td>\n",
              "      <td>0.222632</td>\n",
              "      <td>-0.163431</td>\n",
              "      <td>-0.181446</td>\n",
              "      <td>0.415301</td>\n",
              "      <td>0.586124</td>\n",
              "      <td>1.000000</td>\n",
              "    </tr>\n",
              "  </tbody>\n",
              "</table>\n",
              "</div>\n",
              "      <button class=\"colab-df-convert\" onclick=\"convertToInteractive('df-0c1a5791-bf17-45dc-82ad-8554b0c96491')\"\n",
              "              title=\"Convert this dataframe to an interactive table.\"\n",
              "              style=\"display:none;\">\n",
              "        \n",
              "  <svg xmlns=\"http://www.w3.org/2000/svg\" height=\"24px\"viewBox=\"0 0 24 24\"\n",
              "       width=\"24px\">\n",
              "    <path d=\"M0 0h24v24H0V0z\" fill=\"none\"/>\n",
              "    <path d=\"M18.56 5.44l.94 2.06.94-2.06 2.06-.94-2.06-.94-.94-2.06-.94 2.06-2.06.94zm-11 1L8.5 8.5l.94-2.06 2.06-.94-2.06-.94L8.5 2.5l-.94 2.06-2.06.94zm10 10l.94 2.06.94-2.06 2.06-.94-2.06-.94-.94-2.06-.94 2.06-2.06.94z\"/><path d=\"M17.41 7.96l-1.37-1.37c-.4-.4-.92-.59-1.43-.59-.52 0-1.04.2-1.43.59L10.3 9.45l-7.72 7.72c-.78.78-.78 2.05 0 2.83L4 21.41c.39.39.9.59 1.41.59.51 0 1.02-.2 1.41-.59l7.78-7.78 2.81-2.81c.8-.78.8-2.07 0-2.86zM5.41 20L4 18.59l7.72-7.72 1.47 1.35L5.41 20z\"/>\n",
              "  </svg>\n",
              "      </button>\n",
              "      \n",
              "  <style>\n",
              "    .colab-df-container {\n",
              "      display:flex;\n",
              "      flex-wrap:wrap;\n",
              "      gap: 12px;\n",
              "    }\n",
              "\n",
              "    .colab-df-convert {\n",
              "      background-color: #E8F0FE;\n",
              "      border: none;\n",
              "      border-radius: 50%;\n",
              "      cursor: pointer;\n",
              "      display: none;\n",
              "      fill: #1967D2;\n",
              "      height: 32px;\n",
              "      padding: 0 0 0 0;\n",
              "      width: 32px;\n",
              "    }\n",
              "\n",
              "    .colab-df-convert:hover {\n",
              "      background-color: #E2EBFA;\n",
              "      box-shadow: 0px 1px 2px rgba(60, 64, 67, 0.3), 0px 1px 3px 1px rgba(60, 64, 67, 0.15);\n",
              "      fill: #174EA6;\n",
              "    }\n",
              "\n",
              "    [theme=dark] .colab-df-convert {\n",
              "      background-color: #3B4455;\n",
              "      fill: #D2E3FC;\n",
              "    }\n",
              "\n",
              "    [theme=dark] .colab-df-convert:hover {\n",
              "      background-color: #434B5C;\n",
              "      box-shadow: 0px 1px 3px 1px rgba(0, 0, 0, 0.15);\n",
              "      filter: drop-shadow(0px 1px 2px rgba(0, 0, 0, 0.3));\n",
              "      fill: #FFFFFF;\n",
              "    }\n",
              "  </style>\n",
              "\n",
              "      <script>\n",
              "        const buttonEl =\n",
              "          document.querySelector('#df-0c1a5791-bf17-45dc-82ad-8554b0c96491 button.colab-df-convert');\n",
              "        buttonEl.style.display =\n",
              "          google.colab.kernel.accessAllowed ? 'block' : 'none';\n",
              "\n",
              "        async function convertToInteractive(key) {\n",
              "          const element = document.querySelector('#df-0c1a5791-bf17-45dc-82ad-8554b0c96491');\n",
              "          const dataTable =\n",
              "            await google.colab.kernel.invokeFunction('convertToInteractive',\n",
              "                                                     [key], {});\n",
              "          if (!dataTable) return;\n",
              "\n",
              "          const docLinkHtml = 'Like what you see? Visit the ' +\n",
              "            '<a target=\"_blank\" href=https://colab.research.google.com/notebooks/data_table.ipynb>data table notebook</a>'\n",
              "            + ' to learn more about interactive tables.';\n",
              "          element.innerHTML = '';\n",
              "          dataTable['output_type'] = 'display_data';\n",
              "          await google.colab.output.renderOutput(dataTable, element);\n",
              "          const docLink = document.createElement('div');\n",
              "          docLink.innerHTML = docLinkHtml;\n",
              "          element.appendChild(docLink);\n",
              "        }\n",
              "      </script>\n",
              "    </div>\n",
              "  </div>\n",
              "  "
            ]
          },
          "metadata": {},
          "execution_count": 467
        }
      ]
    },
    {
      "cell_type": "code",
      "source": [
        "corr=df[['CPM',\"IR%\", 'numero post','Giorni ON','Copertura', 'Impression', 'Costo per risultato', 'Importo speso (EUR)',\n",
        "       'Clic unici sul link', 'Visualizzazioni della pagina di destinazione',\n",
        "       'Clic sul link',\n",
        "       'Costo per visualizzazione della pagina di destinazione',\n",
        "       'Interazioni con il post', 'Riproduzioni del video di 3 secondi',\n",
        "       'Riproduzioni del video al 95%',\n",
        "       'Riproduzioni del video al 100%', 'Reazioni ai post',\n",
        "       'Condivisioni dei post', 'Commenti ai post', '\"Mi piace\" sulla Pagina']].corr()\n",
        "\n",
        "corr_exel= corr.style.background_gradient(cmap='Oranges') \n",
        "corr_exel.to_excel('correl.xlsx')\n",
        "from google.colab import files\n",
        "files.download('correl.xlsx') "
      ],
      "metadata": {
        "colab": {
          "base_uri": "https://localhost:8080/",
          "height": 17
        },
        "id": "17W_Cu7HVoEC",
        "outputId": "8f3cd858-c74d-4342-c9b4-bd35e4c2c329"
      },
      "execution_count": null,
      "outputs": [
        {
          "output_type": "display_data",
          "data": {
            "text/plain": [
              "<IPython.core.display.Javascript object>"
            ],
            "application/javascript": [
              "\n",
              "    async function download(id, filename, size) {\n",
              "      if (!google.colab.kernel.accessAllowed) {\n",
              "        return;\n",
              "      }\n",
              "      const div = document.createElement('div');\n",
              "      const label = document.createElement('label');\n",
              "      label.textContent = `Downloading \"${filename}\": `;\n",
              "      div.appendChild(label);\n",
              "      const progress = document.createElement('progress');\n",
              "      progress.max = size;\n",
              "      div.appendChild(progress);\n",
              "      document.body.appendChild(div);\n",
              "\n",
              "      const buffers = [];\n",
              "      let downloaded = 0;\n",
              "\n",
              "      const channel = await google.colab.kernel.comms.open(id);\n",
              "      // Send a message to notify the kernel that we're ready.\n",
              "      channel.send({})\n",
              "\n",
              "      for await (const message of channel.messages) {\n",
              "        // Send a message to notify the kernel that we're ready.\n",
              "        channel.send({})\n",
              "        if (message.buffers) {\n",
              "          for (const buffer of message.buffers) {\n",
              "            buffers.push(buffer);\n",
              "            downloaded += buffer.byteLength;\n",
              "            progress.value = downloaded;\n",
              "          }\n",
              "        }\n",
              "      }\n",
              "      const blob = new Blob(buffers, {type: 'application/binary'});\n",
              "      const a = document.createElement('a');\n",
              "      a.href = window.URL.createObjectURL(blob);\n",
              "      a.download = filename;\n",
              "      div.appendChild(a);\n",
              "      a.click();\n",
              "      div.remove();\n",
              "    }\n",
              "  "
            ]
          },
          "metadata": {}
        },
        {
          "output_type": "display_data",
          "data": {
            "text/plain": [
              "<IPython.core.display.Javascript object>"
            ],
            "application/javascript": [
              "download(\"download_e14b5d5f-2ccc-4009-aa5f-3e5c0576dee2\", \"correl.xlsx\", 7564)"
            ]
          },
          "metadata": {}
        }
      ]
    },
    {
      "cell_type": "code",
      "source": [
        "df=df_original\n"
      ],
      "metadata": {
        "id": "WZXbrIbzWL7H"
      },
      "execution_count": null,
      "outputs": []
    },
    {
      "cell_type": "markdown",
      "source": [
        "**best fit polynomials**"
      ],
      "metadata": {
        "id": "2_KZR29hRpiB"
      }
    },
    {
      "cell_type": "code",
      "source": [
        "import numpy as np\n",
        "\n",
        "# best fit polynomials\n",
        "\n",
        "df_reach = df[df['Obiettivo'] == 'REACH']\n",
        "df_video_views = df[df['Obiettivo'] == 'VIDEO_VIEWS']\n",
        "df_engagement= df[df['Obiettivo'] == 'POST_ENGAGEMENT']\n",
        "\n",
        "\n",
        "\n"
      ],
      "metadata": {
        "id": "ks68Kj6wRnA1"
      },
      "execution_count": null,
      "outputs": []
    },
    {
      "cell_type": "code",
      "source": [
        "\n",
        "# polynomial - REACH\n",
        "reach_fit = np.polyfit( df_reach['Importo speso (EUR)'], df_reach.CPM, 1)\n",
        "reach_fit\n"
      ],
      "metadata": {
        "id": "Rw6d2Z-9SugO"
      },
      "execution_count": null,
      "outputs": []
    },
    {
      "cell_type": "code",
      "source": [
        "# polynomial - VV\n",
        "video_views_fit = np.polyfit(df_video_views['Importo speso (EUR)'], df_video_views.CPM, 1)\n",
        "video_views_fit"
      ],
      "metadata": {
        "id": "GhFLVa5USwMp"
      },
      "execution_count": null,
      "outputs": []
    },
    {
      "cell_type": "code",
      "source": [
        "\n",
        "# polynomial - ENGAGEMENT\n",
        "egnagement_fit = np.polyfit(df_engagement['Importo speso (EUR)'],df_engagement.CPM, 1)\n",
        "egnagement_fit"
      ],
      "metadata": {
        "id": "dmcbWyAOSxX8"
      },
      "execution_count": null,
      "outputs": []
    },
    {
      "cell_type": "markdown",
      "source": [
        "The following plot depicts the scatter plots as well as the previous regression lines"
      ],
      "metadata": {
        "id": "E-mlc1xCUFp4"
      }
    },
    {
      "cell_type": "code",
      "source": [
        "# scatter plots and regression lines\n",
        "ax1 = df[df['Obiettivo'] == 'POST_ENGAGEMENT'].plot(kind='scatter', x='Importo speso (EUR)', y='CPM', color='blue', alpha=0.5, figsize=(10, 7))\n",
        "df[df['Obiettivo'] == 'VIDEO_VIEWS'].plot(kind='scatter', x='Importo speso (EUR)', y='CPM', color='magenta', alpha=0.5, figsize=(10 ,7), ax=ax1)\n",
        "df[df['Obiettivo'] == 'REACH'].plot(kind='scatter', x='Importo speso (EUR)', y='CPM', color='orange', alpha=0.5, figsize=(10 ,7), ax=ax1)\n",
        "\n",
        "# regression lines\n",
        "plt.plot(df_reach.CPM, reach_fit[0] * df_reach.CPM + reach_fit[1], color='darkblue', linewidth=2)\n",
        "plt.plot(df_video_views.CPM, video_views_fit[0] * df_video_views.CPM + video_views_fit[1], color='deeppink', linewidth=2)\n",
        "plt.plot(df_engagement.CPM, egnagement_fit[0] * df_engagement.CPM + egnagement_fit[1], color='orange', linewidth=2)\n",
        "\n",
        "# regression equations\n",
        "plt.text(65, 230, 'y={:.2f}+{:.2f}*x'.format(reach_fit[1], reach_fit[0]), color='darkblue', size=12)\n",
        "plt.text(70, 130, 'y={:.2f}+{:.2f}*x'.format(video_views_fit[1], video_views_fit[0]), color='deeppink', size=12)\n",
        "plt.text(60, 330, 'y={:.2f}+{:.2f}*x'.format(egnagement_fit[1], egnagement_fit[0]), color='orange', size=12)\n",
        "\n",
        "# legend, title and labels.\n",
        "#plt.legend(labels=['Males Regresion Line', 'Females Regresion Line', 'Males', 'Females'])\n",
        "#plt.title('Relationship between Height and Weight', size=24)\n",
        "#plt.xlabel('Height (inches)', size=18)\n",
        "#plt.ylabel('Weight (pounds)', size=18);"
      ],
      "metadata": {
        "id": "kpcSbUydUGPc"
      },
      "execution_count": null,
      "outputs": []
    },
    {
      "cell_type": "markdown",
      "source": [
        "**Multiple linear regression**\n"
      ],
      "metadata": {
        "id": "PBYyI2TZW4sO"
      }
    },
    {
      "cell_type": "markdown",
      "source": [
        "encoding categorical variable"
      ],
      "metadata": {
        "id": "8D_-caMmbRxy"
      }
    },
    {
      "cell_type": "code",
      "source": [
        "df.columns\n",
        "#mese, channel, post/stories, Tipologia, Tipologia"
      ],
      "metadata": {
        "id": "hVQYeiBAW53D"
      },
      "execution_count": null,
      "outputs": []
    },
    {
      "cell_type": "code",
      "source": [
        "df_original=pd.get_dummies(df_original, columns= {\"mese\", \"Channel\", \"post/stories\", \"Tipologia\", \"Obiettivo\", 'feed/dark'})"
      ],
      "metadata": {
        "id": "hgZr1UbFcCg6"
      },
      "execution_count": null,
      "outputs": []
    },
    {
      "cell_type": "code",
      "source": [
        "list(set(df.columns))\n"
      ],
      "metadata": {
        "id": "Rz2XfaGVd6d3"
      },
      "execution_count": null,
      "outputs": []
    },
    {
      "cell_type": "markdown",
      "source": [
        "Calculate number of posts that month and use it as a variable"
      ],
      "metadata": {
        "id": "gohzwqbvkbnR"
      }
    },
    {
      "cell_type": "code",
      "source": [
        "df_original['numero post'] = df_original.groupby('anno mese')['anno mese'].transform('count')"
      ],
      "metadata": {
        "id": "VpoJNAaHkgYo"
      },
      "execution_count": null,
      "outputs": []
    },
    {
      "cell_type": "markdown",
      "source": [
        "**We can use this dataframe to obtain a multiple linear regression model using Scikit-learn**"
      ],
      "metadata": {
        "id": "jmMyWi1NdpL_"
      }
    },
    {
      "cell_type": "code",
      "source": [
        "df_original.columns"
      ],
      "metadata": {
        "id": "WtnFwwR_5I-H"
      },
      "execution_count": null,
      "outputs": []
    },
    {
      "cell_type": "code",
      "source": [
        "from sklearn.linear_model import LinearRegression\n",
        "\n",
        "# create linear regression object\n",
        "mlr = LinearRegression()\n",
        "\n",
        "# fit linear regression\n",
        "mlr.fit(df_original[[\"Channel_IG\",\n",
        "\n",
        "            \"Tipologia_Static\", \n",
        "            'numero post',\n",
        "            'Obiettivo_REACH',\n",
        "            'feed/dark_Dark',\n",
        "            'budget medio'\n",
        "       \n",
        "            ]], df_original['CPM medio'])\n"
      ],
      "metadata": {
        "id": "TS8oJcGMdrqt"
      },
      "execution_count": null,
      "outputs": []
    },
    {
      "cell_type": "code",
      "source": [
        "\n",
        "# get the slope and intercept of the line best fit.\n",
        "print(mlr.intercept_)"
      ],
      "metadata": {
        "id": "0I4N8ufpezWs"
      },
      "execution_count": null,
      "outputs": []
    },
    {
      "cell_type": "code",
      "source": [
        "\n",
        "print(mlr.coef_)\n"
      ],
      "metadata": {
        "id": "UK9skDW3e3_p"
      },
      "execution_count": null,
      "outputs": []
    },
    {
      "cell_type": "code",
      "source": [],
      "metadata": {
        "id": "h1NrZef1u2-u"
      },
      "execution_count": null,
      "outputs": []
    },
    {
      "cell_type": "code",
      "source": [
        "# fit linear regression\n",
        "m1=mlr.fit(df_original[[\"Channel_IG\",\n",
        "\n",
        "            \"Tipologia_Static\", \n",
        "            'numero post',\n",
        "            'Obiettivo_REACH',\n",
        "            'feed/dark_Dark',\n",
        "            'budget medio'\n",
        "       \n",
        "            ]], df_original['CPM medio'])"
      ],
      "metadata": {
        "id": "2mOqFcKoukRa"
      },
      "execution_count": null,
      "outputs": []
    },
    {
      "cell_type": "code",
      "source": [
        "m1.coef_"
      ],
      "metadata": {
        "id": "7C-R2rzmVb61"
      },
      "execution_count": null,
      "outputs": []
    },
    {
      "cell_type": "code",
      "source": [
        "import statsmodels.api as sm\n",
        "from scipy import stats\n",
        "\n",
        "df=df_original\n",
        "\n",
        "\n",
        "df=df.loc[df['Obiettivo']=='REACH']\n",
        "df['numero post'] = df.groupby('anno mese')['anno mese'].transform('count')\n",
        "df=pd.get_dummies(df, columns= {\"mese\", \"Channel\", \"post/stories\", \"Tipologia\", \"Obiettivo\", 'feed/dark'})\n"
      ],
      "metadata": {
        "id": "V6mikuJ4GyiO"
      },
      "execution_count": null,
      "outputs": []
    },
    {
      "cell_type": "code",
      "source": [
        "for i in list(set(df.columns)):\n",
        "  if 'feed' in i:\n",
        "    print(i)"
      ],
      "metadata": {
        "id": "Z09yoYR1Gz3G"
      },
      "execution_count": null,
      "outputs": []
    },
    {
      "cell_type": "code",
      "source": [
        "\n",
        "X = df[[\n",
        "            \"Channel_IG\",\n",
        "\n",
        "            \"Tipologia_Static\", \n",
        "            'numero post',\n",
        "            'Obiettivo_REACH',\n",
        "            'feed/dark_Dark',\n",
        "            'budget medio'\n",
        "\n",
        "                        ]]\n",
        "y = df['CPM medio']\n"
      ],
      "metadata": {
        "id": "PtCaskIHu3dM"
      },
      "execution_count": null,
      "outputs": []
    },
    {
      "cell_type": "code",
      "source": [],
      "metadata": {
        "id": "MuoNKFPN8tBj"
      },
      "execution_count": null,
      "outputs": []
    },
    {
      "cell_type": "markdown",
      "source": [
        "Calcolo influenza IR"
      ],
      "metadata": {
        "id": "r2iPxRwa8wn2"
      }
    },
    {
      "cell_type": "code",
      "source": [
        "df_original['IR medio']=df_original.groupby(['anno mese'])['IR%'].transform('mean')"
      ],
      "metadata": {
        "id": "WYibq3nq9Be0"
      },
      "execution_count": null,
      "outputs": []
    },
    {
      "cell_type": "code",
      "source": [
        "\n",
        "X = df[[\n",
        "            \"Channel_IG\",\n",
        "\n",
        "            \"Tipologia_Static\", \n",
        "            'numero post',\n",
        "            'Obiettivo_REACH',\n",
        "            'feed/dark_Dark',\n",
        "            'Giorni ON',\n",
        "            'budget medio'\n",
        "\n",
        "                        ]]\n",
        "y = df['CPM medio']\n"
      ],
      "metadata": {
        "id": "TG4aPzr08tWg"
      },
      "execution_count": null,
      "outputs": []
    },
    {
      "cell_type": "code",
      "source": [
        "n=len(df)\n",
        "\n",
        "# use scikit-learn's linear regression model to obtain the coefficient estimates\n",
        "from sklearn.linear_model import LinearRegression\n",
        "reg = LinearRegression().fit(X, y)\n",
        "\n",
        "\n",
        "\n",
        "\n",
        "beta_hat = [reg.intercept_] + reg.coef_.tolist()\n",
        "beta_hat\n",
        "\n",
        "# compute the p-values\n",
        "from scipy.stats import t\n",
        "# add ones column\n",
        "X1 = np.column_stack((np.ones(n), X))\n",
        "# standard deviation of the noise.\n",
        "sigma_hat = np.sqrt(np.sum(np.square(y - X1@beta_hat)) / (n - X1.shape[1]))\n",
        "# estimate the covariance matrix for beta \n",
        "beta_cov = np.linalg.inv(X1.T@X1)\n",
        "# the t-test statistic for each variable from the formula from above figure\n",
        "t_vals = beta_hat / (sigma_hat * np.sqrt(np.diagonal(beta_cov)))\n",
        "# compute 2-sided p-values.\n",
        "p_vals = t.sf(np.abs(t_vals), n-X1.shape[1])*2 \n",
        "#t_vals\n",
        "\n",
        "\n",
        "reg.coef_"
      ],
      "metadata": {
        "id": "9MfLVLIS8tWg"
      },
      "execution_count": null,
      "outputs": []
    },
    {
      "cell_type": "markdown",
      "source": [
        "Intercetta, \"Channel_IG\",  \"Tipologia_Static\",   'numero post', 'Obiettivo_REACH',  'Giorni ON'\n",
        "\n",
        "\n"
      ],
      "metadata": {
        "id": "YmK919ao8tWh"
      }
    },
    {
      "cell_type": "code",
      "source": [
        "p_vals \n"
      ],
      "metadata": {
        "id": "0LAtn_BW8tWh"
      },
      "execution_count": null,
      "outputs": []
    },
    {
      "cell_type": "code",
      "source": [
        "n=len(df)\n",
        "\n",
        "# use scikit-learn's linear regression model to obtain the coefficient estimates\n",
        "from sklearn.linear_model import LinearRegression\n",
        "reg = LinearRegression().fit(X, y)\n",
        "\n",
        "\n",
        "\n",
        "\n",
        "beta_hat = [reg.intercept_] + reg.coef_.tolist()\n",
        "beta_hat\n",
        "\n",
        "# compute the p-values\n",
        "from scipy.stats import t\n",
        "# add ones column\n",
        "X1 = np.column_stack((np.ones(n), X))\n",
        "# standard deviation of the noise.\n",
        "sigma_hat = np.sqrt(np.sum(np.square(y - X1@beta_hat)) / (n - X1.shape[1]))\n",
        "# estimate the covariance matrix for beta \n",
        "beta_cov = np.linalg.inv(X1.T@X1)\n",
        "# the t-test statistic for each variable from the formula from above figure\n",
        "t_vals = beta_hat / (sigma_hat * np.sqrt(np.diagonal(beta_cov)))\n",
        "# compute 2-sided p-values.\n",
        "p_vals = t.sf(np.abs(t_vals), n-X1.shape[1])*2 \n",
        "#t_vals\n",
        "\n",
        "\n",
        "reg.coef_"
      ],
      "metadata": {
        "id": "TZAouwEyzFt9"
      },
      "execution_count": null,
      "outputs": []
    },
    {
      "cell_type": "markdown",
      "source": [
        "Intercetta, \"Channel_IG\",  \"Tipologia_Static\",   'numero post', 'Obiettivo_REACH',  'Giorni ON'\n",
        "\n",
        "\n"
      ],
      "metadata": {
        "id": "-cNIsGhLBwAy"
      }
    },
    {
      "cell_type": "code",
      "source": [
        "p_vals \n"
      ],
      "metadata": {
        "id": "k5ozZU4PxYSs"
      },
      "execution_count": null,
      "outputs": []
    },
    {
      "cell_type": "markdown",
      "source": [],
      "metadata": {
        "id": "qaHVUlzgdywf"
      }
    },
    {
      "cell_type": "code",
      "source": [
        "df=df_original\n",
        "\n",
        "\n",
        "df['numero post'] = df.groupby('anno mese')['anno mese'].transform('count')\n",
        "df=pd.get_dummies(df, columns= {\"mese\", \"Channel\", \"post/stories\", \"Tipologia\", \"Obiettivo\", 'feed/dark'})\n"
      ],
      "metadata": {
        "id": "5rdUB_4Md3oH"
      },
      "execution_count": null,
      "outputs": []
    },
    {
      "cell_type": "code",
      "source": [
        "\n",
        "X = df[[    \"Channel_IG\",\n",
        "            \"Tipologia_Static\", \n",
        "            'numero post',\n",
        "\n",
        "            'Giorni ON'\n",
        "\n",
        "                        ]]\n",
        "y = df.CPM\n"
      ],
      "metadata": {
        "id": "eR246EJfdy7h"
      },
      "execution_count": null,
      "outputs": []
    },
    {
      "cell_type": "code",
      "source": [
        "n=len(df)\n",
        "\n",
        "# use scikit-learn's linear regression model to obtain the coefficient estimates\n",
        "from sklearn.linear_model import LinearRegression\n",
        "reg = LinearRegression().fit(X, y)\n",
        "\n",
        "\n",
        "\n",
        "\n",
        "beta_hat = [reg.intercept_] + reg.coef_.tolist()\n",
        "beta_hat\n",
        "\n",
        "# compute the p-values\n",
        "from scipy.stats import t\n",
        "# add ones column\n",
        "X1 = np.column_stack((np.ones(n), X))\n",
        "# standard deviation of the noise.\n",
        "sigma_hat = np.sqrt(np.sum(np.square(y - X1@beta_hat)) / (n - X1.shape[1]))\n",
        "# estimate the covariance matrix for beta \n",
        "beta_cov = np.linalg.inv(X1.T@X1)\n",
        "# the t-test statistic for each variable from the formula from above figure\n",
        "t_vals = beta_hat / (sigma_hat * np.sqrt(np.diagonal(beta_cov)))\n",
        "# compute 2-sided p-values.\n",
        "p_vals = t.sf(np.abs(t_vals), n-X1.shape[1])*2 \n",
        "#t_vals\n",
        "\n",
        "\n",
        "reg.coef_"
      ],
      "metadata": {
        "id": "5cjuBPcQd8cg"
      },
      "execution_count": null,
      "outputs": []
    },
    {
      "cell_type": "code",
      "source": [
        "p_vals \n"
      ],
      "metadata": {
        "id": "zLHd-tJgd-xN"
      },
      "execution_count": null,
      "outputs": []
    }
  ]
}